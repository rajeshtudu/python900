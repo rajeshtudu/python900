{
 "cells": [
  {
   "cell_type": "markdown",
   "id": "c8d4cc7c",
   "metadata": {},
   "source": [
    "# Can I replace letters in string by assigning values to it? --No (strings are immutabel)"
   ]
  },
  {
   "cell_type": "code",
   "execution_count": 1,
   "id": "aa60f9a6",
   "metadata": {},
   "outputs": [],
   "source": [
    "name = \"k$hitiz\""
   ]
  },
  {
   "cell_type": "code",
   "execution_count": 2,
   "id": "3cd27ee9",
   "metadata": {},
   "outputs": [
    {
     "data": {
      "text/plain": [
       "'k$hitiz'"
      ]
     },
     "execution_count": 2,
     "metadata": {},
     "output_type": "execute_result"
    }
   ],
   "source": [
    "name"
   ]
  },
  {
   "cell_type": "code",
   "execution_count": 4,
   "id": "4bd6c2fe",
   "metadata": {},
   "outputs": [
    {
     "ename": "TypeError",
     "evalue": "'str' object does not support item assignment",
     "output_type": "error",
     "traceback": [
      "\u001b[1;31m---------------------------------------------------------------------------\u001b[0m",
      "\u001b[1;31mTypeError\u001b[0m                                 Traceback (most recent call last)",
      "Cell \u001b[1;32mIn[4], line 1\u001b[0m\n\u001b[1;32m----> 1\u001b[0m \u001b[43mname\u001b[49m\u001b[43m[\u001b[49m\u001b[38;5;241;43m1\u001b[39;49m\u001b[43m]\u001b[49m \u001b[38;5;241m=\u001b[39m \u001b[38;5;124m'\u001b[39m\u001b[38;5;124ms\u001b[39m\u001b[38;5;124m'\u001b[39m\n",
      "\u001b[1;31mTypeError\u001b[0m: 'str' object does not support item assignment"
     ]
    }
   ],
   "source": [
    "name[1] = 's'"
   ]
  },
  {
   "cell_type": "code",
   "execution_count": 5,
   "id": "3e2f75f8",
   "metadata": {},
   "outputs": [
    {
     "data": {
      "text/plain": [
       "'k$hitiz'"
      ]
     },
     "execution_count": 5,
     "metadata": {},
     "output_type": "execute_result"
    }
   ],
   "source": [
    "name "
   ]
  },
  {
   "cell_type": "code",
   "execution_count": 6,
   "id": "966eb230",
   "metadata": {},
   "outputs": [
    {
     "data": {
      "text/plain": [
       "'kshitiz'"
      ]
     },
     "execution_count": 6,
     "metadata": {},
     "output_type": "execute_result"
    }
   ],
   "source": [
    "name.replace(\"$\", \"s\")"
   ]
  },
  {
   "cell_type": "code",
   "execution_count": 7,
   "id": "b66ea4e7",
   "metadata": {},
   "outputs": [
    {
     "data": {
      "text/plain": [
       "'k$hitiz'"
      ]
     },
     "execution_count": 7,
     "metadata": {},
     "output_type": "execute_result"
    }
   ],
   "source": [
    "name"
   ]
  },
  {
   "cell_type": "code",
   "execution_count": 8,
   "id": "85ed82b8",
   "metadata": {},
   "outputs": [],
   "source": [
    "name = name.replace(\"$\", 's')"
   ]
  },
  {
   "cell_type": "code",
   "execution_count": 9,
   "id": "ba5dea74",
   "metadata": {},
   "outputs": [
    {
     "data": {
      "text/plain": [
       "'kshitiz'"
      ]
     },
     "execution_count": 9,
     "metadata": {},
     "output_type": "execute_result"
    }
   ],
   "source": [
    "name"
   ]
  },
  {
   "cell_type": "code",
   "execution_count": 10,
   "id": "75811453",
   "metadata": {},
   "outputs": [],
   "source": [
    "name = \"K$hitiz$$\""
   ]
  },
  {
   "cell_type": "code",
   "execution_count": 11,
   "id": "ae29429a",
   "metadata": {},
   "outputs": [
    {
     "data": {
      "text/plain": [
       "'Kshitizss'"
      ]
     },
     "execution_count": 11,
     "metadata": {},
     "output_type": "execute_result"
    }
   ],
   "source": [
    "name.replace(\"$\", \"s\")"
   ]
  },
  {
   "cell_type": "code",
   "execution_count": 12,
   "id": "e67c4c95",
   "metadata": {},
   "outputs": [],
   "source": [
    "greet = \"Happy New Year\""
   ]
  },
  {
   "cell_type": "code",
   "execution_count": 13,
   "id": "ded781b1",
   "metadata": {},
   "outputs": [
    {
     "data": {
      "text/plain": [
       "'Fantastic New Year'"
      ]
     },
     "execution_count": 13,
     "metadata": {},
     "output_type": "execute_result"
    }
   ],
   "source": [
    "greet.replace(\"Happy\", \"Fantastic\")"
   ]
  },
  {
   "cell_type": "code",
   "execution_count": 14,
   "id": "d347cdc2",
   "metadata": {},
   "outputs": [],
   "source": [
    "data = \"Apple\""
   ]
  },
  {
   "cell_type": "code",
   "execution_count": 15,
   "id": "4659e853",
   "metadata": {},
   "outputs": [
    {
     "data": {
      "text/plain": [
       "'APPLE'"
      ]
     },
     "execution_count": 15,
     "metadata": {},
     "output_type": "execute_result"
    }
   ],
   "source": [
    "data.upper()"
   ]
  },
  {
   "cell_type": "code",
   "execution_count": 16,
   "id": "a996cc4a",
   "metadata": {},
   "outputs": [
    {
     "data": {
      "text/plain": [
       "'apple'"
      ]
     },
     "execution_count": 16,
     "metadata": {},
     "output_type": "execute_result"
    }
   ],
   "source": [
    "data.lower()"
   ]
  },
  {
   "cell_type": "code",
   "execution_count": 17,
   "id": "8728d91d",
   "metadata": {},
   "outputs": [
    {
     "data": {
      "text/plain": [
       "'Apple'"
      ]
     },
     "execution_count": 17,
     "metadata": {},
     "output_type": "execute_result"
    }
   ],
   "source": [
    "data"
   ]
  },
  {
   "cell_type": "markdown",
   "id": "71271dae",
   "metadata": {},
   "source": [
    "# .split()"
   ]
  },
  {
   "cell_type": "code",
   "execution_count": 18,
   "id": "9acd2447",
   "metadata": {},
   "outputs": [],
   "source": [
    "msg = \"Hi please reply.\""
   ]
  },
  {
   "cell_type": "code",
   "execution_count": 21,
   "id": "13ebbac9",
   "metadata": {},
   "outputs": [],
   "source": [
    "word = msg.split(\" \")"
   ]
  },
  {
   "cell_type": "code",
   "execution_count": 22,
   "id": "b3cfef1f",
   "metadata": {},
   "outputs": [
    {
     "data": {
      "text/plain": [
       "list"
      ]
     },
     "execution_count": 22,
     "metadata": {},
     "output_type": "execute_result"
    }
   ],
   "source": [
    "type(word)"
   ]
  },
  {
   "cell_type": "code",
   "execution_count": 23,
   "id": "8cd2339f",
   "metadata": {},
   "outputs": [
    {
     "data": {
      "text/plain": [
       "'Hi please reply.'"
      ]
     },
     "execution_count": 23,
     "metadata": {},
     "output_type": "execute_result"
    }
   ],
   "source": [
    "msg"
   ]
  },
  {
   "cell_type": "code",
   "execution_count": null,
   "id": "61b0bcc9",
   "metadata": {},
   "outputs": [],
   "source": []
  }
 ],
 "metadata": {
  "kernelspec": {
   "display_name": "Python 3 (ipykernel)",
   "language": "python",
   "name": "python3"
  },
  "language_info": {
   "codemirror_mode": {
    "name": "ipython",
    "version": 3
   },
   "file_extension": ".py",
   "mimetype": "text/x-python",
   "name": "python",
   "nbconvert_exporter": "python",
   "pygments_lexer": "ipython3",
   "version": "3.11.1"
  }
 },
 "nbformat": 4,
 "nbformat_minor": 5
}
