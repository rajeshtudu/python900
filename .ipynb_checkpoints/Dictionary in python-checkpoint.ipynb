{
 "cells": [
  {
   "cell_type": "markdown",
   "id": "a5f7f50e",
   "metadata": {},
   "source": [
    "# Dictionary\n",
    "\n",
    "* Dictionaries are used to store data values in key: value pairs\n",
    "* A dictionary is a collection which is ordered, changeable and do not allow duplicate keys"
   ]
  },
  {
   "cell_type": "markdown",
   "id": "af50f2f4",
   "metadata": {},
   "source": [
    "# creating empty dictionary"
   ]
  },
  {
   "cell_type": "code",
   "execution_count": 1,
   "id": "141f3535",
   "metadata": {},
   "outputs": [],
   "source": [
    "data = {}"
   ]
  },
  {
   "cell_type": "code",
   "execution_count": 2,
   "id": "5c635fa3",
   "metadata": {},
   "outputs": [
    {
     "data": {
      "text/plain": [
       "dict"
      ]
     },
     "execution_count": 2,
     "metadata": {},
     "output_type": "execute_result"
    }
   ],
   "source": [
    "type(data)"
   ]
  },
  {
   "cell_type": "code",
   "execution_count": 3,
   "id": "40089151",
   "metadata": {},
   "outputs": [],
   "source": [
    "# alternative way\n",
    "data1 = dict()"
   ]
  },
  {
   "cell_type": "code",
   "execution_count": 4,
   "id": "870c4c75",
   "metadata": {},
   "outputs": [
    {
     "data": {
      "text/plain": [
       "dict"
      ]
     },
     "execution_count": 4,
     "metadata": {},
     "output_type": "execute_result"
    }
   ],
   "source": [
    "type(data1)"
   ]
  },
  {
   "cell_type": "code",
   "execution_count": 5,
   "id": "3837bb5f",
   "metadata": {},
   "outputs": [
    {
     "data": {
      "text/plain": [
       "{}"
      ]
     },
     "execution_count": 5,
     "metadata": {},
     "output_type": "execute_result"
    }
   ],
   "source": [
    "data1"
   ]
  },
  {
   "cell_type": "markdown",
   "id": "53ff5705",
   "metadata": {},
   "source": [
    "# add key value pair in dictionary"
   ]
  },
  {
   "cell_type": "code",
   "execution_count": 6,
   "id": "f127925e",
   "metadata": {},
   "outputs": [],
   "source": [
    "country_capital = {}"
   ]
  },
  {
   "cell_type": "code",
   "execution_count": 7,
   "id": "784cc5d8",
   "metadata": {},
   "outputs": [
    {
     "data": {
      "text/plain": [
       "{}"
      ]
     },
     "execution_count": 7,
     "metadata": {},
     "output_type": "execute_result"
    }
   ],
   "source": [
    "country_capital"
   ]
  },
  {
   "cell_type": "code",
   "execution_count": 8,
   "id": "6cbc6831",
   "metadata": {},
   "outputs": [],
   "source": [
    "country_capital['Nepal'] = 'Kathmandu'"
   ]
  },
  {
   "cell_type": "code",
   "execution_count": 9,
   "id": "82736543",
   "metadata": {},
   "outputs": [
    {
     "data": {
      "text/plain": [
       "{'Nepal': 'Kathmandu'}"
      ]
     },
     "execution_count": 9,
     "metadata": {},
     "output_type": "execute_result"
    }
   ],
   "source": [
    "country_capital"
   ]
  },
  {
   "cell_type": "markdown",
   "id": "c76938ad",
   "metadata": {},
   "source": [
    "# syntax\n",
    "\n",
    "```python\n",
    "    {\n",
    "        key: value\n",
    "        \n",
    "    }\n",
    "\n",
    "```"
   ]
  },
  {
   "cell_type": "code",
   "execution_count": 10,
   "id": "a2e3a34e",
   "metadata": {},
   "outputs": [],
   "source": [
    "# other way to add key value pair in dictionary"
   ]
  },
  {
   "cell_type": "code",
   "execution_count": 12,
   "id": "be0b4732",
   "metadata": {},
   "outputs": [
    {
     "data": {
      "text/plain": [
       "{'Nepal': 'Kathmandu'}"
      ]
     },
     "execution_count": 12,
     "metadata": {},
     "output_type": "execute_result"
    }
   ],
   "source": [
    "country_capital"
   ]
  },
  {
   "cell_type": "code",
   "execution_count": 14,
   "id": "e2050ac6",
   "metadata": {},
   "outputs": [],
   "source": [
    "country_capital.update({'India': 'New Delhi'})"
   ]
  },
  {
   "cell_type": "code",
   "execution_count": 15,
   "id": "b0d19e57",
   "metadata": {},
   "outputs": [
    {
     "data": {
      "text/plain": [
       "{'Nepal': 'Kathmandu', 'India': 'New Delhi'}"
      ]
     },
     "execution_count": 15,
     "metadata": {},
     "output_type": "execute_result"
    }
   ],
   "source": [
    "country_capital"
   ]
  },
  {
   "cell_type": "code",
   "execution_count": 20,
   "id": "93d0e663",
   "metadata": {},
   "outputs": [],
   "source": [
    "country_capital['Bhutan'] = 'thimpu'"
   ]
  },
  {
   "cell_type": "code",
   "execution_count": 21,
   "id": "5bcf3ec9",
   "metadata": {},
   "outputs": [
    {
     "data": {
      "text/plain": [
       "{'Nepal': 'Kathmandu',\n",
       " 'India': 'New Delhi',\n",
       " 'Bhutan': 'thimpu',\n",
       " 'Srilanka': 'Colombo'}"
      ]
     },
     "execution_count": 21,
     "metadata": {},
     "output_type": "execute_result"
    }
   ],
   "source": [
    "country_capital"
   ]
  },
  {
   "cell_type": "code",
   "execution_count": 22,
   "id": "065abd7f",
   "metadata": {},
   "outputs": [],
   "source": [
    "country_capital.update({\"Srilanka\": \"Colombo\"})"
   ]
  },
  {
   "cell_type": "code",
   "execution_count": 23,
   "id": "771c99ee",
   "metadata": {},
   "outputs": [
    {
     "data": {
      "text/plain": [
       "{'Nepal': 'Kathmandu',\n",
       " 'India': 'New Delhi',\n",
       " 'Bhutan': 'thimpu',\n",
       " 'Srilanka': 'Colombo'}"
      ]
     },
     "execution_count": 23,
     "metadata": {},
     "output_type": "execute_result"
    }
   ],
   "source": [
    "country_capital"
   ]
  },
  {
   "cell_type": "code",
   "execution_count": 24,
   "id": "f6a9db2f",
   "metadata": {},
   "outputs": [],
   "source": [
    "# if already key value pair exists update() method updates the value of a key\n",
    "# if already key doesn't exist .update() method adds new key value pair in dictionary"
   ]
  },
  {
   "cell_type": "code",
   "execution_count": 25,
   "id": "7b50970b",
   "metadata": {},
   "outputs": [],
   "source": [
    "country_capital.update({\"Bhutan\": \"Thimpu\"})"
   ]
  },
  {
   "cell_type": "code",
   "execution_count": 26,
   "id": "1ca69fb3",
   "metadata": {},
   "outputs": [
    {
     "data": {
      "text/plain": [
       "{'Nepal': 'Kathmandu',\n",
       " 'India': 'New Delhi',\n",
       " 'Bhutan': 'Thimpu',\n",
       " 'Srilanka': 'Colombo'}"
      ]
     },
     "execution_count": 26,
     "metadata": {},
     "output_type": "execute_result"
    }
   ],
   "source": [
    "country_capital"
   ]
  },
  {
   "cell_type": "markdown",
   "id": "5b29e156",
   "metadata": {},
   "source": [
    "# How to access values of a key in dictionary"
   ]
  },
  {
   "cell_type": "code",
   "execution_count": 27,
   "id": "d9793c00",
   "metadata": {},
   "outputs": [
    {
     "data": {
      "text/plain": [
       "{'Nepal': 'Kathmandu',\n",
       " 'India': 'New Delhi',\n",
       " 'Bhutan': 'Thimpu',\n",
       " 'Srilanka': 'Colombo'}"
      ]
     },
     "execution_count": 27,
     "metadata": {},
     "output_type": "execute_result"
    }
   ],
   "source": [
    "country_capital"
   ]
  },
  {
   "cell_type": "code",
   "execution_count": 28,
   "id": "36b2a7f3",
   "metadata": {},
   "outputs": [],
   "source": [
    "# I want to find capital of Srilanka"
   ]
  },
  {
   "cell_type": "code",
   "execution_count": 29,
   "id": "06cb1cf3",
   "metadata": {},
   "outputs": [
    {
     "data": {
      "text/plain": [
       "'Colombo'"
      ]
     },
     "execution_count": 29,
     "metadata": {},
     "output_type": "execute_result"
    }
   ],
   "source": [
    "country_capital['Srilanka']"
   ]
  },
  {
   "cell_type": "code",
   "execution_count": 30,
   "id": "04dd27a6",
   "metadata": {},
   "outputs": [
    {
     "data": {
      "text/plain": [
       "'Kathmandu'"
      ]
     },
     "execution_count": 30,
     "metadata": {},
     "output_type": "execute_result"
    }
   ],
   "source": [
    "country_capital['Nepal']"
   ]
  },
  {
   "cell_type": "code",
   "execution_count": 31,
   "id": "ad23663e",
   "metadata": {},
   "outputs": [
    {
     "data": {
      "text/plain": [
       "'New Delhi'"
      ]
     },
     "execution_count": 31,
     "metadata": {},
     "output_type": "execute_result"
    }
   ],
   "source": [
    "country_capital['India']"
   ]
  },
  {
   "cell_type": "code",
   "execution_count": 32,
   "id": "23d05fea",
   "metadata": {},
   "outputs": [],
   "source": [
    "# alternative way"
   ]
  },
  {
   "cell_type": "code",
   "execution_count": 33,
   "id": "7cb0e2a4",
   "metadata": {},
   "outputs": [
    {
     "data": {
      "text/plain": [
       "'New Delhi'"
      ]
     },
     "execution_count": 33,
     "metadata": {},
     "output_type": "execute_result"
    }
   ],
   "source": [
    "country_capital.get(\"India\")"
   ]
  },
  {
   "cell_type": "code",
   "execution_count": 35,
   "id": "1e5a6ea5",
   "metadata": {},
   "outputs": [
    {
     "data": {
      "text/plain": [
       "'Thimpu'"
      ]
     },
     "execution_count": 35,
     "metadata": {},
     "output_type": "execute_result"
    }
   ],
   "source": [
    "country_capital.get(\"Bhutan\")"
   ]
  },
  {
   "cell_type": "code",
   "execution_count": 36,
   "id": "2420d8c9",
   "metadata": {},
   "outputs": [
    {
     "data": {
      "text/plain": [
       "'Kathmandu'"
      ]
     },
     "execution_count": 36,
     "metadata": {},
     "output_type": "execute_result"
    }
   ],
   "source": [
    "country_capital.get(\"Nepal\")"
   ]
  },
  {
   "cell_type": "markdown",
   "id": "9ecff1a9",
   "metadata": {},
   "source": [
    "# remove key value pair using pop() in dictionary"
   ]
  },
  {
   "cell_type": "code",
   "execution_count": 38,
   "id": "740ae4d8",
   "metadata": {},
   "outputs": [
    {
     "data": {
      "text/plain": [
       "'Thimpu'"
      ]
     },
     "execution_count": 38,
     "metadata": {},
     "output_type": "execute_result"
    }
   ],
   "source": [
    "country_capital.pop('Bhutan')"
   ]
  },
  {
   "cell_type": "code",
   "execution_count": 39,
   "id": "1b3822cf",
   "metadata": {},
   "outputs": [
    {
     "data": {
      "text/plain": [
       "{'Nepal': 'Kathmandu', 'India': 'New Delhi', 'Srilanka': 'Colombo'}"
      ]
     },
     "execution_count": 39,
     "metadata": {},
     "output_type": "execute_result"
    }
   ],
   "source": [
    "country_capital"
   ]
  },
  {
   "cell_type": "markdown",
   "id": "c7626521",
   "metadata": {},
   "source": [
    "# extract key values in dictionary"
   ]
  },
  {
   "cell_type": "code",
   "execution_count": 40,
   "id": "02fe6058",
   "metadata": {},
   "outputs": [
    {
     "data": {
      "text/plain": [
       "dict_keys(['Nepal', 'India', 'Srilanka'])"
      ]
     },
     "execution_count": 40,
     "metadata": {},
     "output_type": "execute_result"
    }
   ],
   "source": [
    "country_capital.keys()"
   ]
  },
  {
   "cell_type": "code",
   "execution_count": 41,
   "id": "1b295982",
   "metadata": {},
   "outputs": [
    {
     "data": {
      "text/plain": [
       "dict_values(['Kathmandu', 'New Delhi', 'Colombo'])"
      ]
     },
     "execution_count": 41,
     "metadata": {},
     "output_type": "execute_result"
    }
   ],
   "source": [
    "country_capital.values()"
   ]
  },
  {
   "cell_type": "code",
   "execution_count": 42,
   "id": "a25a1065",
   "metadata": {},
   "outputs": [
    {
     "data": {
      "text/plain": [
       "['Nepal', 'India', 'Srilanka']"
      ]
     },
     "execution_count": 42,
     "metadata": {},
     "output_type": "execute_result"
    }
   ],
   "source": [
    "list(country_capital.keys())"
   ]
  },
  {
   "cell_type": "code",
   "execution_count": 43,
   "id": "634bc7cc",
   "metadata": {},
   "outputs": [
    {
     "data": {
      "text/plain": [
       "['Kathmandu', 'New Delhi', 'Colombo']"
      ]
     },
     "execution_count": 43,
     "metadata": {},
     "output_type": "execute_result"
    }
   ],
   "source": [
    "list(country_capital.values())"
   ]
  },
  {
   "cell_type": "code",
   "execution_count": 46,
   "id": "93726a6d",
   "metadata": {},
   "outputs": [
    {
     "data": {
      "text/plain": [
       "dict_items([('Nepal', 'Kathmandu'), ('India', 'New Delhi'), ('Srilanka', 'Colombo')])"
      ]
     },
     "execution_count": 46,
     "metadata": {},
     "output_type": "execute_result"
    }
   ],
   "source": [
    "country_capital.items() # get key and value in list of tuple"
   ]
  },
  {
   "cell_type": "markdown",
   "id": "14bd9196",
   "metadata": {},
   "source": [
    "# Tuple unpacking"
   ]
  },
  {
   "cell_type": "code",
   "execution_count": 47,
   "id": "c95b2a94",
   "metadata": {},
   "outputs": [],
   "source": [
    "a, b = (88, 66)"
   ]
  },
  {
   "cell_type": "code",
   "execution_count": 48,
   "id": "ceabf25e",
   "metadata": {},
   "outputs": [
    {
     "data": {
      "text/plain": [
       "88"
      ]
     },
     "execution_count": 48,
     "metadata": {},
     "output_type": "execute_result"
    }
   ],
   "source": [
    "a"
   ]
  },
  {
   "cell_type": "code",
   "execution_count": 49,
   "id": "5afae371",
   "metadata": {},
   "outputs": [
    {
     "data": {
      "text/plain": [
       "66"
      ]
     },
     "execution_count": 49,
     "metadata": {},
     "output_type": "execute_result"
    }
   ],
   "source": [
    "b"
   ]
  },
  {
   "cell_type": "markdown",
   "id": "2891d6ec",
   "metadata": {},
   "source": [
    "# looping in dictionary"
   ]
  },
  {
   "cell_type": "code",
   "execution_count": 50,
   "id": "59a9792a",
   "metadata": {},
   "outputs": [],
   "source": [
    "about = {\n",
    "    'name': 'Kshitiz Regmi',\n",
    "    'teaches': ['Python', 'Data Science', 'Machine Learning', 'Deep Learning', 'AI'],\n",
    "    'at': 'Broadway Infosys',\n",
    "    'works': 'Fusemachines'\n",
    "}"
   ]
  },
  {
   "cell_type": "code",
   "execution_count": 51,
   "id": "630c20ee",
   "metadata": {},
   "outputs": [
    {
     "data": {
      "text/plain": [
       "{'name': 'Kshitiz Regmi',\n",
       " 'teaches': ['Python',\n",
       "  'Data Science',\n",
       "  'Machine Learning',\n",
       "  'Deep Learning',\n",
       "  'AI'],\n",
       " 'at': 'Broadway Infosys',\n",
       " 'works': 'Fusemachines'}"
      ]
     },
     "execution_count": 51,
     "metadata": {},
     "output_type": "execute_result"
    }
   ],
   "source": [
    "about"
   ]
  },
  {
   "cell_type": "code",
   "execution_count": 52,
   "id": "2d1a95bf",
   "metadata": {},
   "outputs": [
    {
     "data": {
      "text/plain": [
       "dict_items([('name', 'Kshitiz Regmi'), ('teaches', ['Python', 'Data Science', 'Machine Learning', 'Deep Learning', 'AI']), ('at', 'Broadway Infosys'), ('works', 'Fusemachines')])"
      ]
     },
     "execution_count": 52,
     "metadata": {},
     "output_type": "execute_result"
    }
   ],
   "source": [
    "about.items()"
   ]
  },
  {
   "cell_type": "code",
   "execution_count": 53,
   "id": "56870e28",
   "metadata": {},
   "outputs": [
    {
     "data": {
      "text/plain": [
       "dict_keys(['name', 'teaches', 'at', 'works'])"
      ]
     },
     "execution_count": 53,
     "metadata": {},
     "output_type": "execute_result"
    }
   ],
   "source": [
    "about.keys()"
   ]
  },
  {
   "cell_type": "code",
   "execution_count": 54,
   "id": "c569b6da",
   "metadata": {},
   "outputs": [
    {
     "data": {
      "text/plain": [
       "dict_values(['Kshitiz Regmi', ['Python', 'Data Science', 'Machine Learning', 'Deep Learning', 'AI'], 'Broadway Infosys', 'Fusemachines'])"
      ]
     },
     "execution_count": 54,
     "metadata": {},
     "output_type": "execute_result"
    }
   ],
   "source": [
    "about.values()"
   ]
  },
  {
   "cell_type": "code",
   "execution_count": 55,
   "id": "21aa5de0",
   "metadata": {},
   "outputs": [
    {
     "name": "stdout",
     "output_type": "stream",
     "text": [
      "The key is name and value is Kshitiz Regmi.\n",
      "The key is teaches and value is ['Python', 'Data Science', 'Machine Learning', 'Deep Learning', 'AI'].\n",
      "The key is at and value is Broadway Infosys.\n",
      "The key is works and value is Fusemachines.\n"
     ]
    }
   ],
   "source": [
    "for key, val in about.items():\n",
    "    print(f\"The key is {key} and value is {val}.\")"
   ]
  },
  {
   "cell_type": "markdown",
   "id": "12e457cc",
   "metadata": {},
   "source": [
    "# dictionary comprehension\n",
    "\n",
    "* wite a program to swap the key and value of given dictionary"
   ]
  },
  {
   "cell_type": "code",
   "execution_count": 56,
   "id": "5dc5e146",
   "metadata": {},
   "outputs": [],
   "source": [
    "data = {\n",
    "    1: 'One',\n",
    "    2: 'Two',\n",
    "    3: 'Three'\n",
    "}"
   ]
  },
  {
   "cell_type": "code",
   "execution_count": 57,
   "id": "fb5d568f",
   "metadata": {},
   "outputs": [
    {
     "data": {
      "text/plain": [
       "{1: 'One', 2: 'Two', 3: 'Three'}"
      ]
     },
     "execution_count": 57,
     "metadata": {},
     "output_type": "execute_result"
    }
   ],
   "source": [
    "data"
   ]
  },
  {
   "cell_type": "code",
   "execution_count": 60,
   "id": "6b33c663",
   "metadata": {},
   "outputs": [
    {
     "data": {
      "text/plain": [
       "{'One': 1, 'Two': 2, 'Three': 3}"
      ]
     },
     "execution_count": 60,
     "metadata": {},
     "output_type": "execute_result"
    }
   ],
   "source": [
    "{val:key for key, val in data.items()}"
   ]
  },
  {
   "cell_type": "markdown",
   "id": "0362b278",
   "metadata": {},
   "source": [
    "# float value can be a key in dictionary"
   ]
  },
  {
   "cell_type": "code",
   "execution_count": 62,
   "id": "a3ed3ffe",
   "metadata": {},
   "outputs": [],
   "source": [
    "d = {\n",
    "    3.1: ['Ram']\n",
    "}"
   ]
  },
  {
   "cell_type": "code",
   "execution_count": 63,
   "id": "51ad5d4b",
   "metadata": {},
   "outputs": [
    {
     "data": {
      "text/plain": [
       "['Ram']"
      ]
     },
     "execution_count": 63,
     "metadata": {},
     "output_type": "execute_result"
    }
   ],
   "source": [
    "d.get(3.1)"
   ]
  },
  {
   "cell_type": "markdown",
   "id": "1861a70b",
   "metadata": {},
   "source": [
    "# Nested dictionary"
   ]
  },
  {
   "cell_type": "code",
   "execution_count": 64,
   "id": "cbe3741b",
   "metadata": {},
   "outputs": [],
   "source": [
    "child = {\n",
    "    'child1': {'name': 'Ram', 'age': 30},\n",
    "    'child2': {'name': 'Gita'},\n",
    "    'child3': {'name': 'priya', 'gender': 'F'}\n",
    "}"
   ]
  },
  {
   "cell_type": "code",
   "execution_count": 65,
   "id": "fd9398db",
   "metadata": {},
   "outputs": [],
   "source": [
    "# I want to know the name of child3"
   ]
  },
  {
   "cell_type": "code",
   "execution_count": 66,
   "id": "b1fca0af",
   "metadata": {},
   "outputs": [
    {
     "data": {
      "text/plain": [
       "{'name': 'priya', 'gender': 'F'}"
      ]
     },
     "execution_count": 66,
     "metadata": {},
     "output_type": "execute_result"
    }
   ],
   "source": [
    "child['child3']"
   ]
  },
  {
   "cell_type": "code",
   "execution_count": 67,
   "id": "502d99e7",
   "metadata": {},
   "outputs": [
    {
     "data": {
      "text/plain": [
       "'priya'"
      ]
     },
     "execution_count": 67,
     "metadata": {},
     "output_type": "execute_result"
    }
   ],
   "source": [
    "child['child3']['name']"
   ]
  },
  {
   "cell_type": "code",
   "execution_count": 69,
   "id": "33d16b84",
   "metadata": {},
   "outputs": [
    {
     "data": {
      "text/plain": [
       "{'name': 'priya', 'gender': 'F'}"
      ]
     },
     "execution_count": 69,
     "metadata": {},
     "output_type": "execute_result"
    }
   ],
   "source": [
    "child.get('child3')"
   ]
  },
  {
   "cell_type": "code",
   "execution_count": 70,
   "id": "b5cf442f",
   "metadata": {},
   "outputs": [
    {
     "data": {
      "text/plain": [
       "'priya'"
      ]
     },
     "execution_count": 70,
     "metadata": {},
     "output_type": "execute_result"
    }
   ],
   "source": [
    "child.get('child3').get('name')"
   ]
  },
  {
   "cell_type": "code",
   "execution_count": null,
   "id": "07dd599f",
   "metadata": {},
   "outputs": [],
   "source": []
  }
 ],
 "metadata": {
  "kernelspec": {
   "display_name": "Python 3 (ipykernel)",
   "language": "python",
   "name": "python3"
  },
  "language_info": {
   "codemirror_mode": {
    "name": "ipython",
    "version": 3
   },
   "file_extension": ".py",
   "mimetype": "text/x-python",
   "name": "python",
   "nbconvert_exporter": "python",
   "pygments_lexer": "ipython3",
   "version": "3.11.1"
  }
 },
 "nbformat": 4,
 "nbformat_minor": 5
}
