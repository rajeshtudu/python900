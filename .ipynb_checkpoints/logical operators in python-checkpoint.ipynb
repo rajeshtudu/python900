{
 "cells": [
  {
   "cell_type": "code",
   "execution_count": 3,
   "id": "45d2bbd7",
   "metadata": {},
   "outputs": [
    {
     "name": "stdout",
     "output_type": "stream",
     "text": [
      "Enter your weight: 65\n",
      "Enter your height: 175\n",
      "You are Normal weight..\n"
     ]
    }
   ],
   "source": [
    "weight = int(input(\"Enter your weight: \"))\n",
    "height = int(input(\"Enter your height: \"))\n",
    "height_m = height / 100\n",
    "\n",
    "BMI = weight / height_m ** 2\n",
    "\n",
    "if BMI < 18.5:\n",
    "    print(\"You are Underweight...ali dherai khana paryo\")\n",
    "    \n",
    "elif BMI >= 18.5 and BMI <= 24.9:\n",
    "    print(\"You are Normal weight..\")\n",
    "    \n",
    "elif BMI >= 25 and BMI <=29.9:\n",
    "    print(\"You are Overweight... go to gym\")\n",
    "\n",
    "elif BMI == 30 or BMI > 30:\n",
    "    print(\"Damn... You are obese\")"
   ]
  },
  {
   "cell_type": "code",
   "execution_count": 4,
   "id": "e1fb4dcb",
   "metadata": {},
   "outputs": [
    {
     "data": {
      "text/plain": [
       "False"
      ]
     },
     "execution_count": 4,
     "metadata": {},
     "output_type": "execute_result"
    }
   ],
   "source": [
    "not True"
   ]
  },
  {
   "cell_type": "code",
   "execution_count": 5,
   "id": "bb92f7f0",
   "metadata": {},
   "outputs": [
    {
     "data": {
      "text/plain": [
       "True"
      ]
     },
     "execution_count": 5,
     "metadata": {},
     "output_type": "execute_result"
    }
   ],
   "source": [
    "not False"
   ]
  },
  {
   "cell_type": "code",
   "execution_count": 6,
   "id": "9abf4d91",
   "metadata": {},
   "outputs": [
    {
     "name": "stdout",
     "output_type": "stream",
     "text": [
      "if condition run\n"
     ]
    }
   ],
   "source": [
    "if not 10 == 5:\n",
    "    print(\"if condition run\")"
   ]
  },
  {
   "cell_type": "code",
   "execution_count": null,
   "id": "85ecf138",
   "metadata": {},
   "outputs": [],
   "source": []
  }
 ],
 "metadata": {
  "kernelspec": {
   "display_name": "Python 3 (ipykernel)",
   "language": "python",
   "name": "python3"
  },
  "language_info": {
   "codemirror_mode": {
    "name": "ipython",
    "version": 3
   },
   "file_extension": ".py",
   "mimetype": "text/x-python",
   "name": "python",
   "nbconvert_exporter": "python",
   "pygments_lexer": "ipython3",
   "version": "3.11.1"
  }
 },
 "nbformat": 4,
 "nbformat_minor": 5
}
