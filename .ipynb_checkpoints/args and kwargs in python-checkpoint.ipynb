{
 "cells": [
  {
   "cell_type": "code",
   "execution_count": 1,
   "id": "66afbaba",
   "metadata": {},
   "outputs": [],
   "source": [
    "# to provide variable length argument we use *args and **kwargs\n",
    "# *args and **kwargs are special keywords in python"
   ]
  },
  {
   "cell_type": "code",
   "execution_count": 2,
   "id": "87186cff",
   "metadata": {},
   "outputs": [],
   "source": [
    "def find_sum(*args): # args takes variable length in the form of tuple\n",
    "    print(type(args))\n",
    "    print(args)"
   ]
  },
  {
   "cell_type": "code",
   "execution_count": 3,
   "id": "9ea0edf5",
   "metadata": {},
   "outputs": [
    {
     "name": "stdout",
     "output_type": "stream",
     "text": [
      "<class 'tuple'>\n",
      "(1, 2, 3, 4, 5, 6, 7, 8, 9, 10)\n"
     ]
    }
   ],
   "source": [
    "find_sum(1,2,3,4,5,6,7,8,9,10) # supports variable length argument"
   ]
  },
  {
   "cell_type": "code",
   "execution_count": 5,
   "id": "da7ec33e",
   "metadata": {},
   "outputs": [
    {
     "name": "stdout",
     "output_type": "stream",
     "text": [
      "<class 'tuple'>\n",
      "(1, 2, 3, 9)\n"
     ]
    }
   ],
   "source": [
    "find_sum(1,2,3,9) # supports variable length argument"
   ]
  },
  {
   "cell_type": "code",
   "execution_count": 6,
   "id": "ec83cb9f",
   "metadata": {},
   "outputs": [],
   "source": [
    "def find_sum(*args):\n",
    "    total = 0\n",
    "    for item in args:\n",
    "        total = total + item\n",
    "    \n",
    "    return total"
   ]
  },
  {
   "cell_type": "code",
   "execution_count": 7,
   "id": "911010f1",
   "metadata": {},
   "outputs": [
    {
     "data": {
      "text/plain": [
       "55"
      ]
     },
     "execution_count": 7,
     "metadata": {},
     "output_type": "execute_result"
    }
   ],
   "source": [
    "total = find_sum(1,2,3,4,5,6,7,8,9,10)\n",
    "total"
   ]
  },
  {
   "cell_type": "markdown",
   "id": "f62d0d50",
   "metadata": {},
   "source": [
    "# kwargs"
   ]
  },
  {
   "cell_type": "code",
   "execution_count": 8,
   "id": "6cd69a87",
   "metadata": {},
   "outputs": [],
   "source": [
    "def describe(**kwargs):\n",
    "    print(type(kwargs))\n",
    "    print(kwargs)"
   ]
  },
  {
   "cell_type": "code",
   "execution_count": 9,
   "id": "c4653e47",
   "metadata": {},
   "outputs": [
    {
     "ename": "TypeError",
     "evalue": "describe() takes 0 positional arguments but 3 were given",
     "output_type": "error",
     "traceback": [
      "\u001b[1;31m---------------------------------------------------------------------------\u001b[0m",
      "\u001b[1;31mTypeError\u001b[0m                                 Traceback (most recent call last)",
      "Cell \u001b[1;32mIn[9], line 1\u001b[0m\n\u001b[1;32m----> 1\u001b[0m \u001b[43mdescribe\u001b[49m\u001b[43m(\u001b[49m\u001b[38;5;241;43m1\u001b[39;49m\u001b[43m,\u001b[49m\u001b[38;5;241;43m2\u001b[39;49m\u001b[43m,\u001b[49m\u001b[38;5;241;43m3\u001b[39;49m\u001b[43m)\u001b[49m\n",
      "\u001b[1;31mTypeError\u001b[0m: describe() takes 0 positional arguments but 3 were given"
     ]
    }
   ],
   "source": [
    "describe(1,2,3)"
   ]
  },
  {
   "cell_type": "code",
   "execution_count": 10,
   "id": "406d9ba7",
   "metadata": {},
   "outputs": [
    {
     "name": "stdout",
     "output_type": "stream",
     "text": [
      "<class 'dict'>\n",
      "{'name': 'Kshitiz', 'age': '25', 'teaches': ['ML', 'Python']}\n"
     ]
    }
   ],
   "source": [
    "describe(name = 'Kshitiz', age = '25', teaches = ['ML', 'Python'])"
   ]
  },
  {
   "cell_type": "code",
   "execution_count": null,
   "id": "586505de",
   "metadata": {},
   "outputs": [],
   "source": []
  }
 ],
 "metadata": {
  "kernelspec": {
   "display_name": "Python 3 (ipykernel)",
   "language": "python",
   "name": "python3"
  },
  "language_info": {
   "codemirror_mode": {
    "name": "ipython",
    "version": 3
   },
   "file_extension": ".py",
   "mimetype": "text/x-python",
   "name": "python",
   "nbconvert_exporter": "python",
   "pygments_lexer": "ipython3",
   "version": "3.11.1"
  }
 },
 "nbformat": 4,
 "nbformat_minor": 5
}
