{
 "cells": [
  {
   "cell_type": "markdown",
   "id": "5f9f3976",
   "metadata": {},
   "source": [
    "# The volume of a sphere with radius r is 4/3 pi r cube. What is the volume of sphere with radius 5?"
   ]
  },
  {
   "cell_type": "code",
   "execution_count": 9,
   "id": "2f294481",
   "metadata": {},
   "outputs": [
    {
     "name": "stdout",
     "output_type": "stream",
     "text": [
      "Enter radius: 55\n",
      "The volume of sphere is 523.33\n"
     ]
    }
   ],
   "source": [
    "PI = 3.14\n",
    "def volume_of_sphere(radius):\n",
    "    return 4 / 3 * PI * r ** 3\n",
    "\n",
    "radius = int(input(\"Enter radius: \"))\n",
    "volume = volume_of_sphere(radius)\n",
    "print(f\"The volume of sphere is {round(volume, 2)}\")"
   ]
  },
  {
   "cell_type": "markdown",
   "id": "8700cb9d",
   "metadata": {},
   "source": [
    "# How many seconds are there in 42 minutes 42 seconds"
   ]
  },
  {
   "cell_type": "code",
   "execution_count": 10,
   "id": "a1138195",
   "metadata": {},
   "outputs": [
    {
     "name": "stdout",
     "output_type": "stream",
     "text": [
      "There are 2562 seconds in 42 minutes 42 seconds.\n"
     ]
    }
   ],
   "source": [
    "def time(minute,second):\n",
    "    return minute * 60 + second\n",
    "\n",
    "total = time(minute = 42, second = 42)\n",
    "print(f\"There are {total} seconds in 42 minutes 42 seconds.\")"
   ]
  },
  {
   "cell_type": "markdown",
   "id": "86e65418",
   "metadata": {},
   "source": [
    "# How many miles are there in 10km?"
   ]
  },
  {
   "cell_type": "code",
   "execution_count": 12,
   "id": "1467309f",
   "metadata": {},
   "outputs": [
    {
     "name": "stdout",
     "output_type": "stream",
     "text": [
      "There are 6.22 in 10km.\n"
     ]
    }
   ],
   "source": [
    "def distance(km):\n",
    "    return km / 1.609\n",
    "\n",
    "miles = distance(km = 10)\n",
    "print(f\"There are {round(miles,2)} in 10km.\")"
   ]
  },
  {
   "cell_type": "markdown",
   "id": "ba672f90",
   "metadata": {},
   "source": [
    "# If you run a 10 kilometer race in 42 minutes 42 seconds, what is your average pace?"
   ]
  },
  {
   "cell_type": "code",
   "execution_count": 15,
   "id": "d10e3159",
   "metadata": {},
   "outputs": [
    {
     "name": "stdout",
     "output_type": "stream",
     "text": [
      "The average pace is 0.15.\n"
     ]
    }
   ],
   "source": [
    "def speed(distance, time):\n",
    "    return distance / time\n",
    "\n",
    "pace = speed(distance = 10 / 1.609, time = 42 + 42 / 60 )\n",
    "print(f\"The average pace is {round(pace,2)}.\")"
   ]
  },
  {
   "cell_type": "markdown",
   "id": "cc34f998",
   "metadata": {},
   "source": [
    "# write a program to check whether the last digit of a number (entered by user) is divisible by 3 or not."
   ]
  },
  {
   "cell_type": "code",
   "execution_count": 8,
   "id": "86499be7",
   "metadata": {},
   "outputs": [
    {
     "name": "stdout",
     "output_type": "stream",
     "text": [
      "Enter a number: 40\n",
      "The last digit of 40 is 0 is not divisible by 3.\n"
     ]
    }
   ],
   "source": [
    "def check(number):\n",
    "    return remainder % 3 == 0\n",
    "\n",
    "number = int(input(\"Enter a number: \"))\n",
    "remainder = number % 10\n",
    "\n",
    "if remainder != 0:\n",
    "    if check(number):\n",
    "        print(f\"The last digit of {number} is {remainder} is divisible by 3.\")\n",
    "    \n",
    "    else:\n",
    "        print(f\"The last digit of {number} is {remainder} is not divisible by 3.\")        \n",
    "\n",
    "else:\n",
    "    print(f\"The last digit of {number} is {remainder} is not divisible by 3.\")"
   ]
  },
  {
   "cell_type": "markdown",
   "id": "9b73283a",
   "metadata": {},
   "source": [
    "# Write a program to check whether person is eligible for voting or not.(accept age from user)\n"
   ]
  },
  {
   "cell_type": "code",
   "execution_count": 7,
   "id": "ee5a751e",
   "metadata": {},
   "outputs": [
    {
     "name": "stdout",
     "output_type": "stream",
     "text": [
      "Enter your age: 12\n",
      "You are not eligible to vote.\n"
     ]
    }
   ],
   "source": [
    "def vote(age):\n",
    "    return age >= 18\n",
    "\n",
    "age = int(input(\"Enter your age: \"))\n",
    "\n",
    "if vote(age):\n",
    "    print(\"You are eligible to vote.\")\n",
    "    \n",
    "else:\n",
    "    print(\"You are not eligible to vote.\")"
   ]
  },
  {
   "cell_type": "markdown",
   "id": "27d4fe0a",
   "metadata": {},
   "source": [
    "# Write a program to display \"Hello\" if a number entered by user is a multiple of five, otherwise print \"Bye\"."
   ]
  },
  {
   "cell_type": "code",
   "execution_count": 6,
   "id": "7ffc177e",
   "metadata": {},
   "outputs": [
    {
     "name": "stdout",
     "output_type": "stream",
     "text": [
      "Enter a number: 55\n",
      "Hello\n"
     ]
    }
   ],
   "source": [
    "def multiple_of_five(number):\n",
    "    return number % 5 == 0\n",
    "\n",
    "number = int(input(\"Enter a number: \"))\n",
    "\n",
    "if multiple_of_five(number):\n",
    "    print(\"Hello\")\n",
    "\n",
    "else:\n",
    "    print(\"Bye\")"
   ]
  },
  {
   "cell_type": "markdown",
   "id": "7f858cbc",
   "metadata": {},
   "source": [
    "# Using string manipulation technique Extract fruits name from txt\n",
    "txt = \"I like Orange Apple Banana and kiwi\""
   ]
  },
  {
   "cell_type": "code",
   "execution_count": 19,
   "id": "22be8d02",
   "metadata": {},
   "outputs": [
    {
     "name": "stdout",
     "output_type": "stream",
     "text": [
      "['orange', 'apple', 'banana', 'kiwi']\n"
     ]
    }
   ],
   "source": [
    "txt = 'I like Orange Apple Banana And Kiwi'\n",
    "def extraction(txt):\n",
    "    txt = txt.lower()\n",
    "    txt = txt.replace(\"i like\", \"\")\n",
    "    txt = txt.replace(\" and\", \"\")\n",
    "    return txt.replace(\".\",\"\").split()\n",
    "\n",
    "print(extraction(txt))"
   ]
  },
  {
   "cell_type": "markdown",
   "id": "e0a8f89c",
   "metadata": {},
   "source": [
    "# Write a program to check if the given number is positive or negative"
   ]
  },
  {
   "cell_type": "code",
   "execution_count": 24,
   "id": "82848b7c",
   "metadata": {},
   "outputs": [
    {
     "name": "stdout",
     "output_type": "stream",
     "text": [
      "Enter a number: -23\n",
      "The number is negative.\n"
     ]
    }
   ],
   "source": [
    "def positive_negative(num):\n",
    "    return num > 0\n",
    "\n",
    "num = int(input(\"Enter a number: \"))\n",
    "number = positive_negative(num)\n",
    "if number:\n",
    "    print(\"The number is positive.\")\n",
    "    \n",
    "else:\n",
    "    print(\"The number is negative.\")"
   ]
  },
  {
   "cell_type": "markdown",
   "id": "f9c88c35",
   "metadata": {},
   "source": [
    "# Arithmetic Operators in Python\n",
    "* Addition(+)\n",
    "* Subtraction(-)\n",
    "* Multiplication(*)\n",
    "* Division(/)\n",
    "* Modulus(%)\n",
    "* Exponential(**)\n",
    "* Floor Division(//)"
   ]
  },
  {
   "cell_type": "code",
   "execution_count": 34,
   "id": "d720f5e9",
   "metadata": {},
   "outputs": [
    {
     "name": "stdout",
     "output_type": "stream",
     "text": [
      "Enter first number: 55\n",
      "Enter second number: 66\n",
      "The sum of two numbers are 121.\n"
     ]
    }
   ],
   "source": [
    "def add(num1, num2):\n",
    "    return num1 + num2\n",
    "\n",
    "num1 = int(input(\"Enter first number: \"))\n",
    "num2 = int(input(\"Enter second number: \"))\n",
    "sum = add(num1, num2)\n",
    "print(f\"The sum of two numbers are {sum}.\")"
   ]
  },
  {
   "cell_type": "code",
   "execution_count": 35,
   "id": "9dc59e7c",
   "metadata": {},
   "outputs": [
    {
     "name": "stdout",
     "output_type": "stream",
     "text": [
      "Enter first number: 89\n",
      "Enter second number: 98\n",
      "The difference of two numbers are -9\n"
     ]
    }
   ],
   "source": [
    "def sub(num1, num2):\n",
    "    return num1 - num2\n",
    "\n",
    "num1 = int(input(\"Enter first number: \"))\n",
    "num2 = int(input(\"Enter second number: \"))\n",
    "diff = sub(num1, num2)\n",
    "print(f\"The difference of two numbers are {diff}\")"
   ]
  },
  {
   "cell_type": "code",
   "execution_count": 36,
   "id": "27115f82",
   "metadata": {},
   "outputs": [
    {
     "name": "stdout",
     "output_type": "stream",
     "text": [
      "Enter first number: 54\n",
      "Enter second number: 6\n",
      "The product of two numbers are 324.\n"
     ]
    }
   ],
   "source": [
    "def multiplication(num1, num2):\n",
    "    return num1 * num2\n",
    "\n",
    "num1 = int(input(\"Enter first number: \"))\n",
    "num2 = int(input(\"Enter second number: \"))\n",
    "multi = multiplication(num1, num2)\n",
    "print(f\"The product of two numbers are {multi}.\")"
   ]
  },
  {
   "cell_type": "code",
   "execution_count": null,
   "id": "0054d92b",
   "metadata": {},
   "outputs": [],
   "source": []
  }
 ],
 "metadata": {
  "kernelspec": {
   "display_name": "Python 3 (ipykernel)",
   "language": "python",
   "name": "python3"
  },
  "language_info": {
   "codemirror_mode": {
    "name": "ipython",
    "version": 3
   },
   "file_extension": ".py",
   "mimetype": "text/x-python",
   "name": "python",
   "nbconvert_exporter": "python",
   "pygments_lexer": "ipython3",
   "version": "3.11.1"
  }
 },
 "nbformat": 4,
 "nbformat_minor": 5
}
