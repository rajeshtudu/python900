{
 "cells": [
  {
   "cell_type": "markdown",
   "id": "d38017f4",
   "metadata": {},
   "source": [
    "# list is a collection of items under one variable name"
   ]
  },
  {
   "cell_type": "code",
   "execution_count": 1,
   "id": "600b9e50",
   "metadata": {},
   "outputs": [],
   "source": [
    "order = [\"Momo\", \"Samosa\", \"Chiyaa\", \"Roti Nan\"]"
   ]
  },
  {
   "cell_type": "code",
   "execution_count": 2,
   "id": "57eab791",
   "metadata": {},
   "outputs": [
    {
     "data": {
      "text/plain": [
       "list"
      ]
     },
     "execution_count": 2,
     "metadata": {},
     "output_type": "execute_result"
    }
   ],
   "source": [
    "type(order)"
   ]
  },
  {
   "cell_type": "markdown",
   "id": "6e98a454",
   "metadata": {},
   "source": [
    "# list supports multiple data type "
   ]
  },
  {
   "cell_type": "code",
   "execution_count": 3,
   "id": "d7169ccd",
   "metadata": {},
   "outputs": [],
   "source": [
    "l = [True, 20.5, 9, \"Kshitiz\"]"
   ]
  },
  {
   "cell_type": "code",
   "execution_count": 4,
   "id": "fae21287",
   "metadata": {},
   "outputs": [
    {
     "data": {
      "text/plain": [
       "[True, 20.5, 9, 'Kshitiz']"
      ]
     },
     "execution_count": 4,
     "metadata": {},
     "output_type": "execute_result"
    }
   ],
   "source": [
    "l"
   ]
  },
  {
   "cell_type": "markdown",
   "id": "77757113",
   "metadata": {},
   "source": [
    "# list supports duplicate"
   ]
  },
  {
   "cell_type": "code",
   "execution_count": 5,
   "id": "34d72883",
   "metadata": {},
   "outputs": [
    {
     "data": {
      "text/plain": [
       "['lux', 'Kit-Kat', 'Dal', 'lux']"
      ]
     },
     "execution_count": 5,
     "metadata": {},
     "output_type": "execute_result"
    }
   ],
   "source": [
    "[\"lux\", \"Kit-Kat\", \"Dal\", \"lux\"]"
   ]
  },
  {
   "cell_type": "markdown",
   "id": "d2167333",
   "metadata": {},
   "source": [
    "# list are ordered"
   ]
  },
  {
   "cell_type": "code",
   "execution_count": 6,
   "id": "359fd40d",
   "metadata": {},
   "outputs": [],
   "source": [
    "cars = ['Mercedes Benz', \"Rolls Royce\", 'Bugati', 'Lambo']"
   ]
  },
  {
   "cell_type": "code",
   "execution_count": 7,
   "id": "d4daaab4",
   "metadata": {},
   "outputs": [
    {
     "data": {
      "text/plain": [
       "['Mercedes Benz', 'Rolls Royce', 'Bugati', 'Lambo']"
      ]
     },
     "execution_count": 7,
     "metadata": {},
     "output_type": "execute_result"
    }
   ],
   "source": [
    "cars"
   ]
  },
  {
   "cell_type": "markdown",
   "id": "ee621fcd",
   "metadata": {},
   "source": [
    "# Indexing in list"
   ]
  },
  {
   "cell_type": "code",
   "execution_count": 8,
   "id": "85eea6cb",
   "metadata": {},
   "outputs": [
    {
     "data": {
      "text/plain": [
       "'Rolls Royce'"
      ]
     },
     "execution_count": 8,
     "metadata": {},
     "output_type": "execute_result"
    }
   ],
   "source": [
    "cars[1]"
   ]
  },
  {
   "cell_type": "code",
   "execution_count": 9,
   "id": "ea0eb285",
   "metadata": {},
   "outputs": [
    {
     "data": {
      "text/plain": [
       "'Mercedes Benz'"
      ]
     },
     "execution_count": 9,
     "metadata": {},
     "output_type": "execute_result"
    }
   ],
   "source": [
    "cars[0]"
   ]
  },
  {
   "cell_type": "code",
   "execution_count": 10,
   "id": "7fa5a582",
   "metadata": {},
   "outputs": [
    {
     "data": {
      "text/plain": [
       "'Bugati'"
      ]
     },
     "execution_count": 10,
     "metadata": {},
     "output_type": "execute_result"
    }
   ],
   "source": [
    "cars[2]"
   ]
  },
  {
   "cell_type": "code",
   "execution_count": 11,
   "id": "164cc3c4",
   "metadata": {},
   "outputs": [
    {
     "data": {
      "text/plain": [
       "'Lambo'"
      ]
     },
     "execution_count": 11,
     "metadata": {},
     "output_type": "execute_result"
    }
   ],
   "source": [
    "cars[3]"
   ]
  },
  {
   "cell_type": "markdown",
   "id": "22157b87",
   "metadata": {},
   "source": [
    "# slicing in python list"
   ]
  },
  {
   "cell_type": "code",
   "execution_count": 12,
   "id": "34480dee",
   "metadata": {},
   "outputs": [],
   "source": [
    "cars = ['Mercedes Benz', \n",
    "        \"Rolls Royce\", \n",
    "        'Bugati', \n",
    "        'Lambo', \n",
    "        'Audi',\n",
    "       \"Bently\"]"
   ]
  },
  {
   "cell_type": "code",
   "execution_count": 13,
   "id": "048b8e65",
   "metadata": {},
   "outputs": [
    {
     "data": {
      "text/plain": [
       "['Rolls Royce', 'Bugati', 'Lambo']"
      ]
     },
     "execution_count": 13,
     "metadata": {},
     "output_type": "execute_result"
    }
   ],
   "source": [
    "cars[1:4]"
   ]
  },
  {
   "cell_type": "code",
   "execution_count": 14,
   "id": "728525e8",
   "metadata": {},
   "outputs": [
    {
     "data": {
      "text/plain": [
       "['Mercedes Benz', 'Rolls Royce', 'Bugati']"
      ]
     },
     "execution_count": 14,
     "metadata": {},
     "output_type": "execute_result"
    }
   ],
   "source": [
    "cars[:3]"
   ]
  },
  {
   "cell_type": "code",
   "execution_count": 15,
   "id": "d4c97184",
   "metadata": {},
   "outputs": [
    {
     "data": {
      "text/plain": [
       "['Bugati', 'Lambo', 'Audi', 'Bently']"
      ]
     },
     "execution_count": 15,
     "metadata": {},
     "output_type": "execute_result"
    }
   ],
   "source": [
    "cars[2:]"
   ]
  },
  {
   "cell_type": "code",
   "execution_count": 17,
   "id": "9727f536",
   "metadata": {},
   "outputs": [
    {
     "data": {
      "text/plain": [
       "['Mercedes Benz', 'Rolls Royce', 'Bugati', 'Lambo', 'Audi']"
      ]
     },
     "execution_count": 17,
     "metadata": {},
     "output_type": "execute_result"
    }
   ],
   "source": [
    "cars[:5]"
   ]
  },
  {
   "cell_type": "code",
   "execution_count": 19,
   "id": "a1737a8e",
   "metadata": {},
   "outputs": [
    {
     "data": {
      "text/plain": [
       "['Rolls Royce', 'Lambo', 'Bently']"
      ]
     },
     "execution_count": 19,
     "metadata": {},
     "output_type": "execute_result"
    }
   ],
   "source": [
    "cars[1:6:2] # 2 step jump starting from 1 to 6(excluded)"
   ]
  },
  {
   "cell_type": "markdown",
   "id": "e198681d",
   "metadata": {},
   "source": [
    "# loops in list\n"
   ]
  },
  {
   "cell_type": "code",
   "execution_count": 21,
   "id": "da4a1054",
   "metadata": {},
   "outputs": [
    {
     "name": "stdout",
     "output_type": "stream",
     "text": [
      "Mercedes Benz is in index 0.\n",
      "Rolls Royce is in index 1.\n",
      "Bugati is in index 2.\n",
      "Lambo is in index 3.\n",
      "Audi is in index 4.\n",
      "Bently is in index 5.\n"
     ]
    }
   ],
   "source": [
    "cars = ['Mercedes Benz', \n",
    "        \"Rolls Royce\", \n",
    "        'Bugati', \n",
    "        'Lambo', \n",
    "        'Audi',\n",
    "       \"Bently\"]\n",
    "\n",
    "for index in range(len(cars)):\n",
    "    car = cars[index]\n",
    "    \n",
    "    print(f\"{car} is in index {index}.\")"
   ]
  },
  {
   "cell_type": "code",
   "execution_count": 22,
   "id": "aba5f13c",
   "metadata": {},
   "outputs": [
    {
     "name": "stdout",
     "output_type": "stream",
     "text": [
      "The fruit Apple is in index 0.\n",
      "The fruit Banana is in index 1.\n",
      "The fruit Grapes is in index 2.\n",
      "The fruit Orange is in index 3.\n",
      "The fruit Papaya is in index 4.\n",
      "The fruit Mango is in index 5.\n"
     ]
    }
   ],
   "source": [
    "fruits = ['Apple',\n",
    "         \"Banana\",\n",
    "         'Grapes',\n",
    "         \"Orange\",\n",
    "         \"Papaya\",\n",
    "         \"Mango\"]\n",
    "\n",
    "for index in range(len(fruits)):\n",
    "    fruit = fruits[index]\n",
    "    \n",
    "    print(f\"The fruit {fruit} is in index {index}.\")"
   ]
  },
  {
   "cell_type": "markdown",
   "id": "69086798",
   "metadata": {},
   "source": [
    "# alternative for loop"
   ]
  },
  {
   "cell_type": "code",
   "execution_count": 23,
   "id": "07180510",
   "metadata": {},
   "outputs": [
    {
     "name": "stdout",
     "output_type": "stream",
     "text": [
      "Apple\n",
      "Banana\n",
      "Grapes\n",
      "Orange\n",
      "Papaya\n",
      "Mango\n"
     ]
    }
   ],
   "source": [
    "fruits = ['Apple',\n",
    "         \"Banana\",\n",
    "         'Grapes',\n",
    "         \"Orange\",\n",
    "         \"Papaya\",\n",
    "         \"Mango\"]\n",
    "\n",
    "for item in fruits:\n",
    "    print(item)"
   ]
  },
  {
   "cell_type": "code",
   "execution_count": 24,
   "id": "81233fde",
   "metadata": {},
   "outputs": [
    {
     "name": "stdout",
     "output_type": "stream",
     "text": [
      "2\n",
      "34\n",
      "65\n",
      "88\n",
      "90\n",
      "100\n",
      "12\n",
      "23\n"
     ]
    }
   ],
   "source": [
    "nums = [2, 34, 65, 88, 90, 100, 12, 23]\n",
    "for number in nums:\n",
    "    print(number)"
   ]
  },
  {
   "cell_type": "code",
   "execution_count": 28,
   "id": "cb06c7ac",
   "metadata": {},
   "outputs": [
    {
     "name": "stdout",
     "output_type": "stream",
     "text": [
      "The mean is 51.75\n"
     ]
    }
   ],
   "source": [
    "nums = [2, 34, 65, 88, 90, 100, 12, 23]\n",
    "total = 0\n",
    "for number in nums:\n",
    "    total = total + number\n",
    "mean = total/len(nums)\n",
    "print(f\"The mean is {mean}\")"
   ]
  },
  {
   "cell_type": "code",
   "execution_count": 27,
   "id": "3a8ad113",
   "metadata": {},
   "outputs": [
    {
     "name": "stdout",
     "output_type": "stream",
     "text": [
      "The mean is 5.0\n"
     ]
    }
   ],
   "source": [
    "nums = [1, 2, 3, 4, 5, 6, 7, 8, 9]\n",
    "total = 0\n",
    "n = len(nums)\n",
    "for num in nums:\n",
    "    total = total + num\n",
    "mean = total/n\n",
    "print(f\"The mean is {mean}\")"
   ]
  },
  {
   "cell_type": "code",
   "execution_count": 30,
   "id": "cf5a35b9",
   "metadata": {},
   "outputs": [
    {
     "name": "stdout",
     "output_type": "stream",
     "text": [
      "The mean is 32.4\n"
     ]
    }
   ],
   "source": [
    "nums = [33, 2, 6, 44, 77]\n",
    "total = 0\n",
    "n = len(nums)\n",
    "\n",
    "for index in range(n):\n",
    "    number = nums[index]\n",
    "    total = total + number\n",
    "mean = total/n\n",
    "print(f\"The mean is {mean}\")"
   ]
  },
  {
   "cell_type": "code",
   "execution_count": 31,
   "id": "7cbc70bd",
   "metadata": {},
   "outputs": [
    {
     "name": "stdout",
     "output_type": "stream",
     "text": [
      "The mean is 5.0\n"
     ]
    }
   ],
   "source": [
    "nums = [1, 2, 3, 4, 5, 6, 7, 8, 9]\n",
    "total = 0\n",
    "n = len(nums)\n",
    "for index in range(n):\n",
    "    num = nums[index]\n",
    "    total = total + num\n",
    "mean = total/n\n",
    "print(f\"The mean is {mean}\")"
   ]
  },
  {
   "cell_type": "code",
   "execution_count": 32,
   "id": "9b6ee2ef",
   "metadata": {},
   "outputs": [
    {
     "name": "stdout",
     "output_type": "stream",
     "text": [
      "The mean is 47.2\n"
     ]
    }
   ],
   "source": [
    "scores = [20, 22, 59, 49, 27, 0, 62, 40, 58, 92, 36, 63, 75, 50, 73, 7, 49, 82, 1, 79]\n",
    "t = 0\n",
    "n = len(scores)\n",
    "\n",
    "for score in scores:\n",
    "    t = t + score\n",
    "mean = t / n\n",
    "print(f\"The mean is {mean}\")"
   ]
  },
  {
   "cell_type": "code",
   "execution_count": 33,
   "id": "90625fe0",
   "metadata": {},
   "outputs": [
    {
     "name": "stdout",
     "output_type": "stream",
     "text": [
      "The mean is 47.2\n"
     ]
    }
   ],
   "source": [
    "scores = [20, 22, 59, 49, 27, 0, 62, 40, 58, 92, 36, 63, 75, 50, 73, 7, 49, 82, 1, 79]\n",
    "t = 0\n",
    "n = len(scores)\n",
    "\n",
    "for index in range(n):\n",
    "    score = scores[index]\n",
    "    t = t + score\n",
    "mean = t / n\n",
    "print(f\"The mean is {mean}\")"
   ]
  },
  {
   "cell_type": "code",
   "execution_count": null,
   "id": "e7e97c41",
   "metadata": {},
   "outputs": [],
   "source": []
  }
 ],
 "metadata": {
  "kernelspec": {
   "display_name": "Python 3 (ipykernel)",
   "language": "python",
   "name": "python3"
  },
  "language_info": {
   "codemirror_mode": {
    "name": "ipython",
    "version": 3
   },
   "file_extension": ".py",
   "mimetype": "text/x-python",
   "name": "python",
   "nbconvert_exporter": "python",
   "pygments_lexer": "ipython3",
   "version": "3.11.1"
  }
 },
 "nbformat": 4,
 "nbformat_minor": 5
}
