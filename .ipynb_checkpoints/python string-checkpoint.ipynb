{
 "cells": [
  {
   "cell_type": "code",
   "execution_count": 1,
   "id": "d346ec01",
   "metadata": {},
   "outputs": [
    {
     "name": "stdout",
     "output_type": "stream",
     "text": [
      "Enter anything: hi\n",
      "<class 'str'>\n"
     ]
    }
   ],
   "source": [
    "data = input(\"Enter anything: \")\n",
    "print(type(data))"
   ]
  },
  {
   "cell_type": "code",
   "execution_count": 2,
   "id": "ef8cf21b",
   "metadata": {},
   "outputs": [
    {
     "data": {
      "text/plain": [
       "'hi'"
      ]
     },
     "execution_count": 2,
     "metadata": {},
     "output_type": "execute_result"
    }
   ],
   "source": [
    "data"
   ]
  },
  {
   "cell_type": "code",
   "execution_count": 3,
   "id": "107b1eba",
   "metadata": {},
   "outputs": [
    {
     "name": "stdout",
     "output_type": "stream",
     "text": [
      "Hello, World!\n"
     ]
    }
   ],
   "source": [
    "print(\"Hello, World!\")"
   ]
  },
  {
   "cell_type": "code",
   "execution_count": 4,
   "id": "36a3be1f",
   "metadata": {},
   "outputs": [
    {
     "name": "stdout",
     "output_type": "stream",
     "text": [
      "Hello, World!\n"
     ]
    }
   ],
   "source": [
    "print('Hello, World!')"
   ]
  },
  {
   "cell_type": "code",
   "execution_count": 6,
   "id": "7f7f3232",
   "metadata": {},
   "outputs": [
    {
     "data": {
      "text/plain": [
       "True"
      ]
     },
     "execution_count": 6,
     "metadata": {},
     "output_type": "execute_result"
    }
   ],
   "source": [
    "\"apple\" == \"apple\" # you can apply comparision operator on string"
   ]
  },
  {
   "cell_type": "code",
   "execution_count": 8,
   "id": "568f2cde",
   "metadata": {},
   "outputs": [
    {
     "data": {
      "text/plain": [
       "True"
      ]
     },
     "execution_count": 8,
     "metadata": {},
     "output_type": "execute_result"
    }
   ],
   "source": [
    "\"ball\" == 'ball' # double qoute and single quote in python are same"
   ]
  },
  {
   "cell_type": "markdown",
   "id": "7eb56e8a",
   "metadata": {},
   "source": [
    "# use assert to debug code in python"
   ]
  },
  {
   "cell_type": "code",
   "execution_count": 9,
   "id": "78906158",
   "metadata": {},
   "outputs": [],
   "source": [
    "a = 'hi'\n",
    "b = \"hi\""
   ]
  },
  {
   "cell_type": "code",
   "execution_count": 10,
   "id": "fc332549",
   "metadata": {},
   "outputs": [
    {
     "data": {
      "text/plain": [
       "True"
      ]
     },
     "execution_count": 10,
     "metadata": {},
     "output_type": "execute_result"
    }
   ],
   "source": [
    "a == b"
   ]
  },
  {
   "cell_type": "code",
   "execution_count": 11,
   "id": "8588b951",
   "metadata": {},
   "outputs": [],
   "source": [
    "assert a == b"
   ]
  },
  {
   "cell_type": "code",
   "execution_count": 12,
   "id": "8346c634",
   "metadata": {},
   "outputs": [],
   "source": [
    "a = 'Hi'\n",
    "b = 'hi'"
   ]
  },
  {
   "cell_type": "code",
   "execution_count": 13,
   "id": "cac27298",
   "metadata": {},
   "outputs": [
    {
     "ename": "AssertionError",
     "evalue": "",
     "output_type": "error",
     "traceback": [
      "\u001b[1;31m---------------------------------------------------------------------------\u001b[0m",
      "\u001b[1;31mAssertionError\u001b[0m                            Traceback (most recent call last)",
      "Cell \u001b[1;32mIn[13], line 1\u001b[0m\n\u001b[1;32m----> 1\u001b[0m \u001b[38;5;28;01massert\u001b[39;00m a \u001b[38;5;241m==\u001b[39m b\n",
      "\u001b[1;31mAssertionError\u001b[0m: "
     ]
    }
   ],
   "source": [
    "# if False raises AssertionError which is an exception\n",
    "assert a == b"
   ]
  },
  {
   "cell_type": "markdown",
   "id": "6b2654c6",
   "metadata": {},
   "source": [
    "# single line and multi line string"
   ]
  },
  {
   "cell_type": "code",
   "execution_count": 15,
   "id": "bbf68701",
   "metadata": {},
   "outputs": [
    {
     "data": {
      "text/plain": [
       "'Hi, Please reply.'"
      ]
     },
     "execution_count": 15,
     "metadata": {},
     "output_type": "execute_result"
    }
   ],
   "source": [
    "# single line string starts wiht single or double quotes\n",
    "msg = \"Hi, Please reply.\"\n",
    "msg"
   ]
  },
  {
   "cell_type": "code",
   "execution_count": 16,
   "id": "6214f5b1",
   "metadata": {},
   "outputs": [
    {
     "ename": "SyntaxError",
     "evalue": "unterminated string literal (detected at line 2) (1042908403.py, line 2)",
     "output_type": "error",
     "traceback": [
      "\u001b[1;36m  Cell \u001b[1;32mIn[16], line 2\u001b[1;36m\u001b[0m\n\u001b[1;33m    story = \"nira jaile risaune\u001b[0m\n\u001b[1;37m            ^\u001b[0m\n\u001b[1;31mSyntaxError\u001b[0m\u001b[1;31m:\u001b[0m unterminated string literal (detected at line 2)\n"
     ]
    }
   ],
   "source": [
    "# you cannot write multi line strings with single or double quotes\n",
    "story = \"nira jaile risaune\n",
    "kaile hola maya sanga \n",
    "maya misaune\""
   ]
  },
  {
   "cell_type": "code",
   "execution_count": 17,
   "id": "c5a946ec",
   "metadata": {},
   "outputs": [],
   "source": [
    "# write multi line string using triple quotes"
   ]
  },
  {
   "cell_type": "code",
   "execution_count": 19,
   "id": "4ed23e64",
   "metadata": {},
   "outputs": [],
   "source": [
    "geet = '''nira jaile risaune\n",
    "nira jaile risaune\n",
    "kaile hola maya sanga\n",
    "maya misaune\n",
    "'''"
   ]
  },
  {
   "cell_type": "code",
   "execution_count": 20,
   "id": "8d5f5993",
   "metadata": {},
   "outputs": [
    {
     "data": {
      "text/plain": [
       "'nira jaile risaune\\nnira jaile risaune\\nkaile hola maya sanga\\nmaya misaune\\n'"
      ]
     },
     "execution_count": 20,
     "metadata": {},
     "output_type": "execute_result"
    }
   ],
   "source": [
    "geet"
   ]
  },
  {
   "cell_type": "code",
   "execution_count": 21,
   "id": "e196bc2a",
   "metadata": {},
   "outputs": [
    {
     "name": "stdout",
     "output_type": "stream",
     "text": [
      "nira jaile risaune\n",
      "nira jaile risaune\n",
      "kaile hola maya sanga\n",
      "maya misaune\n",
      "\n"
     ]
    }
   ],
   "source": [
    "print(geet)"
   ]
  },
  {
   "cell_type": "code",
   "execution_count": 22,
   "id": "021be8c8",
   "metadata": {},
   "outputs": [],
   "source": [
    "geet = \"\"\"nira jaile risaune\n",
    "nira jaile risaune\n",
    "kaile hola maya sanga\n",
    "maya misaune\n",
    "\"\"\""
   ]
  },
  {
   "cell_type": "code",
   "execution_count": 23,
   "id": "961ac42a",
   "metadata": {},
   "outputs": [
    {
     "name": "stdout",
     "output_type": "stream",
     "text": [
      "nira jaile risaune\n",
      "nira jaile risaune\n",
      "kaile hola maya sanga\n",
      "maya misaune\n",
      "\n"
     ]
    }
   ],
   "source": [
    "print(geet)"
   ]
  },
  {
   "cell_type": "markdown",
   "id": "1fe9b1c8",
   "metadata": {},
   "source": [
    "# indexing in python string"
   ]
  },
  {
   "cell_type": "code",
   "execution_count": 25,
   "id": "1ca18276",
   "metadata": {},
   "outputs": [
    {
     "data": {
      "text/plain": [
       "'Hello World!'"
      ]
     },
     "execution_count": 25,
     "metadata": {},
     "output_type": "execute_result"
    }
   ],
   "source": [
    "s = \"Hello World!\"\n",
    "s"
   ]
  },
  {
   "cell_type": "code",
   "execution_count": 26,
   "id": "0edb3613",
   "metadata": {},
   "outputs": [
    {
     "data": {
      "text/plain": [
       "'e'"
      ]
     },
     "execution_count": 26,
     "metadata": {},
     "output_type": "execute_result"
    }
   ],
   "source": [
    "s[1]"
   ]
  },
  {
   "cell_type": "code",
   "execution_count": 27,
   "id": "38c23e64",
   "metadata": {},
   "outputs": [
    {
     "data": {
      "text/plain": [
       "'H'"
      ]
     },
     "execution_count": 27,
     "metadata": {},
     "output_type": "execute_result"
    }
   ],
   "source": [
    "s[0] # indexing always starts from 0"
   ]
  },
  {
   "cell_type": "code",
   "execution_count": 28,
   "id": "ad452d89",
   "metadata": {},
   "outputs": [
    {
     "data": {
      "text/plain": [
       "'W'"
      ]
     },
     "execution_count": 28,
     "metadata": {},
     "output_type": "execute_result"
    }
   ],
   "source": [
    "s[6]"
   ]
  },
  {
   "cell_type": "code",
   "execution_count": 29,
   "id": "7de0659c",
   "metadata": {},
   "outputs": [
    {
     "data": {
      "text/plain": [
       "'d'"
      ]
     },
     "execution_count": 29,
     "metadata": {},
     "output_type": "execute_result"
    }
   ],
   "source": [
    "s[10]"
   ]
  },
  {
   "cell_type": "code",
   "execution_count": 30,
   "id": "d9a35eac",
   "metadata": {},
   "outputs": [
    {
     "data": {
      "text/plain": [
       "'Hello World!'"
      ]
     },
     "execution_count": 30,
     "metadata": {},
     "output_type": "execute_result"
    }
   ],
   "source": [
    "s"
   ]
  },
  {
   "cell_type": "code",
   "execution_count": 31,
   "id": "7a972be6",
   "metadata": {},
   "outputs": [
    {
     "data": {
      "text/plain": [
       "12"
      ]
     },
     "execution_count": 31,
     "metadata": {},
     "output_type": "execute_result"
    }
   ],
   "source": [
    "len(s)"
   ]
  },
  {
   "cell_type": "code",
   "execution_count": 33,
   "id": "6f6b3feb",
   "metadata": {},
   "outputs": [
    {
     "ename": "IndexError",
     "evalue": "string index out of range",
     "output_type": "error",
     "traceback": [
      "\u001b[1;31m---------------------------------------------------------------------------\u001b[0m",
      "\u001b[1;31mIndexError\u001b[0m                                Traceback (most recent call last)",
      "Cell \u001b[1;32mIn[33], line 1\u001b[0m\n\u001b[1;32m----> 1\u001b[0m \u001b[43ms\u001b[49m\u001b[43m[\u001b[49m\u001b[38;5;241;43m13\u001b[39;49m\u001b[43m]\u001b[49m\n",
      "\u001b[1;31mIndexError\u001b[0m: string index out of range"
     ]
    }
   ],
   "source": [
    "s[13]"
   ]
  },
  {
   "cell_type": "markdown",
   "id": "68e71faf",
   "metadata": {},
   "source": [
    "# range(start, end, step)\n",
    "\n",
    "* start : default value 0 (optional)\n",
    "* end : required\n",
    "* step : step size (default 1) optional"
   ]
  },
  {
   "cell_type": "code",
   "execution_count": 34,
   "id": "1eb6dd6a",
   "metadata": {},
   "outputs": [
    {
     "name": "stdout",
     "output_type": "stream",
     "text": [
      "0\n",
      "1\n",
      "2\n",
      "3\n",
      "4\n",
      "5\n",
      "6\n",
      "7\n",
      "8\n",
      "9\n",
      "10\n"
     ]
    }
   ],
   "source": [
    "for index in range(0, 11, 1):\n",
    "    print(index)"
   ]
  },
  {
   "cell_type": "code",
   "execution_count": 35,
   "id": "faf9cbf3",
   "metadata": {},
   "outputs": [
    {
     "name": "stdout",
     "output_type": "stream",
     "text": [
      "0\n",
      "2\n",
      "4\n",
      "6\n",
      "8\n",
      "10\n"
     ]
    }
   ],
   "source": [
    "for index in range(0, 11, 2):\n",
    "    print(index)"
   ]
  },
  {
   "cell_type": "code",
   "execution_count": 36,
   "id": "ae6ad454",
   "metadata": {},
   "outputs": [
    {
     "name": "stdout",
     "output_type": "stream",
     "text": [
      "15\n",
      "16\n",
      "17\n",
      "18\n",
      "19\n",
      "20\n",
      "21\n",
      "22\n",
      "23\n",
      "24\n",
      "25\n"
     ]
    }
   ],
   "source": [
    "for index in range(15, 26, 1):\n",
    "    print(index)"
   ]
  },
  {
   "cell_type": "code",
   "execution_count": 37,
   "id": "696645d8",
   "metadata": {},
   "outputs": [],
   "source": [
    "s = 'hello world'"
   ]
  },
  {
   "cell_type": "code",
   "execution_count": 39,
   "id": "ff671749",
   "metadata": {},
   "outputs": [
    {
     "data": {
      "text/plain": [
       "11"
      ]
     },
     "execution_count": 39,
     "metadata": {},
     "output_type": "execute_result"
    }
   ],
   "source": [
    "len(s)"
   ]
  },
  {
   "cell_type": "code",
   "execution_count": 43,
   "id": "63a04e90",
   "metadata": {},
   "outputs": [
    {
     "name": "stdout",
     "output_type": "stream",
     "text": [
      "The letter h is in index 0\n",
      "The letter e is in index 1\n",
      "The letter l is in index 2\n",
      "The letter l is in index 3\n",
      "The letter o is in index 4\n",
      "The letter   is in index 5\n",
      "The letter w is in index 6\n",
      "The letter o is in index 7\n",
      "The letter r is in index 8\n",
      "The letter l is in index 9\n",
      "The letter d is in index 10\n"
     ]
    }
   ],
   "source": [
    "for index in range(0, len(s), 1):\n",
    "    letter = s[index]\n",
    "    print(f\"The letter {letter} is in index {index}\")"
   ]
  },
  {
   "cell_type": "code",
   "execution_count": 46,
   "id": "5b9c83ec",
   "metadata": {},
   "outputs": [
    {
     "name": "stdout",
     "output_type": "stream",
     "text": [
      "The letter b is in index 0\n",
      "The letter a is in index 1\n",
      "The letter n is in index 2\n",
      "The letter a is in index 3\n",
      "The letter n is in index 4\n",
      "The letter a is in index 5\n"
     ]
    }
   ],
   "source": [
    "b = \"banana\"\n",
    "for index in range(0, len(b), 1):\n",
    "    print(f\"The letter {b[index]} is in index {index}\")"
   ]
  },
  {
   "cell_type": "code",
   "execution_count": 49,
   "id": "b0e459c2",
   "metadata": {},
   "outputs": [
    {
     "name": "stdout",
     "output_type": "stream",
     "text": [
      "The letter d is in index 10\n",
      "The letter l is in index 9\n",
      "The letter r is in index 8\n",
      "The letter o is in index 7\n",
      "The letter w is in index 6\n",
      "The letter   is in index 5\n",
      "The letter o is in index 4\n",
      "The letter l is in index 3\n",
      "The letter l is in index 2\n",
      "The letter e is in index 1\n",
      "The letter h is in index 0\n"
     ]
    }
   ],
   "source": [
    "s = 'hello world'\n",
    "for index in range(len(s)-1, -1, -1):\n",
    "    print(f\"The letter {s[index]} is in index {index}\")"
   ]
  },
  {
   "cell_type": "code",
   "execution_count": 50,
   "id": "cd0d9f85",
   "metadata": {},
   "outputs": [
    {
     "name": "stdout",
     "output_type": "stream",
     "text": [
      "The letter d is in index 10\n",
      "The letter l is in index 9\n",
      "The letter r is in index 8\n",
      "The letter o is in index 7\n",
      "The letter w is in index 6\n",
      "The letter   is in index 5\n",
      "The letter o is in index 4\n",
      "The letter l is in index 3\n",
      "The letter l is in index 2\n",
      "The letter e is in index 1\n",
      "The letter h is in index 0\n"
     ]
    }
   ],
   "source": [
    "s = 'hello world'\n",
    "start = len(s) - 1\n",
    "end = -1\n",
    "step = -1\n",
    "for index in range(start, end, step):\n",
    "    letter = s[index]\n",
    "    print(f\"The letter {letter} is in index {index}\")"
   ]
  },
  {
   "cell_type": "code",
   "execution_count": 51,
   "id": "5cfc1ead",
   "metadata": {},
   "outputs": [
    {
     "name": "stdout",
     "output_type": "stream",
     "text": [
      "The letter o is in index 4\n",
      "The letter g is in index 3\n",
      "The letter n is in index 2\n",
      "The letter a is in index 1\n",
      "The letter m is in index 0\n"
     ]
    }
   ],
   "source": [
    "m = \"mango\"\n",
    "for index in range(len(m)-1, -1, -1):\n",
    "    print(f\"The letter {m[index]} is in index {index}\")"
   ]
  }
 ],
 "metadata": {
  "kernelspec": {
   "display_name": "Python 3 (ipykernel)",
   "language": "python",
   "name": "python3"
  },
  "language_info": {
   "codemirror_mode": {
    "name": "ipython",
    "version": 3
   },
   "file_extension": ".py",
   "mimetype": "text/x-python",
   "name": "python",
   "nbconvert_exporter": "python",
   "pygments_lexer": "ipython3",
   "version": "3.11.1"
  }
 },
 "nbformat": 4,
 "nbformat_minor": 5
}
