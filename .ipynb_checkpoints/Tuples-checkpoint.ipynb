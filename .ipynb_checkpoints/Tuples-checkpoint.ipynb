{
 "cells": [
  {
   "cell_type": "code",
   "execution_count": 8,
   "id": "6d309d35",
   "metadata": {},
   "outputs": [],
   "source": [
    "car = ('Tesla', 'Mercedes', 'Audi', 'Bently', 'Tesla')"
   ]
  },
  {
   "cell_type": "code",
   "execution_count": 9,
   "id": "805dee95",
   "metadata": {},
   "outputs": [
    {
     "data": {
      "text/plain": [
       "('Tesla', 'Mercedes', 'Audi', 'Bently', 'Tesla')"
      ]
     },
     "execution_count": 9,
     "metadata": {},
     "output_type": "execute_result"
    }
   ],
   "source": [
    "car"
   ]
  },
  {
   "cell_type": "code",
   "execution_count": 10,
   "id": "9f786115",
   "metadata": {},
   "outputs": [
    {
     "data": {
      "text/plain": [
       "'Tesla'"
      ]
     },
     "execution_count": 10,
     "metadata": {},
     "output_type": "execute_result"
    }
   ],
   "source": [
    "car[0] # indexing"
   ]
  },
  {
   "cell_type": "code",
   "execution_count": 11,
   "id": "f7d87805",
   "metadata": {},
   "outputs": [
    {
     "data": {
      "text/plain": [
       "'Tesla'"
      ]
     },
     "execution_count": 11,
     "metadata": {},
     "output_type": "execute_result"
    }
   ],
   "source": [
    "car[-1] # negative indexing"
   ]
  },
  {
   "cell_type": "code",
   "execution_count": 12,
   "id": "38be5467",
   "metadata": {},
   "outputs": [
    {
     "data": {
      "text/plain": [
       "('Mercedes', 'Audi', 'Bently', 'Tesla')"
      ]
     },
     "execution_count": 12,
     "metadata": {},
     "output_type": "execute_result"
    }
   ],
   "source": [
    "car[1:] # slicing"
   ]
  },
  {
   "cell_type": "code",
   "execution_count": 13,
   "id": "baebfd74",
   "metadata": {},
   "outputs": [
    {
     "data": {
      "text/plain": [
       "('Tesla', 'Mercedes', 'Audi')"
      ]
     },
     "execution_count": 13,
     "metadata": {},
     "output_type": "execute_result"
    }
   ],
   "source": [
    "car[:3]"
   ]
  },
  {
   "cell_type": "code",
   "execution_count": 14,
   "id": "f76d0ecb",
   "metadata": {},
   "outputs": [
    {
     "data": {
      "text/plain": [
       "('Tesla', 'Bently', 'Audi', 'Mercedes', 'Tesla')"
      ]
     },
     "execution_count": 14,
     "metadata": {},
     "output_type": "execute_result"
    }
   ],
   "source": [
    "car[::-1]"
   ]
  },
  {
   "cell_type": "code",
   "execution_count": 15,
   "id": "137a7402",
   "metadata": {},
   "outputs": [],
   "source": [
    "# tuples: immutable, ordered, allows duplicate value, allows multiple data"
   ]
  },
  {
   "cell_type": "code",
   "execution_count": 16,
   "id": "59ad87d8",
   "metadata": {},
   "outputs": [
    {
     "ename": "TypeError",
     "evalue": "'tuple' object does not support item assignment",
     "output_type": "error",
     "traceback": [
      "\u001b[1;31m---------------------------------------------------------------------------\u001b[0m",
      "\u001b[1;31mTypeError\u001b[0m                                 Traceback (most recent call last)",
      "Cell \u001b[1;32mIn[16], line 1\u001b[0m\n\u001b[1;32m----> 1\u001b[0m \u001b[43mcar\u001b[49m\u001b[43m[\u001b[49m\u001b[38;5;241;43m0\u001b[39;49m\u001b[43m]\u001b[49m \u001b[38;5;241m=\u001b[39m \u001b[38;5;124m'\u001b[39m\u001b[38;5;124mBugati\u001b[39m\u001b[38;5;124m'\u001b[39m\n",
      "\u001b[1;31mTypeError\u001b[0m: 'tuple' object does not support item assignment"
     ]
    }
   ],
   "source": [
    "car[0] = 'Bugati'"
   ]
  },
  {
   "cell_type": "markdown",
   "id": "1cb31ac8",
   "metadata": {},
   "source": [
    "# collect even and odd numbers in a list from tuple "
   ]
  },
  {
   "cell_type": "code",
   "execution_count": 21,
   "id": "f81e0de0",
   "metadata": {},
   "outputs": [
    {
     "name": "stdout",
     "output_type": "stream",
     "text": [
      "[88, 6] [9, 5]\n"
     ]
    }
   ],
   "source": [
    "data = (88, 9, 5, 6)\n",
    "even = []\n",
    "odd = []\n",
    "for number in data:\n",
    "    if number % 2 == 0:\n",
    "        even.append(number)\n",
    "    \n",
    "    else:\n",
    "        odd.append(number)\n",
    "        \n",
    "print(even, odd)"
   ]
  },
  {
   "cell_type": "markdown",
   "id": "c1e8184a",
   "metadata": {},
   "source": [
    "# we cannot change, add or remove items after the tuple has been created but type conversion to list can make it happen"
   ]
  },
  {
   "cell_type": "code",
   "execution_count": 22,
   "id": "4ac166d7",
   "metadata": {},
   "outputs": [],
   "source": [
    "car = ('Tesla', 'Mercedes', 'Audi', 'Bently', 'Tesla')"
   ]
  },
  {
   "cell_type": "code",
   "execution_count": 23,
   "id": "e687b757",
   "metadata": {},
   "outputs": [
    {
     "data": {
      "text/plain": [
       "tuple"
      ]
     },
     "execution_count": 23,
     "metadata": {},
     "output_type": "execute_result"
    }
   ],
   "source": [
    "type(car)"
   ]
  },
  {
   "cell_type": "code",
   "execution_count": 24,
   "id": "d7d16427",
   "metadata": {},
   "outputs": [],
   "source": [
    "car = list(car)"
   ]
  },
  {
   "cell_type": "code",
   "execution_count": 25,
   "id": "25aa74b1",
   "metadata": {},
   "outputs": [
    {
     "data": {
      "text/plain": [
       "list"
      ]
     },
     "execution_count": 25,
     "metadata": {},
     "output_type": "execute_result"
    }
   ],
   "source": [
    "type(car)"
   ]
  },
  {
   "cell_type": "code",
   "execution_count": 26,
   "id": "5edb50ba",
   "metadata": {},
   "outputs": [],
   "source": [
    "car.append('Ferrari')"
   ]
  },
  {
   "cell_type": "code",
   "execution_count": 27,
   "id": "29d58708",
   "metadata": {},
   "outputs": [
    {
     "data": {
      "text/plain": [
       "['Tesla', 'Mercedes', 'Audi', 'Bently', 'Tesla', 'Ferrari']"
      ]
     },
     "execution_count": 27,
     "metadata": {},
     "output_type": "execute_result"
    }
   ],
   "source": [
    "car"
   ]
  },
  {
   "cell_type": "code",
   "execution_count": 28,
   "id": "525644b2",
   "metadata": {},
   "outputs": [],
   "source": [
    "car = tuple(car)"
   ]
  },
  {
   "cell_type": "code",
   "execution_count": 29,
   "id": "125c8721",
   "metadata": {},
   "outputs": [
    {
     "data": {
      "text/plain": [
       "('Tesla', 'Mercedes', 'Audi', 'Bently', 'Tesla', 'Ferrari')"
      ]
     },
     "execution_count": 29,
     "metadata": {},
     "output_type": "execute_result"
    }
   ],
   "source": [
    "car"
   ]
  },
  {
   "cell_type": "code",
   "execution_count": null,
   "id": "ae0d6cf5",
   "metadata": {},
   "outputs": [],
   "source": []
  }
 ],
 "metadata": {
  "kernelspec": {
   "display_name": "Python 3 (ipykernel)",
   "language": "python",
   "name": "python3"
  },
  "language_info": {
   "codemirror_mode": {
    "name": "ipython",
    "version": 3
   },
   "file_extension": ".py",
   "mimetype": "text/x-python",
   "name": "python",
   "nbconvert_exporter": "python",
   "pygments_lexer": "ipython3",
   "version": "3.11.1"
  }
 },
 "nbformat": 4,
 "nbformat_minor": 5
}
