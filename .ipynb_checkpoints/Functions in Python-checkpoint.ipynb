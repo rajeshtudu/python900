{
 "cells": [
  {
   "cell_type": "code",
   "execution_count": 1,
   "id": "dfe3795c",
   "metadata": {},
   "outputs": [],
   "source": [
    "def add_number():\n",
    "    a = 5\n",
    "    b = 9\n",
    "    c = a + b\n",
    "    print(c)"
   ]
  },
  {
   "cell_type": "code",
   "execution_count": 2,
   "id": "47a89e56",
   "metadata": {},
   "outputs": [
    {
     "name": "stdout",
     "output_type": "stream",
     "text": [
      "14\n"
     ]
    }
   ],
   "source": [
    "add_number()"
   ]
  },
  {
   "cell_type": "code",
   "execution_count": 3,
   "id": "90af1ef9",
   "metadata": {},
   "outputs": [
    {
     "name": "stdout",
     "output_type": "stream",
     "text": [
      "14\n"
     ]
    }
   ],
   "source": [
    "add_number()"
   ]
  },
  {
   "cell_type": "code",
   "execution_count": 4,
   "id": "5ef16817",
   "metadata": {},
   "outputs": [],
   "source": [
    "def add_number(a, b):\n",
    "    c = a + b\n",
    "    print(c)"
   ]
  },
  {
   "cell_type": "code",
   "execution_count": 6,
   "id": "f55f9ea0",
   "metadata": {},
   "outputs": [
    {
     "name": "stdout",
     "output_type": "stream",
     "text": [
      "57\n"
     ]
    }
   ],
   "source": [
    "add_number(2, 55)"
   ]
  },
  {
   "cell_type": "code",
   "execution_count": 7,
   "id": "f2298fee",
   "metadata": {},
   "outputs": [
    {
     "name": "stdout",
     "output_type": "stream",
     "text": [
      "-94\n"
     ]
    }
   ],
   "source": [
    "add_number(5, -99)"
   ]
  },
  {
   "cell_type": "code",
   "execution_count": 8,
   "id": "1e5f655c",
   "metadata": {},
   "outputs": [
    {
     "name": "stdout",
     "output_type": "stream",
     "text": [
      "6\n"
     ]
    }
   ],
   "source": [
    "add_number(3, 3)"
   ]
  },
  {
   "cell_type": "code",
   "execution_count": 9,
   "id": "f45d446e",
   "metadata": {},
   "outputs": [
    {
     "name": "stdout",
     "output_type": "stream",
     "text": [
      "9\n"
     ]
    }
   ],
   "source": [
    "add_number(a = 4, b = 5) # preferred and best way"
   ]
  },
  {
   "cell_type": "markdown",
   "id": "5ebe4806",
   "metadata": {},
   "source": [
    "# return statement"
   ]
  },
  {
   "cell_type": "code",
   "execution_count": 10,
   "id": "8b66b9ec",
   "metadata": {},
   "outputs": [
    {
     "name": "stdout",
     "output_type": "stream",
     "text": [
      "5\n"
     ]
    }
   ],
   "source": [
    "total = add_number(a = 2, b = 3)"
   ]
  },
  {
   "cell_type": "code",
   "execution_count": 11,
   "id": "cd22c431",
   "metadata": {},
   "outputs": [
    {
     "name": "stdout",
     "output_type": "stream",
     "text": [
      "None\n"
     ]
    }
   ],
   "source": [
    "print(total)"
   ]
  },
  {
   "cell_type": "code",
   "execution_count": 12,
   "id": "3c79c8a7",
   "metadata": {},
   "outputs": [],
   "source": [
    "def add_number(a, b): # a, b are arguments or parameters\n",
    "    c = a + b\n",
    "    return c  # return statement; return Expression"
   ]
  },
  {
   "cell_type": "code",
   "execution_count": 13,
   "id": "f4796cea",
   "metadata": {},
   "outputs": [],
   "source": [
    "total = add_number(a = 2, b = 3)"
   ]
  },
  {
   "cell_type": "code",
   "execution_count": 14,
   "id": "52aef669",
   "metadata": {},
   "outputs": [
    {
     "data": {
      "text/plain": [
       "5"
      ]
     },
     "execution_count": 14,
     "metadata": {},
     "output_type": "execute_result"
    }
   ],
   "source": [
    "total"
   ]
  },
  {
   "cell_type": "code",
   "execution_count": 15,
   "id": "5a33ffd1",
   "metadata": {},
   "outputs": [
    {
     "data": {
      "text/plain": [
       "25"
      ]
     },
     "execution_count": 15,
     "metadata": {},
     "output_type": "execute_result"
    }
   ],
   "source": [
    "total ** 2"
   ]
  },
  {
   "cell_type": "code",
   "execution_count": null,
   "id": "cd1a9fd6",
   "metadata": {},
   "outputs": [],
   "source": []
  },
  {
   "cell_type": "code",
   "execution_count": 18,
   "id": "5643daf4",
   "metadata": {},
   "outputs": [
    {
     "name": "stdout",
     "output_type": "stream",
     "text": [
      "The number is odd\n"
     ]
    }
   ],
   "source": [
    "def sub_number(num1, num2):\n",
    "    return num1 - num2\n",
    "\n",
    "output = sub_number(num1 = 22, num2 = 3)\n",
    "\n",
    "if output % 2 == 0:\n",
    "    print(\"The number is even\")\n",
    "    \n",
    "else:\n",
    "    print(\"The number is odd\")"
   ]
  },
  {
   "cell_type": "code",
   "execution_count": 24,
   "id": "4710717b",
   "metadata": {},
   "outputs": [],
   "source": [
    "def sub(num1, num2):\n",
    "    return num1 - num2\n",
    "\n",
    "def even_or_odd(num):\n",
    "    if num % 2 == 0:\n",
    "        print(\"The number is even\")\n",
    "        \n",
    "    else:\n",
    "        print(\"The number is odd\")"
   ]
  },
  {
   "cell_type": "code",
   "execution_count": 25,
   "id": "27f21fea",
   "metadata": {},
   "outputs": [
    {
     "name": "stdout",
     "output_type": "stream",
     "text": [
      "The number is odd\n"
     ]
    }
   ],
   "source": [
    "output = sub(num1 = 22, num2 = 3)\n",
    "even_or_odd(num = output)"
   ]
  },
  {
   "cell_type": "code",
   "execution_count": 28,
   "id": "0c170f85",
   "metadata": {},
   "outputs": [],
   "source": [
    "def cube(num):\n",
    "    return num ** 3"
   ]
  },
  {
   "cell_type": "code",
   "execution_count": 29,
   "id": "8ba7ca4e",
   "metadata": {},
   "outputs": [
    {
     "data": {
      "text/plain": [
       "64"
      ]
     },
     "execution_count": 29,
     "metadata": {},
     "output_type": "execute_result"
    }
   ],
   "source": [
    "cube(4)"
   ]
  },
  {
   "cell_type": "code",
   "execution_count": 30,
   "id": "e14be0ca",
   "metadata": {},
   "outputs": [
    {
     "data": {
      "text/plain": [
       "125"
      ]
     },
     "execution_count": 30,
     "metadata": {},
     "output_type": "execute_result"
    }
   ],
   "source": [
    "cube(5)"
   ]
  },
  {
   "cell_type": "code",
   "execution_count": 31,
   "id": "3f4d996e",
   "metadata": {},
   "outputs": [],
   "source": [
    "# find volume of sphere with r given by user using function"
   ]
  },
  {
   "cell_type": "code",
   "execution_count": 32,
   "id": "0df83fa2",
   "metadata": {},
   "outputs": [],
   "source": [
    "PI = 3.14\n",
    "def volume(r):\n",
    "    return 4/3 * PI * r ** 3"
   ]
  },
  {
   "cell_type": "code",
   "execution_count": 35,
   "id": "651d9889",
   "metadata": {},
   "outputs": [
    {
     "name": "stdout",
     "output_type": "stream",
     "text": [
      "Enter radius of a sphere: 55\n",
      "The volume of radius is 696556.67\n"
     ]
    }
   ],
   "source": [
    "r = int(input(\"Enter radius of a sphere: \"))\n",
    "volume_of_sphere = volume(r)\n",
    "print(f\"The volume of radius is {round(volume_of_sphere, 2)}\")"
   ]
  },
  {
   "cell_type": "code",
   "execution_count": null,
   "id": "3f2a5ce4",
   "metadata": {},
   "outputs": [],
   "source": []
  }
 ],
 "metadata": {
  "kernelspec": {
   "display_name": "Python 3 (ipykernel)",
   "language": "python",
   "name": "python3"
  },
  "language_info": {
   "codemirror_mode": {
    "name": "ipython",
    "version": 3
   },
   "file_extension": ".py",
   "mimetype": "text/x-python",
   "name": "python",
   "nbconvert_exporter": "python",
   "pygments_lexer": "ipython3",
   "version": "3.11.1"
  }
 },
 "nbformat": 4,
 "nbformat_minor": 5
}
