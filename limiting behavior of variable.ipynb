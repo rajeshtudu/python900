{
 "cells": [
  {
   "cell_type": "markdown",
   "id": "def48a70",
   "metadata": {},
   "source": [
    "# Are access specifier used in Python? --No but has concept of limiting behaviour of variablres: private attribute are not inherited"
   ]
  },
  {
   "cell_type": "code",
   "execution_count": 6,
   "id": "ab2b6db7",
   "metadata": {},
   "outputs": [],
   "source": [
    "class Teacher:\n",
    "    name = 'Kshitz'              # public\n",
    "    _teaches = ['ML', 'Python']  # protected\n",
    "    __age = 24                   # private"
   ]
  },
  {
   "cell_type": "code",
   "execution_count": 7,
   "id": "ae822ac5",
   "metadata": {},
   "outputs": [],
   "source": [
    "obj = Teacher()"
   ]
  },
  {
   "cell_type": "code",
   "execution_count": 8,
   "id": "9c3e42fa",
   "metadata": {},
   "outputs": [
    {
     "data": {
      "text/plain": [
       "'Kshitz'"
      ]
     },
     "execution_count": 8,
     "metadata": {},
     "output_type": "execute_result"
    }
   ],
   "source": [
    "obj.name"
   ]
  },
  {
   "cell_type": "code",
   "execution_count": 9,
   "id": "284007ae",
   "metadata": {},
   "outputs": [
    {
     "data": {
      "text/plain": [
       "['ML', 'Python']"
      ]
     },
     "execution_count": 9,
     "metadata": {},
     "output_type": "execute_result"
    }
   ],
   "source": [
    "obj._teaches"
   ]
  },
  {
   "cell_type": "code",
   "execution_count": 10,
   "id": "3d5deede",
   "metadata": {},
   "outputs": [
    {
     "ename": "AttributeError",
     "evalue": "'Teacher' object has no attribute '__age'",
     "output_type": "error",
     "traceback": [
      "\u001b[1;31m---------------------------------------------------------------------------\u001b[0m",
      "\u001b[1;31mAttributeError\u001b[0m                            Traceback (most recent call last)",
      "Cell \u001b[1;32mIn[10], line 1\u001b[0m\n\u001b[1;32m----> 1\u001b[0m \u001b[43mobj\u001b[49m\u001b[38;5;241;43m.\u001b[39;49m\u001b[43m__age\u001b[49m\n",
      "\u001b[1;31mAttributeError\u001b[0m: 'Teacher' object has no attribute '__age'"
     ]
    }
   ],
   "source": [
    "obj.__age"
   ]
  },
  {
   "cell_type": "code",
   "execution_count": null,
   "id": "af1d1474",
   "metadata": {},
   "outputs": [],
   "source": []
  }
 ],
 "metadata": {
  "kernelspec": {
   "display_name": "Python 3 (ipykernel)",
   "language": "python",
   "name": "python3"
  },
  "language_info": {
   "codemirror_mode": {
    "name": "ipython",
    "version": 3
   },
   "file_extension": ".py",
   "mimetype": "text/x-python",
   "name": "python",
   "nbconvert_exporter": "python",
   "pygments_lexer": "ipython3",
   "version": "3.11.1"
  }
 },
 "nbformat": 4,
 "nbformat_minor": 5
}
