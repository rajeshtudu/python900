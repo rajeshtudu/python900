{
 "cells": [
  {
   "cell_type": "code",
   "execution_count": 2,
   "id": "09256ad1",
   "metadata": {},
   "outputs": [],
   "source": [
    "class Computer:\n",
    "    def __init__(self, ram):\n",
    "        self.ram = ram    "
   ]
  },
  {
   "cell_type": "code",
   "execution_count": 10,
   "id": "6eabd41d",
   "metadata": {},
   "outputs": [],
   "source": [
    "class Mobile:\n",
    "    def __init__(self, has_flash):\n",
    "        self.has_flash = has_flash"
   ]
  },
  {
   "cell_type": "code",
   "execution_count": 11,
   "id": "fb52357e",
   "metadata": {},
   "outputs": [],
   "source": [
    "Iphone = Mobile(True) "
   ]
  },
  {
   "cell_type": "code",
   "execution_count": 12,
   "id": "cbfb8f0c",
   "metadata": {},
   "outputs": [
    {
     "ename": "AttributeError",
     "evalue": "'Mobile' object has no attribute 'ram'",
     "output_type": "error",
     "traceback": [
      "\u001b[1;31m---------------------------------------------------------------------------\u001b[0m",
      "\u001b[1;31mAttributeError\u001b[0m                            Traceback (most recent call last)",
      "Cell \u001b[1;32mIn[12], line 1\u001b[0m\n\u001b[1;32m----> 1\u001b[0m \u001b[43mIphone\u001b[49m\u001b[38;5;241;43m.\u001b[39;49m\u001b[43mram\u001b[49m \u001b[38;5;66;03m# \u001b[39;00m\n",
      "\u001b[1;31mAttributeError\u001b[0m: 'Mobile' object has no attribute 'ram'"
     ]
    }
   ],
   "source": [
    "Iphone.ram # "
   ]
  },
  {
   "cell_type": "markdown",
   "id": "d6bd9099",
   "metadata": {},
   "source": [
    "# single Iheritance"
   ]
  },
  {
   "cell_type": "code",
   "execution_count": 21,
   "id": "ee974e9e",
   "metadata": {},
   "outputs": [],
   "source": [
    "class Computer:\n",
    "    def __init__(self, ram,gpu):\n",
    "        self.ram = ram\n",
    "        self.gpu = gpu\n",
    "\n",
    "class Mobile(Computer):\n",
    "    def __init__(self, has_flash, ram, gpu):\n",
    "        self.has_flash = has_flash\n",
    "        super().__init__(ram, gpu)"
   ]
  },
  {
   "cell_type": "code",
   "execution_count": 22,
   "id": "c7b6d3e4",
   "metadata": {},
   "outputs": [],
   "source": [
    "Iphone = Mobile(True, 16, \"snapdragon\")"
   ]
  },
  {
   "cell_type": "code",
   "execution_count": 17,
   "id": "60cbdcc1",
   "metadata": {},
   "outputs": [
    {
     "data": {
      "text/plain": [
       "16"
      ]
     },
     "execution_count": 17,
     "metadata": {},
     "output_type": "execute_result"
    }
   ],
   "source": [
    "Iphone.ram"
   ]
  },
  {
   "cell_type": "code",
   "execution_count": 23,
   "id": "e4017208",
   "metadata": {},
   "outputs": [
    {
     "data": {
      "text/plain": [
       "'snapdragon'"
      ]
     },
     "execution_count": 23,
     "metadata": {},
     "output_type": "execute_result"
    }
   ],
   "source": [
    "Iphone.gpu"
   ]
  },
  {
   "cell_type": "markdown",
   "id": "09d9311c",
   "metadata": {},
   "source": [
    "# Multiple Inheritance"
   ]
  },
  {
   "cell_type": "code",
   "execution_count": 25,
   "id": "395654d7",
   "metadata": {},
   "outputs": [],
   "source": [
    "class Father:\n",
    "    def __init__(self, f_name):\n",
    "        self.f_name = f_name\n",
    "        \n",
    "class Mother:\n",
    "    def __init__(self, m_name):\n",
    "        self.m_name = m_name\n",
    "        \n",
    "class Child(Father, Mother):\n",
    "    def __init__(self, name, f_name, m_name):\n",
    "        self.name = name\n",
    "        Father.__init__(self, f_name)\n",
    "        Mother.__init__(self, m_name)"
   ]
  },
  {
   "cell_type": "code",
   "execution_count": 26,
   "id": "5f7692e4",
   "metadata": {},
   "outputs": [],
   "source": [
    "kid = Child(\"Lov-Kush\", \"Ram\", \"Sita\")"
   ]
  },
  {
   "cell_type": "code",
   "execution_count": 27,
   "id": "a8078d55",
   "metadata": {},
   "outputs": [
    {
     "data": {
      "text/plain": [
       "'Lov-Kush'"
      ]
     },
     "execution_count": 27,
     "metadata": {},
     "output_type": "execute_result"
    }
   ],
   "source": [
    "kid.name"
   ]
  },
  {
   "cell_type": "code",
   "execution_count": 28,
   "id": "a195fe3d",
   "metadata": {},
   "outputs": [
    {
     "data": {
      "text/plain": [
       "'Ram'"
      ]
     },
     "execution_count": 28,
     "metadata": {},
     "output_type": "execute_result"
    }
   ],
   "source": [
    "kid.f_name"
   ]
  },
  {
   "cell_type": "code",
   "execution_count": 29,
   "id": "73f8cf4d",
   "metadata": {},
   "outputs": [
    {
     "data": {
      "text/plain": [
       "'Sita'"
      ]
     },
     "execution_count": 29,
     "metadata": {},
     "output_type": "execute_result"
    }
   ],
   "source": [
    "kid.m_name"
   ]
  },
  {
   "cell_type": "markdown",
   "id": "776afab9",
   "metadata": {},
   "source": [
    "# Multi level"
   ]
  },
  {
   "cell_type": "code",
   "execution_count": 41,
   "id": "29bf6e32",
   "metadata": {},
   "outputs": [],
   "source": [
    "class GF:\n",
    "    g_name = 'Dasarath'\n",
    "    def display(self):\n",
    "        print(self.g_name)\n",
    "    \n",
    "class F(GF):\n",
    "    f_name = 'Ram'\n",
    "    def __init__(self):\n",
    "        GF.__init__(self)\n",
    "    \n",
    "class C(F):\n",
    "    name = 'Lov-Kush'\n",
    "    \n",
    "    def __init__(self):\n",
    "        F.__init__(self)"
   ]
  },
  {
   "cell_type": "code",
   "execution_count": 42,
   "id": "5428862b",
   "metadata": {},
   "outputs": [],
   "source": [
    "kid = C()"
   ]
  },
  {
   "cell_type": "code",
   "execution_count": 43,
   "id": "7ccda4f9",
   "metadata": {},
   "outputs": [
    {
     "data": {
      "text/plain": [
       "'Lov-Kush'"
      ]
     },
     "execution_count": 43,
     "metadata": {},
     "output_type": "execute_result"
    }
   ],
   "source": [
    "kid.name"
   ]
  },
  {
   "cell_type": "code",
   "execution_count": 44,
   "id": "c662ead1",
   "metadata": {},
   "outputs": [
    {
     "data": {
      "text/plain": [
       "'Ram'"
      ]
     },
     "execution_count": 44,
     "metadata": {},
     "output_type": "execute_result"
    }
   ],
   "source": [
    "kid.f_name"
   ]
  },
  {
   "cell_type": "code",
   "execution_count": 45,
   "id": "ba5f3e32",
   "metadata": {},
   "outputs": [
    {
     "data": {
      "text/plain": [
       "'Dasarath'"
      ]
     },
     "execution_count": 45,
     "metadata": {},
     "output_type": "execute_result"
    }
   ],
   "source": [
    "kid.g_name"
   ]
  },
  {
   "cell_type": "code",
   "execution_count": 46,
   "id": "74d1e385",
   "metadata": {},
   "outputs": [
    {
     "name": "stdout",
     "output_type": "stream",
     "text": [
      "Dasarath\n"
     ]
    }
   ],
   "source": [
    "kid.display()"
   ]
  },
  {
   "cell_type": "code",
   "execution_count": null,
   "id": "8ac78365",
   "metadata": {},
   "outputs": [],
   "source": []
  }
 ],
 "metadata": {
  "kernelspec": {
   "display_name": "Python 3 (ipykernel)",
   "language": "python",
   "name": "python3"
  },
  "language_info": {
   "codemirror_mode": {
    "name": "ipython",
    "version": 3
   },
   "file_extension": ".py",
   "mimetype": "text/x-python",
   "name": "python",
   "nbconvert_exporter": "python",
   "pygments_lexer": "ipython3",
   "version": "3.11.1"
  }
 },
 "nbformat": 4,
 "nbformat_minor": 5
}
