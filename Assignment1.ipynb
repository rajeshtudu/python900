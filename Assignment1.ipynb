{
 "cells": [
  {
   "cell_type": "markdown",
   "id": "27e73633",
   "metadata": {},
   "source": [
    "# write a program to check whether the last digit of a number (entered by user) is divisible by 3 or not. "
   ]
  },
  {
   "cell_type": "code",
   "execution_count": 4,
   "id": "1b34b59f",
   "metadata": {},
   "outputs": [
    {
     "name": "stdout",
     "output_type": "stream",
     "text": [
      "Enter a number: 146\n",
      "The last digit of 146 is divisible by 3.\n"
     ]
    }
   ],
   "source": [
    "# here zero is also a number which is divisible by three!!!\n",
    "user_input = int(input(\"Enter a number: \"))\n",
    "\n",
    "rem = user_input % 10\n",
    "\n",
    "if not rem % 3 == 0:\n",
    "    print(f\"The last digit of {user_input} is not divisible by 3.\")\n",
    "    \n",
    "else:\n",
    "    print(f\"The last digit of {user_input} is divisible by 3.\")"
   ]
  },
  {
   "cell_type": "markdown",
   "id": "a55cac94",
   "metadata": {},
   "source": [
    "# Write a program to check whether  person is eligible for voting or not.(accept age from user)"
   ]
  },
  {
   "cell_type": "code",
   "execution_count": 12,
   "id": "05f4a0b5",
   "metadata": {},
   "outputs": [
    {
     "name": "stdout",
     "output_type": "stream",
     "text": [
      "Enter your age: 12\n",
      "You can't Vote.\n"
     ]
    }
   ],
   "source": [
    "user_age = int(input(\"Enter your age: \"))\n",
    "\n",
    "if not user_age >= 18:\n",
    "    print(\"You can't Vote.\")\n",
    "    \n",
    "else:\n",
    "    print(\"You can vote.\")"
   ]
  },
  {
   "cell_type": "markdown",
   "id": "c4fe2f25",
   "metadata": {},
   "source": [
    "# Write a program to display \"Hello\" if a number entered by user is a multiple of five, otherwise print \"Bye\"."
   ]
  },
  {
   "cell_type": "code",
   "execution_count": 3,
   "id": "5cc3d046",
   "metadata": {},
   "outputs": [
    {
     "name": "stdout",
     "output_type": "stream",
     "text": [
      "Enter a number: 13\n",
      "Bye\n"
     ]
    }
   ],
   "source": [
    "input_num = int(input(\"Enter a number: \"))\n",
    "\n",
    "if not input_num % 5 == 0:\n",
    "    print(\"Bye\")\n",
    "    \n",
    "else:\n",
    "    print(\"Hello\")"
   ]
  },
  {
   "cell_type": "markdown",
   "id": "49bc420f",
   "metadata": {},
   "source": [
    "# Write a program to check whether the last digit of a number (entered by user) is divisible by 3 or not."
   ]
  },
  {
   "cell_type": "code",
   "execution_count": 3,
   "id": "93f240f4",
   "metadata": {},
   "outputs": [
    {
     "name": "stdout",
     "output_type": "stream",
     "text": [
      "Enter a number: 125\n",
      "The last digit of 125 is not divisible by 3.\n"
     ]
    }
   ],
   "source": [
    "user_input = int(input(\"Enter a number: \"))\n",
    "\n",
    "rem = user_input % 10\n",
    "\n",
    "if not rem == 0:\n",
    "    if rem % 3 == 0:\n",
    "        print(f\"The last digit of {user_input} is divisible by 3.\")\n",
    "    \n",
    "    else:\n",
    "        print(f\"The last digit of {user_input} is not divisible by 3.\")\n",
    "    \n",
    "else:\n",
    "    print(f\"The last digit of {user_input} is not divisible by 3.\")"
   ]
  }
 ],
 "metadata": {
  "kernelspec": {
   "display_name": "Python 3 (ipykernel)",
   "language": "python",
   "name": "python3"
  },
  "language_info": {
   "codemirror_mode": {
    "name": "ipython",
    "version": 3
   },
   "file_extension": ".py",
   "mimetype": "text/x-python",
   "name": "python",
   "nbconvert_exporter": "python",
   "pygments_lexer": "ipython3",
   "version": "3.11.1"
  }
 },
 "nbformat": 4,
 "nbformat_minor": 5
}
