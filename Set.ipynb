{
 "cells": [
  {
   "cell_type": "code",
   "execution_count": 1,
   "id": "61e6c4e5",
   "metadata": {},
   "outputs": [],
   "source": [
    "book = {'Rich dad poor dad', 'Muna Madan', 'Harry Potter', 'Tuin'}"
   ]
  },
  {
   "cell_type": "code",
   "execution_count": 2,
   "id": "1a5f91e9",
   "metadata": {},
   "outputs": [
    {
     "data": {
      "text/plain": [
       "{'Harry Potter', 'Muna Madan', 'Rich dad poor dad', 'Tuin'}"
      ]
     },
     "execution_count": 2,
     "metadata": {},
     "output_type": "execute_result"
    }
   ],
   "source": [
    "book"
   ]
  },
  {
   "cell_type": "code",
   "execution_count": 3,
   "id": "52c0c6b0",
   "metadata": {},
   "outputs": [
    {
     "data": {
      "text/plain": [
       "set"
      ]
     },
     "execution_count": 3,
     "metadata": {},
     "output_type": "execute_result"
    }
   ],
   "source": [
    "type(book)"
   ]
  },
  {
   "cell_type": "code",
   "execution_count": 4,
   "id": "07871c9b",
   "metadata": {},
   "outputs": [],
   "source": [
    "# set are unordered, unindexed and does not allow duplicate value"
   ]
  },
  {
   "cell_type": "code",
   "execution_count": 5,
   "id": "229e1eb5",
   "metadata": {},
   "outputs": [],
   "source": [
    "num = {3, 4, 3, 5}"
   ]
  },
  {
   "cell_type": "code",
   "execution_count": 6,
   "id": "99c8687b",
   "metadata": {},
   "outputs": [
    {
     "data": {
      "text/plain": [
       "{3, 4, 5}"
      ]
     },
     "execution_count": 6,
     "metadata": {},
     "output_type": "execute_result"
    }
   ],
   "source": [
    "num"
   ]
  },
  {
   "cell_type": "code",
   "execution_count": 7,
   "id": "e9f91b32",
   "metadata": {},
   "outputs": [],
   "source": [
    "book = {'Rich dad poor dad', 'Muna Madan', 'Harry Potter', 'Tuin'}"
   ]
  },
  {
   "cell_type": "code",
   "execution_count": 9,
   "id": "d9f1ec7b",
   "metadata": {},
   "outputs": [
    {
     "ename": "TypeError",
     "evalue": "'set' object is not subscriptable",
     "output_type": "error",
     "traceback": [
      "\u001b[1;31m---------------------------------------------------------------------------\u001b[0m",
      "\u001b[1;31mTypeError\u001b[0m                                 Traceback (most recent call last)",
      "Cell \u001b[1;32mIn[9], line 1\u001b[0m\n\u001b[1;32m----> 1\u001b[0m \u001b[43mbook\u001b[49m\u001b[43m[\u001b[49m\u001b[38;5;241;43m0\u001b[39;49m\u001b[43m]\u001b[49m \u001b[38;5;66;03m# no indexing in set -- unindexed\u001b[39;00m\n",
      "\u001b[1;31mTypeError\u001b[0m: 'set' object is not subscriptable"
     ]
    }
   ],
   "source": [
    "book[0] # no indexing in set -- unindexed"
   ]
  },
  {
   "cell_type": "markdown",
   "id": "2ed70d9f",
   "metadata": {},
   "source": [
    "# looping in set"
   ]
  },
  {
   "cell_type": "code",
   "execution_count": 12,
   "id": "271ee9d2",
   "metadata": {},
   "outputs": [],
   "source": [
    "books = {'Rich dad poor dad', 'Muna Madan', 'Harry Potter', 'Tuin'}"
   ]
  },
  {
   "cell_type": "code",
   "execution_count": 13,
   "id": "56e075c5",
   "metadata": {},
   "outputs": [
    {
     "name": "stdout",
     "output_type": "stream",
     "text": [
      "Muna Madan\n",
      "Tuin\n",
      "Harry Potter\n",
      "Rich dad poor dad\n"
     ]
    }
   ],
   "source": [
    "for book in books:\n",
    "    print(book)"
   ]
  },
  {
   "cell_type": "markdown",
   "id": "a81eb10c",
   "metadata": {},
   "source": [
    "# Set items are unchangeable, but you can remove items and add new items."
   ]
  },
  {
   "cell_type": "code",
   "execution_count": 14,
   "id": "17c05fa2",
   "metadata": {},
   "outputs": [],
   "source": [
    "cities = {'kathmandu', 'Bhaktapur', 'Lalitpur', 'Kavre'}"
   ]
  },
  {
   "cell_type": "code",
   "execution_count": 15,
   "id": "3a86f140",
   "metadata": {},
   "outputs": [],
   "source": [
    "cities.add('Dharan')"
   ]
  },
  {
   "cell_type": "code",
   "execution_count": 16,
   "id": "5ff39bd3",
   "metadata": {},
   "outputs": [
    {
     "data": {
      "text/plain": [
       "{'Bhaktapur', 'Dharan', 'Kavre', 'Lalitpur', 'kathmandu'}"
      ]
     },
     "execution_count": 16,
     "metadata": {},
     "output_type": "execute_result"
    }
   ],
   "source": [
    "cities"
   ]
  },
  {
   "cell_type": "code",
   "execution_count": 17,
   "id": "34e14c4d",
   "metadata": {},
   "outputs": [],
   "source": [
    "cities.remove('Kavre')"
   ]
  },
  {
   "cell_type": "code",
   "execution_count": 18,
   "id": "06c94a4e",
   "metadata": {},
   "outputs": [
    {
     "data": {
      "text/plain": [
       "{'Bhaktapur', 'Dharan', 'Lalitpur', 'kathmandu'}"
      ]
     },
     "execution_count": 18,
     "metadata": {},
     "output_type": "execute_result"
    }
   ],
   "source": [
    "cities"
   ]
  },
  {
   "cell_type": "code",
   "execution_count": 19,
   "id": "4de93b30",
   "metadata": {},
   "outputs": [
    {
     "ename": "KeyError",
     "evalue": "'Ilam'",
     "output_type": "error",
     "traceback": [
      "\u001b[1;31m---------------------------------------------------------------------------\u001b[0m",
      "\u001b[1;31mKeyError\u001b[0m                                  Traceback (most recent call last)",
      "Cell \u001b[1;32mIn[19], line 1\u001b[0m\n\u001b[1;32m----> 1\u001b[0m \u001b[43mcities\u001b[49m\u001b[38;5;241;43m.\u001b[39;49m\u001b[43mremove\u001b[49m\u001b[43m(\u001b[49m\u001b[38;5;124;43m'\u001b[39;49m\u001b[38;5;124;43mIlam\u001b[39;49m\u001b[38;5;124;43m'\u001b[39;49m\u001b[43m)\u001b[49m \u001b[38;5;66;03m# you cannot remove item that does not exist\u001b[39;00m\n",
      "\u001b[1;31mKeyError\u001b[0m: 'Ilam'"
     ]
    }
   ],
   "source": [
    "cities.remove('Ilam') # you cannot remove item that does not exist"
   ]
  },
  {
   "cell_type": "code",
   "execution_count": 21,
   "id": "a48f563f",
   "metadata": {},
   "outputs": [],
   "source": [
    "cities.discard('Ilam') # if you dont want error use discard()"
   ]
  },
  {
   "cell_type": "markdown",
   "id": "455f663e",
   "metadata": {},
   "source": [
    "# set operation: union, intersection, difference"
   ]
  },
  {
   "cell_type": "code",
   "execution_count": 22,
   "id": "8121109b",
   "metadata": {},
   "outputs": [],
   "source": [
    "A = {'apple', 'banana', 'cherry'}\n",
    "B = {'google', 'microsoft', 'apple'}"
   ]
  },
  {
   "cell_type": "code",
   "execution_count": 23,
   "id": "5c4001d0",
   "metadata": {},
   "outputs": [
    {
     "data": {
      "text/plain": [
       "{'apple', 'banana', 'cherry', 'google', 'microsoft'}"
      ]
     },
     "execution_count": 23,
     "metadata": {},
     "output_type": "execute_result"
    }
   ],
   "source": [
    "A.union(B)"
   ]
  },
  {
   "cell_type": "code",
   "execution_count": 24,
   "id": "9ed827f1",
   "metadata": {},
   "outputs": [
    {
     "data": {
      "text/plain": [
       "{'apple', 'banana', 'cherry', 'google', 'microsoft'}"
      ]
     },
     "execution_count": 24,
     "metadata": {},
     "output_type": "execute_result"
    }
   ],
   "source": [
    "B.union(A)"
   ]
  },
  {
   "cell_type": "code",
   "execution_count": 25,
   "id": "0b119e06",
   "metadata": {},
   "outputs": [
    {
     "data": {
      "text/plain": [
       "{'apple', 'banana', 'cherry'}"
      ]
     },
     "execution_count": 25,
     "metadata": {},
     "output_type": "execute_result"
    }
   ],
   "source": [
    "A"
   ]
  },
  {
   "cell_type": "code",
   "execution_count": 26,
   "id": "787873f2",
   "metadata": {},
   "outputs": [
    {
     "data": {
      "text/plain": [
       "{'apple', 'google', 'microsoft'}"
      ]
     },
     "execution_count": 26,
     "metadata": {},
     "output_type": "execute_result"
    }
   ],
   "source": [
    "B"
   ]
  },
  {
   "cell_type": "code",
   "execution_count": 27,
   "id": "b4e65c2f",
   "metadata": {},
   "outputs": [
    {
     "data": {
      "text/plain": [
       "{'apple'}"
      ]
     },
     "execution_count": 27,
     "metadata": {},
     "output_type": "execute_result"
    }
   ],
   "source": [
    "A.intersection(B)"
   ]
  },
  {
   "cell_type": "code",
   "execution_count": 28,
   "id": "f868ebe9",
   "metadata": {},
   "outputs": [
    {
     "data": {
      "text/plain": [
       "{'apple'}"
      ]
     },
     "execution_count": 28,
     "metadata": {},
     "output_type": "execute_result"
    }
   ],
   "source": [
    "B.intersection(A)"
   ]
  },
  {
   "cell_type": "code",
   "execution_count": 29,
   "id": "3ebef353",
   "metadata": {},
   "outputs": [
    {
     "data": {
      "text/plain": [
       "{'banana', 'cherry'}"
      ]
     },
     "execution_count": 29,
     "metadata": {},
     "output_type": "execute_result"
    }
   ],
   "source": [
    "A.difference(B)"
   ]
  },
  {
   "cell_type": "code",
   "execution_count": 31,
   "id": "d65856bb",
   "metadata": {},
   "outputs": [
    {
     "data": {
      "text/plain": [
       "{'google', 'microsoft'}"
      ]
     },
     "execution_count": 31,
     "metadata": {},
     "output_type": "execute_result"
    }
   ],
   "source": [
    "B.difference(A)"
   ]
  },
  {
   "cell_type": "code",
   "execution_count": 32,
   "id": "e4e921ab",
   "metadata": {},
   "outputs": [
    {
     "data": {
      "text/plain": [
       "{'banana', 'cherry'}"
      ]
     },
     "execution_count": 32,
     "metadata": {},
     "output_type": "execute_result"
    }
   ],
   "source": [
    "A - B"
   ]
  },
  {
   "cell_type": "code",
   "execution_count": 33,
   "id": "9bdde8e5",
   "metadata": {},
   "outputs": [
    {
     "data": {
      "text/plain": [
       "{'google', 'microsoft'}"
      ]
     },
     "execution_count": 33,
     "metadata": {},
     "output_type": "execute_result"
    }
   ],
   "source": [
    "B - A"
   ]
  },
  {
   "cell_type": "markdown",
   "id": "489bd7a7",
   "metadata": {},
   "source": [
    "# The set() constructor -- type convert to set"
   ]
  },
  {
   "cell_type": "code",
   "execution_count": 34,
   "id": "c3f23826",
   "metadata": {},
   "outputs": [],
   "source": [
    "set1 = set(('apple', 'banana', 'cherry', 'apple'))"
   ]
  },
  {
   "cell_type": "code",
   "execution_count": 35,
   "id": "42a88eac",
   "metadata": {},
   "outputs": [
    {
     "data": {
      "text/plain": [
       "{'apple', 'banana', 'cherry'}"
      ]
     },
     "execution_count": 35,
     "metadata": {},
     "output_type": "execute_result"
    }
   ],
   "source": [
    "set1"
   ]
  },
  {
   "cell_type": "code",
   "execution_count": 38,
   "id": "6d20c526",
   "metadata": {},
   "outputs": [],
   "source": [
    "set2 = set([1, 2, 3, 4, 5, 4, 1])"
   ]
  },
  {
   "cell_type": "code",
   "execution_count": 39,
   "id": "048d369c",
   "metadata": {},
   "outputs": [
    {
     "data": {
      "text/plain": [
       "{1, 2, 3, 4, 5}"
      ]
     },
     "execution_count": 39,
     "metadata": {},
     "output_type": "execute_result"
    }
   ],
   "source": [
    "set2"
   ]
  },
  {
   "cell_type": "markdown",
   "id": "067acc8c",
   "metadata": {},
   "source": [
    "# Immutable version of python set is frozenset()"
   ]
  },
  {
   "cell_type": "code",
   "execution_count": 40,
   "id": "57d29a32",
   "metadata": {},
   "outputs": [],
   "source": [
    "tec_company = {'Google', 'Facebook', 'OpenAI', 'Microsoft', 'Tik-Tok'}"
   ]
  },
  {
   "cell_type": "code",
   "execution_count": 41,
   "id": "bab60ad7",
   "metadata": {},
   "outputs": [
    {
     "data": {
      "text/plain": [
       "{'Facebook', 'Google', 'Microsoft', 'OpenAI', 'Tik-Tok'}"
      ]
     },
     "execution_count": 41,
     "metadata": {},
     "output_type": "execute_result"
    }
   ],
   "source": [
    "tec_company"
   ]
  },
  {
   "cell_type": "code",
   "execution_count": 42,
   "id": "195bce0c",
   "metadata": {},
   "outputs": [],
   "source": [
    "tec_company.add('Samsung')"
   ]
  },
  {
   "cell_type": "code",
   "execution_count": 43,
   "id": "9309c1b9",
   "metadata": {},
   "outputs": [
    {
     "data": {
      "text/plain": [
       "{'Facebook', 'Google', 'Microsoft', 'OpenAI', 'Samsung', 'Tik-Tok'}"
      ]
     },
     "execution_count": 43,
     "metadata": {},
     "output_type": "execute_result"
    }
   ],
   "source": [
    "tec_company"
   ]
  },
  {
   "cell_type": "code",
   "execution_count": 44,
   "id": "5f3e1e13",
   "metadata": {},
   "outputs": [],
   "source": [
    "tec_company = frozenset(tec_company)"
   ]
  },
  {
   "cell_type": "code",
   "execution_count": 45,
   "id": "6fecb095",
   "metadata": {},
   "outputs": [
    {
     "ename": "AttributeError",
     "evalue": "'frozenset' object has no attribute 'add'",
     "output_type": "error",
     "traceback": [
      "\u001b[1;31m---------------------------------------------------------------------------\u001b[0m",
      "\u001b[1;31mAttributeError\u001b[0m                            Traceback (most recent call last)",
      "Cell \u001b[1;32mIn[45], line 1\u001b[0m\n\u001b[1;32m----> 1\u001b[0m \u001b[43mtec_company\u001b[49m\u001b[38;5;241;43m.\u001b[39;49m\u001b[43madd\u001b[49m(\u001b[38;5;124m'\u001b[39m\u001b[38;5;124mAirbnb\u001b[39m\u001b[38;5;124m'\u001b[39m) \u001b[38;5;66;03m# you cannot add or remove item in frozenset\u001b[39;00m\n",
      "\u001b[1;31mAttributeError\u001b[0m: 'frozenset' object has no attribute 'add'"
     ]
    }
   ],
   "source": [
    "tec_company.add('Airbnb') # you cannot add or remove item in frozenset"
   ]
  },
  {
   "cell_type": "code",
   "execution_count": null,
   "id": "a17e3369",
   "metadata": {},
   "outputs": [],
   "source": []
  }
 ],
 "metadata": {
  "kernelspec": {
   "display_name": "Python 3 (ipykernel)",
   "language": "python",
   "name": "python3"
  },
  "language_info": {
   "codemirror_mode": {
    "name": "ipython",
    "version": 3
   },
   "file_extension": ".py",
   "mimetype": "text/x-python",
   "name": "python",
   "nbconvert_exporter": "python",
   "pygments_lexer": "ipython3",
   "version": "3.11.1"
  }
 },
 "nbformat": 4,
 "nbformat_minor": 5
}
