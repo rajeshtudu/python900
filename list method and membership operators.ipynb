{
 "cells": [
  {
   "cell_type": "code",
   "execution_count": 2,
   "id": "9e0e0609",
   "metadata": {},
   "outputs": [],
   "source": [
    "fruits = [\"Apple\", \"Banana\", \"Mango\", \"Papaya\"]"
   ]
  },
  {
   "cell_type": "code",
   "execution_count": 3,
   "id": "1a1073b8",
   "metadata": {},
   "outputs": [
    {
     "data": {
      "text/plain": [
       "'Apple'"
      ]
     },
     "execution_count": 3,
     "metadata": {},
     "output_type": "execute_result"
    }
   ],
   "source": [
    "fruits[0]"
   ]
  },
  {
   "cell_type": "code",
   "execution_count": 4,
   "id": "f9982f63",
   "metadata": {},
   "outputs": [
    {
     "data": {
      "text/plain": [
       "'Banana'"
      ]
     },
     "execution_count": 4,
     "metadata": {},
     "output_type": "execute_result"
    }
   ],
   "source": [
    "fruits[1]"
   ]
  },
  {
   "cell_type": "code",
   "execution_count": 5,
   "id": "ecb0e31b",
   "metadata": {},
   "outputs": [
    {
     "data": {
      "text/plain": [
       "'Papaya'"
      ]
     },
     "execution_count": 5,
     "metadata": {},
     "output_type": "execute_result"
    }
   ],
   "source": [
    "fruits[3]"
   ]
  },
  {
   "cell_type": "markdown",
   "id": "b98578b8",
   "metadata": {},
   "source": [
    "# negative indexing in python"
   ]
  },
  {
   "cell_type": "code",
   "execution_count": 6,
   "id": "1a7dc9cc",
   "metadata": {},
   "outputs": [
    {
     "data": {
      "text/plain": [
       "'Papaya'"
      ]
     },
     "execution_count": 6,
     "metadata": {},
     "output_type": "execute_result"
    }
   ],
   "source": [
    "fruits[-1]"
   ]
  },
  {
   "cell_type": "code",
   "execution_count": 7,
   "id": "9989aef4",
   "metadata": {},
   "outputs": [
    {
     "data": {
      "text/plain": [
       "'Mango'"
      ]
     },
     "execution_count": 7,
     "metadata": {},
     "output_type": "execute_result"
    }
   ],
   "source": [
    "fruits[-2]"
   ]
  },
  {
   "cell_type": "code",
   "execution_count": 8,
   "id": "daa4bf02",
   "metadata": {},
   "outputs": [
    {
     "data": {
      "text/plain": [
       "['Banana', 'Mango']"
      ]
     },
     "execution_count": 8,
     "metadata": {},
     "output_type": "execute_result"
    }
   ],
   "source": [
    "fruits[1:-1]"
   ]
  },
  {
   "cell_type": "code",
   "execution_count": 9,
   "id": "b89b2f87",
   "metadata": {},
   "outputs": [
    {
     "data": {
      "text/plain": [
       "['Apple', 'Banana', 'Mango', 'Papaya']"
      ]
     },
     "execution_count": 9,
     "metadata": {},
     "output_type": "execute_result"
    }
   ],
   "source": [
    "fruits"
   ]
  },
  {
   "cell_type": "code",
   "execution_count": 10,
   "id": "99e50a19",
   "metadata": {},
   "outputs": [
    {
     "data": {
      "text/plain": [
       "['Papaya', 'Mango', 'Banana', 'Apple']"
      ]
     },
     "execution_count": 10,
     "metadata": {},
     "output_type": "execute_result"
    }
   ],
   "source": [
    "fruits[::-1] # reverse the list"
   ]
  },
  {
   "cell_type": "markdown",
   "id": "dcd58fe9",
   "metadata": {},
   "source": [
    "# Membership operator"
   ]
  },
  {
   "cell_type": "code",
   "execution_count": 11,
   "id": "fb54c47d",
   "metadata": {},
   "outputs": [],
   "source": [
    "name = ['Rajesh', 'Rujan', 'Karma', 'Siddhant', 'Sanjeev']"
   ]
  },
  {
   "cell_type": "code",
   "execution_count": 12,
   "id": "c1c462f0",
   "metadata": {},
   "outputs": [
    {
     "data": {
      "text/plain": [
       "True"
      ]
     },
     "execution_count": 12,
     "metadata": {},
     "output_type": "execute_result"
    }
   ],
   "source": [
    "\"Karma\" in name"
   ]
  },
  {
   "cell_type": "code",
   "execution_count": 13,
   "id": "2b4d7c24",
   "metadata": {},
   "outputs": [
    {
     "data": {
      "text/plain": [
       "True"
      ]
     },
     "execution_count": 13,
     "metadata": {},
     "output_type": "execute_result"
    }
   ],
   "source": [
    "\"Kshitiz\" not in name"
   ]
  },
  {
   "cell_type": "code",
   "execution_count": 14,
   "id": "ff5b6556",
   "metadata": {},
   "outputs": [],
   "source": [
    "# in and not in are membership operators in python"
   ]
  },
  {
   "cell_type": "code",
   "execution_count": 15,
   "id": "7018b161",
   "metadata": {},
   "outputs": [
    {
     "name": "stdout",
     "output_type": "stream",
     "text": [
      "True\n"
     ]
    }
   ],
   "source": [
    "print(\"Ram\" not in name)"
   ]
  },
  {
   "cell_type": "markdown",
   "id": "dd6e7d92",
   "metadata": {},
   "source": [
    "# python list are mutable"
   ]
  },
  {
   "cell_type": "code",
   "execution_count": 16,
   "id": "13ea577e",
   "metadata": {},
   "outputs": [],
   "source": [
    "cars = ['audi', 'Mercedes', 'Ferrari', 'Lambo', 'Bugati', 'Rolls Royce']"
   ]
  },
  {
   "cell_type": "code",
   "execution_count": 17,
   "id": "583e8f81",
   "metadata": {},
   "outputs": [
    {
     "data": {
      "text/plain": [
       "'audi'"
      ]
     },
     "execution_count": 17,
     "metadata": {},
     "output_type": "execute_result"
    }
   ],
   "source": [
    "cars[0]"
   ]
  },
  {
   "cell_type": "code",
   "execution_count": 18,
   "id": "2d45e2c1",
   "metadata": {},
   "outputs": [],
   "source": [
    "cars[0] = \"Audi\""
   ]
  },
  {
   "cell_type": "code",
   "execution_count": 19,
   "id": "1c238441",
   "metadata": {},
   "outputs": [
    {
     "data": {
      "text/plain": [
       "['Audi', 'Mercedes', 'Ferrari', 'Lambo', 'Bugati', 'Rolls Royce']"
      ]
     },
     "execution_count": 19,
     "metadata": {},
     "output_type": "execute_result"
    }
   ],
   "source": [
    "cars"
   ]
  },
  {
   "cell_type": "code",
   "execution_count": 20,
   "id": "f5c5eeed",
   "metadata": {},
   "outputs": [
    {
     "data": {
      "text/plain": [
       "['Audi', 'Mercedes', 'Ferrari', 'Lambo', 'Bugati', 'Rolls Royce']"
      ]
     },
     "execution_count": 20,
     "metadata": {},
     "output_type": "execute_result"
    }
   ],
   "source": [
    "cars "
   ]
  },
  {
   "cell_type": "code",
   "execution_count": 21,
   "id": "b33b1945",
   "metadata": {},
   "outputs": [
    {
     "data": {
      "text/plain": [
       "['Lambo', 'Bugati']"
      ]
     },
     "execution_count": 21,
     "metadata": {},
     "output_type": "execute_result"
    }
   ],
   "source": [
    "cars[3:5]"
   ]
  },
  {
   "cell_type": "code",
   "execution_count": 22,
   "id": "8ed5f116",
   "metadata": {},
   "outputs": [],
   "source": [
    "cars[3:5] = [\"Tesla\", \"Bently\"]"
   ]
  },
  {
   "cell_type": "code",
   "execution_count": 23,
   "id": "0051659d",
   "metadata": {},
   "outputs": [
    {
     "data": {
      "text/plain": [
       "['Audi', 'Mercedes', 'Ferrari', 'Tesla', 'Bently', 'Rolls Royce']"
      ]
     },
     "execution_count": 23,
     "metadata": {},
     "output_type": "execute_result"
    }
   ],
   "source": [
    "cars"
   ]
  },
  {
   "cell_type": "code",
   "execution_count": 24,
   "id": "c13a675b",
   "metadata": {},
   "outputs": [
    {
     "data": {
      "text/plain": [
       "['Tesla', 'Bently']"
      ]
     },
     "execution_count": 24,
     "metadata": {},
     "output_type": "execute_result"
    }
   ],
   "source": [
    "cars[3:5:1]"
   ]
  },
  {
   "cell_type": "markdown",
   "id": "42b2de86",
   "metadata": {},
   "source": [
    "# You can insert a list item at a specific index, use the insert() method."
   ]
  },
  {
   "cell_type": "code",
   "execution_count": 25,
   "id": "e86d48cc",
   "metadata": {},
   "outputs": [],
   "source": [
    "cars = ['Audi', 'Mercedes', 'Ferrari', 'Tesla', 'Bently', 'Rolls Royce']"
   ]
  },
  {
   "cell_type": "code",
   "execution_count": 26,
   "id": "cbcc074f",
   "metadata": {},
   "outputs": [],
   "source": [
    "cars.insert(2, \"Lambo\")"
   ]
  },
  {
   "cell_type": "code",
   "execution_count": 27,
   "id": "807311e3",
   "metadata": {},
   "outputs": [
    {
     "data": {
      "text/plain": [
       "['Audi', 'Mercedes', 'Lambo', 'Ferrari', 'Tesla', 'Bently', 'Rolls Royce']"
      ]
     },
     "execution_count": 27,
     "metadata": {},
     "output_type": "execute_result"
    }
   ],
   "source": [
    "cars"
   ]
  },
  {
   "cell_type": "markdown",
   "id": "b27455c1",
   "metadata": {},
   "source": [
    "# .append() in python list"
   ]
  },
  {
   "cell_type": "code",
   "execution_count": 28,
   "id": "752b1278",
   "metadata": {},
   "outputs": [],
   "source": [
    "# creating empty list\n",
    "num = []"
   ]
  },
  {
   "cell_type": "code",
   "execution_count": 29,
   "id": "9c856550",
   "metadata": {},
   "outputs": [],
   "source": [
    "# other method to create empty list\n",
    "num = list() # list() is a constructor used to create an object"
   ]
  },
  {
   "cell_type": "code",
   "execution_count": 30,
   "id": "ef950460",
   "metadata": {},
   "outputs": [
    {
     "data": {
      "text/plain": [
       "list"
      ]
     },
     "execution_count": 30,
     "metadata": {},
     "output_type": "execute_result"
    }
   ],
   "source": [
    "type(num)"
   ]
  },
  {
   "cell_type": "code",
   "execution_count": 31,
   "id": "76713921",
   "metadata": {},
   "outputs": [],
   "source": [
    "num.append(55)"
   ]
  },
  {
   "cell_type": "code",
   "execution_count": 32,
   "id": "34c9d221",
   "metadata": {},
   "outputs": [
    {
     "data": {
      "text/plain": [
       "[55]"
      ]
     },
     "execution_count": 32,
     "metadata": {},
     "output_type": "execute_result"
    }
   ],
   "source": [
    "num"
   ]
  },
  {
   "cell_type": "code",
   "execution_count": 33,
   "id": "6d0a38af",
   "metadata": {},
   "outputs": [],
   "source": [
    "num.append(9)"
   ]
  },
  {
   "cell_type": "code",
   "execution_count": 34,
   "id": "1daffb5c",
   "metadata": {},
   "outputs": [
    {
     "data": {
      "text/plain": [
       "[55, 9]"
      ]
     },
     "execution_count": 34,
     "metadata": {},
     "output_type": "execute_result"
    }
   ],
   "source": [
    "num"
   ]
  },
  {
   "cell_type": "markdown",
   "id": "617ef942",
   "metadata": {},
   "source": [
    "# write a program to store squares of given number"
   ]
  },
  {
   "cell_type": "code",
   "execution_count": 35,
   "id": "17e2b64b",
   "metadata": {},
   "outputs": [],
   "source": [
    "data= [1, 2, 5, 7, 9]"
   ]
  },
  {
   "cell_type": "code",
   "execution_count": 36,
   "id": "b237b3e2",
   "metadata": {},
   "outputs": [
    {
     "name": "stdout",
     "output_type": "stream",
     "text": [
      "[1]\n",
      "[1, 4]\n",
      "[1, 4, 25]\n",
      "[1, 4, 25, 49]\n",
      "[1, 4, 25, 49, 81]\n"
     ]
    }
   ],
   "source": [
    "sq = []\n",
    "for number in data:\n",
    "    sq.append(number ** 2)\n",
    "    print(sq)"
   ]
  },
  {
   "cell_type": "code",
   "execution_count": 39,
   "id": "3b31761b",
   "metadata": {},
   "outputs": [
    {
     "name": "stdout",
     "output_type": "stream",
     "text": [
      "[1, 8, 125, 343, 729]\n"
     ]
    }
   ],
   "source": [
    "cube = []\n",
    "for number in data:\n",
    "    cube.append(number ** 3)\n",
    "print(cube)"
   ]
  },
  {
   "cell_type": "markdown",
   "id": "1f8c6b71",
   "metadata": {},
   "source": [
    "# .extend() method"
   ]
  },
  {
   "cell_type": "code",
   "execution_count": 40,
   "id": "7943520b",
   "metadata": {},
   "outputs": [],
   "source": [
    "list1 = ['Dal', 'Nun', 'Chini', 'Chiyapatti']\n",
    "list2 = ['Tel', 'Gheu', 'Maha']"
   ]
  },
  {
   "cell_type": "code",
   "execution_count": 41,
   "id": "9327349c",
   "metadata": {},
   "outputs": [],
   "source": [
    "list1.extend(list2)"
   ]
  },
  {
   "cell_type": "code",
   "execution_count": 42,
   "id": "f3394745",
   "metadata": {},
   "outputs": [
    {
     "data": {
      "text/plain": [
       "['Dal', 'Nun', 'Chini', 'Chiyapatti', 'Tel', 'Gheu', 'Maha']"
      ]
     },
     "execution_count": 42,
     "metadata": {},
     "output_type": "execute_result"
    }
   ],
   "source": [
    "list1"
   ]
  },
  {
   "cell_type": "code",
   "execution_count": 43,
   "id": "69c7b5f6",
   "metadata": {},
   "outputs": [
    {
     "data": {
      "text/plain": [
       "['Tel', 'Gheu', 'Maha']"
      ]
     },
     "execution_count": 43,
     "metadata": {},
     "output_type": "execute_result"
    }
   ],
   "source": [
    "list2"
   ]
  },
  {
   "cell_type": "code",
   "execution_count": 44,
   "id": "b21c6402",
   "metadata": {},
   "outputs": [],
   "source": [
    "list1 = ['Dal', 'Nun', 'Chini', 'Chiyapatti']\n",
    "list2 = ['Tel', 'Gheu', 'Maha']\n",
    "list2.extend(list1)"
   ]
  },
  {
   "cell_type": "code",
   "execution_count": 45,
   "id": "4592ed5e",
   "metadata": {},
   "outputs": [
    {
     "data": {
      "text/plain": [
       "['Tel', 'Gheu', 'Maha', 'Dal', 'Nun', 'Chini', 'Chiyapatti']"
      ]
     },
     "execution_count": 45,
     "metadata": {},
     "output_type": "execute_result"
    }
   ],
   "source": [
    "list2"
   ]
  },
  {
   "cell_type": "code",
   "execution_count": 46,
   "id": "0eba313f",
   "metadata": {},
   "outputs": [
    {
     "data": {
      "text/plain": [
       "['Dal', 'Nun', 'Chini', 'Chiyapatti']"
      ]
     },
     "execution_count": 46,
     "metadata": {},
     "output_type": "execute_result"
    }
   ],
   "source": [
    "list1"
   ]
  },
  {
   "cell_type": "markdown",
   "id": "f36f427b",
   "metadata": {},
   "source": [
    "# + operator in list"
   ]
  },
  {
   "cell_type": "code",
   "execution_count": 47,
   "id": "b11a55d5",
   "metadata": {},
   "outputs": [],
   "source": [
    "list1 = ['Dal', 'Nun', 'Chini', 'Chiyapatti']\n",
    "list2 = ['Tel', 'Gheu', 'Maha']"
   ]
  },
  {
   "cell_type": "code",
   "execution_count": 48,
   "id": "ee6ad47d",
   "metadata": {},
   "outputs": [
    {
     "data": {
      "text/plain": [
       "['Dal', 'Nun', 'Chini', 'Chiyapatti', 'Tel', 'Gheu', 'Maha']"
      ]
     },
     "execution_count": 48,
     "metadata": {},
     "output_type": "execute_result"
    }
   ],
   "source": [
    "list1 + list2 # concatinate"
   ]
  },
  {
   "cell_type": "code",
   "execution_count": 49,
   "id": "d7fd3669",
   "metadata": {},
   "outputs": [
    {
     "data": {
      "text/plain": [
       "['Dal', 'Nun', 'Chini', 'Chiyapatti']"
      ]
     },
     "execution_count": 49,
     "metadata": {},
     "output_type": "execute_result"
    }
   ],
   "source": [
    "list1"
   ]
  },
  {
   "cell_type": "code",
   "execution_count": 50,
   "id": "7ee6ee4e",
   "metadata": {},
   "outputs": [
    {
     "data": {
      "text/plain": [
       "['Tel', 'Gheu', 'Maha']"
      ]
     },
     "execution_count": 50,
     "metadata": {},
     "output_type": "execute_result"
    }
   ],
   "source": [
    "list2"
   ]
  },
  {
   "cell_type": "code",
   "execution_count": 51,
   "id": "ce53f71f",
   "metadata": {},
   "outputs": [],
   "source": [
    "list3 = list1 + list2"
   ]
  },
  {
   "cell_type": "code",
   "execution_count": 52,
   "id": "af3bc746",
   "metadata": {},
   "outputs": [
    {
     "data": {
      "text/plain": [
       "['Dal', 'Nun', 'Chini', 'Chiyapatti', 'Tel', 'Gheu', 'Maha']"
      ]
     },
     "execution_count": 52,
     "metadata": {},
     "output_type": "execute_result"
    }
   ],
   "source": [
    "list3"
   ]
  },
  {
   "cell_type": "markdown",
   "id": "907fdd0a",
   "metadata": {},
   "source": [
    "# remove"
   ]
  },
  {
   "cell_type": "code",
   "execution_count": 53,
   "id": "a7c62ebd",
   "metadata": {},
   "outputs": [],
   "source": [
    "saman = ['Tel', 'Gheu', 'Maha', 'Harpik', 'Harpik']"
   ]
  },
  {
   "cell_type": "code",
   "execution_count": 56,
   "id": "fd0792a5",
   "metadata": {},
   "outputs": [],
   "source": [
    "saman.remove('Harpik') # removes first occurance only"
   ]
  },
  {
   "cell_type": "code",
   "execution_count": 57,
   "id": "8709ef18",
   "metadata": {},
   "outputs": [
    {
     "data": {
      "text/plain": [
       "['Tel', 'Gheu', 'Maha']"
      ]
     },
     "execution_count": 57,
     "metadata": {},
     "output_type": "execute_result"
    }
   ],
   "source": [
    "saman"
   ]
  },
  {
   "cell_type": "markdown",
   "id": "41c6321f",
   "metadata": {},
   "source": [
    "# .pop() method in list"
   ]
  },
  {
   "cell_type": "code",
   "execution_count": 61,
   "id": "3deb05a6",
   "metadata": {},
   "outputs": [],
   "source": [
    "saman = ['Tel', 'Harpik', 'Gheu', 'Maha', 'Harpik']"
   ]
  },
  {
   "cell_type": "code",
   "execution_count": 62,
   "id": "53ad18f9",
   "metadata": {},
   "outputs": [
    {
     "data": {
      "text/plain": [
       "'Harpik'"
      ]
     },
     "execution_count": 62,
     "metadata": {},
     "output_type": "execute_result"
    }
   ],
   "source": [
    "saman.pop() # removes last element from the list"
   ]
  },
  {
   "cell_type": "code",
   "execution_count": 63,
   "id": "699f3f80",
   "metadata": {},
   "outputs": [
    {
     "data": {
      "text/plain": [
       "['Tel', 'Harpik', 'Gheu', 'Maha']"
      ]
     },
     "execution_count": 63,
     "metadata": {},
     "output_type": "execute_result"
    }
   ],
   "source": [
    "saman"
   ]
  },
  {
   "cell_type": "code",
   "execution_count": 64,
   "id": "6fb87bc7",
   "metadata": {},
   "outputs": [
    {
     "data": {
      "text/plain": [
       "'Harpik'"
      ]
     },
     "execution_count": 64,
     "metadata": {},
     "output_type": "execute_result"
    }
   ],
   "source": [
    "saman.pop(1)"
   ]
  },
  {
   "cell_type": "code",
   "execution_count": 65,
   "id": "28c84354",
   "metadata": {},
   "outputs": [
    {
     "data": {
      "text/plain": [
       "['Tel', 'Gheu', 'Maha']"
      ]
     },
     "execution_count": 65,
     "metadata": {},
     "output_type": "execute_result"
    }
   ],
   "source": [
    "saman"
   ]
  },
  {
   "cell_type": "markdown",
   "id": "d6c60ad1",
   "metadata": {},
   "source": [
    "# How to use python list as stack and queue\n",
    "\n",
    "## stack (Last In First Out(LIFO)):\n",
    "* append() pushes elements on list -- push operation in stack\n",
    "* pop() removes last item from stack\n",
    "\n",
    "## Queue is First In First Out:\n",
    "* append() as enqueue\n",
    "* pop() as dequeue"
   ]
  },
  {
   "cell_type": "markdown",
   "id": "aa3e5944",
   "metadata": {},
   "source": [
    "# sorting of list"
   ]
  },
  {
   "cell_type": "code",
   "execution_count": 66,
   "id": "2628e501",
   "metadata": {},
   "outputs": [],
   "source": [
    "food = ['Momo', 'Chowmin', 'Coke', 'Samosa', 'Chiya', 'Dal-Bhat']"
   ]
  },
  {
   "cell_type": "code",
   "execution_count": 67,
   "id": "09e77277",
   "metadata": {},
   "outputs": [
    {
     "data": {
      "text/plain": [
       "['Momo', 'Chowmin', 'Coke', 'Samosa', 'Chiya', 'Dal-Bhat']"
      ]
     },
     "execution_count": 67,
     "metadata": {},
     "output_type": "execute_result"
    }
   ],
   "source": [
    "food"
   ]
  },
  {
   "cell_type": "code",
   "execution_count": 70,
   "id": "8a3df65c",
   "metadata": {},
   "outputs": [],
   "source": [
    "food.sort() # ascending order"
   ]
  },
  {
   "cell_type": "code",
   "execution_count": 71,
   "id": "084a5b2e",
   "metadata": {},
   "outputs": [
    {
     "data": {
      "text/plain": [
       "['Chiya', 'Chowmin', 'Coke', 'Dal-Bhat', 'Momo', 'Samosa']"
      ]
     },
     "execution_count": 71,
     "metadata": {},
     "output_type": "execute_result"
    }
   ],
   "source": [
    "food"
   ]
  },
  {
   "cell_type": "code",
   "execution_count": 72,
   "id": "69e93eb1",
   "metadata": {},
   "outputs": [
    {
     "data": {
      "text/plain": [
       "['Samosa', 'Momo', 'Dal-Bhat', 'Coke', 'Chowmin', 'Chiya']"
      ]
     },
     "execution_count": 72,
     "metadata": {},
     "output_type": "execute_result"
    }
   ],
   "source": [
    "food = ['Momo', 'Chowmin', 'Coke', 'Samosa', 'Chiya', 'Dal-Bhat']\n",
    "food.sort(reverse = True) # descending order\n",
    "food"
   ]
  },
  {
   "cell_type": "code",
   "execution_count": 73,
   "id": "ac054b89",
   "metadata": {},
   "outputs": [
    {
     "data": {
      "text/plain": [
       "['Chiya', 'Chowmin', 'Coke', 'Dal-Bhat', 'Momo', 'Samosa']"
      ]
     },
     "execution_count": 73,
     "metadata": {},
     "output_type": "execute_result"
    }
   ],
   "source": [
    "food = ['Momo', 'Chowmin', 'Coke', 'Samosa', 'Chiya', 'Dal-Bhat']\n",
    "sorted(food) # sorted() python built in sorting method"
   ]
  },
  {
   "cell_type": "code",
   "execution_count": 74,
   "id": "cbc23798",
   "metadata": {},
   "outputs": [
    {
     "data": {
      "text/plain": [
       "['Momo', 'Chowmin', 'Coke', 'Samosa', 'Chiya', 'Dal-Bhat']"
      ]
     },
     "execution_count": 74,
     "metadata": {},
     "output_type": "execute_result"
    }
   ],
   "source": [
    "food # sorted() does not update the object"
   ]
  },
  {
   "cell_type": "code",
   "execution_count": 76,
   "id": "9967c6e9",
   "metadata": {},
   "outputs": [
    {
     "data": {
      "text/plain": [
       "['Samosa', 'Momo', 'Dal-Bhat', 'Coke', 'Chowmin', 'Chiya']"
      ]
     },
     "execution_count": 76,
     "metadata": {},
     "output_type": "execute_result"
    }
   ],
   "source": [
    "sorted(food, reverse = True) # descending order"
   ]
  },
  {
   "cell_type": "code",
   "execution_count": null,
   "id": "86478e53",
   "metadata": {},
   "outputs": [],
   "source": []
  }
 ],
 "metadata": {
  "kernelspec": {
   "display_name": "Python 3 (ipykernel)",
   "language": "python",
   "name": "python3"
  },
  "language_info": {
   "codemirror_mode": {
    "name": "ipython",
    "version": 3
   },
   "file_extension": ".py",
   "mimetype": "text/x-python",
   "name": "python",
   "nbconvert_exporter": "python",
   "pygments_lexer": "ipython3",
   "version": "3.11.1"
  }
 },
 "nbformat": 4,
 "nbformat_minor": 5
}
