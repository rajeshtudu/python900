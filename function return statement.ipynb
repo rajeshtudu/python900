{
 "cells": [
  {
   "cell_type": "code",
   "execution_count": 1,
   "id": "ced991bf",
   "metadata": {},
   "outputs": [],
   "source": [
    "def arithmetic(x, y):\n",
    "    total = x + y\n",
    "    difference = x - y\n",
    "    multiplication = x * y\n",
    "    return total, difference, multiplication"
   ]
  },
  {
   "cell_type": "code",
   "execution_count": 2,
   "id": "0aa7c236",
   "metadata": {},
   "outputs": [
    {
     "data": {
      "text/plain": [
       "(8, 2, 15)"
      ]
     },
     "execution_count": 2,
     "metadata": {},
     "output_type": "execute_result"
    }
   ],
   "source": [
    "arithmetic(x = 5, y = 3)"
   ]
  },
  {
   "cell_type": "code",
   "execution_count": 3,
   "id": "c90e897e",
   "metadata": {},
   "outputs": [],
   "source": [
    "total, diff, mul = arithmetic(x = 5, y =3) # tuple unpacking"
   ]
  },
  {
   "cell_type": "code",
   "execution_count": 4,
   "id": "c85c19db",
   "metadata": {},
   "outputs": [
    {
     "data": {
      "text/plain": [
       "8"
      ]
     },
     "execution_count": 4,
     "metadata": {},
     "output_type": "execute_result"
    }
   ],
   "source": [
    "total"
   ]
  },
  {
   "cell_type": "code",
   "execution_count": 5,
   "id": "564f7435",
   "metadata": {},
   "outputs": [
    {
     "data": {
      "text/plain": [
       "2"
      ]
     },
     "execution_count": 5,
     "metadata": {},
     "output_type": "execute_result"
    }
   ],
   "source": [
    "diff"
   ]
  },
  {
   "cell_type": "code",
   "execution_count": 6,
   "id": "4581ade7",
   "metadata": {},
   "outputs": [
    {
     "data": {
      "text/plain": [
       "15"
      ]
     },
     "execution_count": 6,
     "metadata": {},
     "output_type": "execute_result"
    }
   ],
   "source": [
    "mul"
   ]
  },
  {
   "cell_type": "markdown",
   "id": "b4742a6c",
   "metadata": {},
   "source": [
    "# write a program to check if the given input number is prime or not prime. if prime return true else return false"
   ]
  },
  {
   "cell_type": "code",
   "execution_count": 13,
   "id": "fb835948",
   "metadata": {},
   "outputs": [],
   "source": [
    "def prime(number):\n",
    "    for num in range(2, number//2):\n",
    "        if number % num == 0:\n",
    "            return False\n",
    "        \n",
    "    return True"
   ]
  },
  {
   "cell_type": "code",
   "execution_count": 14,
   "id": "4894901e",
   "metadata": {},
   "outputs": [
    {
     "data": {
      "text/plain": [
       "True"
      ]
     },
     "execution_count": 14,
     "metadata": {},
     "output_type": "execute_result"
    }
   ],
   "source": [
    "prime(5)"
   ]
  },
  {
   "cell_type": "code",
   "execution_count": 15,
   "id": "628f7844",
   "metadata": {},
   "outputs": [
    {
     "name": "stdout",
     "output_type": "stream",
     "text": [
      "The number 2 is Prime.\n",
      "The number 3 is Prime.\n",
      "The number 4 is Prime.\n",
      "The number 5 is Prime.\n",
      "The number 6 is not Prime.\n",
      "The number 7 is Prime.\n",
      "The number 8 is not Prime.\n",
      "The number 9 is not Prime.\n",
      "The number 10 is not Prime.\n",
      "The number 11 is Prime.\n",
      "The number 12 is not Prime.\n",
      "The number 13 is Prime.\n",
      "The number 14 is not Prime.\n",
      "The number 15 is not Prime.\n",
      "The number 16 is not Prime.\n",
      "The number 17 is Prime.\n",
      "The number 18 is not Prime.\n",
      "The number 19 is Prime.\n"
     ]
    }
   ],
   "source": [
    "for number in range(2, 20):\n",
    "    status = prime(number)\n",
    "    if status:\n",
    "        print(f\"The number {number} is Prime.\")\n",
    "    \n",
    "    else:\n",
    "        print(f\"The number {number} is not Prime.\")"
   ]
  },
  {
   "cell_type": "code",
   "execution_count": null,
   "id": "342694eb",
   "metadata": {},
   "outputs": [],
   "source": []
  }
 ],
 "metadata": {
  "kernelspec": {
   "display_name": "Python 3 (ipykernel)",
   "language": "python",
   "name": "python3"
  },
  "language_info": {
   "codemirror_mode": {
    "name": "ipython",
    "version": 3
   },
   "file_extension": ".py",
   "mimetype": "text/x-python",
   "name": "python",
   "nbconvert_exporter": "python",
   "pygments_lexer": "ipython3",
   "version": "3.11.1"
  }
 },
 "nbformat": 4,
 "nbformat_minor": 5
}
