{
 "cells": [
  {
   "cell_type": "code",
   "execution_count": 1,
   "id": "b27608e9",
   "metadata": {},
   "outputs": [],
   "source": [
    "def factorial(num):\n",
    "    fact = 1\n",
    "    if num <= 0:\n",
    "        print(\"invalid Number\")\n",
    "    \n",
    "    elif num == 0 or num == 1:\n",
    "        return 1\n",
    "    \n",
    "    else:\n",
    "        for index in range(2, num + 1):\n",
    "            fact = fact * index\n",
    "        \n",
    "        return fact"
   ]
  },
  {
   "cell_type": "code",
   "execution_count": 4,
   "id": "90985848",
   "metadata": {},
   "outputs": [
    {
     "data": {
      "text/plain": [
       "24"
      ]
     },
     "execution_count": 4,
     "metadata": {},
     "output_type": "execute_result"
    }
   ],
   "source": [
    "factorial(4)"
   ]
  },
  {
   "cell_type": "code",
   "execution_count": null,
   "id": "0a7df305",
   "metadata": {},
   "outputs": [],
   "source": []
  }
 ],
 "metadata": {
  "kernelspec": {
   "display_name": "Python 3 (ipykernel)",
   "language": "python",
   "name": "python3"
  },
  "language_info": {
   "codemirror_mode": {
    "name": "ipython",
    "version": 3
   },
   "file_extension": ".py",
   "mimetype": "text/x-python",
   "name": "python",
   "nbconvert_exporter": "python",
   "pygments_lexer": "ipython3",
   "version": "3.11.1"
  }
 },
 "nbformat": 4,
 "nbformat_minor": 5
}
