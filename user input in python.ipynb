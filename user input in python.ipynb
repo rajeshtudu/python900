{
 "cells": [
  {
   "cell_type": "code",
   "execution_count": null,
   "id": "e4546e31",
   "metadata": {},
   "outputs": [],
   "source": [
    "a = 20"
   ]
  },
  {
   "cell_type": "code",
   "execution_count": null,
   "id": "c1444742",
   "metadata": {},
   "outputs": [],
   "source": [
    "input(\"Enter a number: \")"
   ]
  },
  {
   "cell_type": "code",
   "execution_count": null,
   "id": "81bd2fcf",
   "metadata": {
    "scrolled": true
   },
   "outputs": [],
   "source": [
    "num1 = input(\"Enter a number: \")\n",
    "print(num1)"
   ]
  },
  {
   "cell_type": "code",
   "execution_count": 2,
   "id": "746ffd7b",
   "metadata": {},
   "outputs": [
    {
     "name": "stdout",
     "output_type": "stream",
     "text": [
      "Enter first number: 1\n",
      "Enter a second number: 2\n",
      "12\n"
     ]
    }
   ],
   "source": [
    "num1 = input(\"Enter first number: \")\n",
    "num2 = input(\"Enter a second number: \")\n",
    "c = num1 + num2\n",
    "print(c)"
   ]
  },
  {
   "cell_type": "code",
   "execution_count": 3,
   "id": "4dd9aaa7",
   "metadata": {},
   "outputs": [],
   "source": [
    "# inspection"
   ]
  },
  {
   "cell_type": "code",
   "execution_count": 5,
   "id": "808647e7",
   "metadata": {},
   "outputs": [
    {
     "name": "stdout",
     "output_type": "stream",
     "text": [
      "Enter a number: 2\n"
     ]
    },
    {
     "data": {
      "text/plain": [
       "str"
      ]
     },
     "execution_count": 5,
     "metadata": {},
     "output_type": "execute_result"
    }
   ],
   "source": [
    "num1 = input(\"Enter a number: \")\n",
    "type(num1) # input() takes str as default data type"
   ]
  },
  {
   "cell_type": "code",
   "execution_count": 6,
   "id": "04cbd7e0",
   "metadata": {},
   "outputs": [
    {
     "data": {
      "text/plain": [
       "99"
      ]
     },
     "execution_count": 6,
     "metadata": {},
     "output_type": "execute_result"
    }
   ],
   "source": [
    "int(\"99\")"
   ]
  },
  {
   "cell_type": "code",
   "execution_count": 7,
   "id": "b6dadfbe",
   "metadata": {},
   "outputs": [
    {
     "data": {
      "text/plain": [
       "int"
      ]
     },
     "execution_count": 7,
     "metadata": {},
     "output_type": "execute_result"
    }
   ],
   "source": [
    "type(int(\"99\"))"
   ]
  },
  {
   "cell_type": "code",
   "execution_count": 8,
   "id": "d26fbed7",
   "metadata": {},
   "outputs": [
    {
     "name": "stdout",
     "output_type": "stream",
     "text": [
      "Enter a number: 55\n"
     ]
    },
    {
     "data": {
      "text/plain": [
       "int"
      ]
     },
     "execution_count": 8,
     "metadata": {},
     "output_type": "execute_result"
    }
   ],
   "source": [
    "num1 = int(input(\"Enter a number: \"))\n",
    "type(num1)"
   ]
  },
  {
   "cell_type": "code",
   "execution_count": 9,
   "id": "43d58fb6",
   "metadata": {},
   "outputs": [
    {
     "name": "stdout",
     "output_type": "stream",
     "text": [
      "Enter first number: 2\n",
      "Enter second number: 44\n",
      "46\n"
     ]
    }
   ],
   "source": [
    "num1 = int(input(\"Enter first number: \"))\n",
    "num2 = int(input(\"Enter second number: \"))\n",
    "c = num1 + num2\n",
    "print(c)"
   ]
  },
  {
   "cell_type": "code",
   "execution_count": null,
   "id": "c064cf02",
   "metadata": {},
   "outputs": [],
   "source": []
  }
 ],
 "metadata": {
  "kernelspec": {
   "display_name": "Python 3 (ipykernel)",
   "language": "python",
   "name": "python3"
  },
  "language_info": {
   "codemirror_mode": {
    "name": "ipython",
    "version": 3
   },
   "file_extension": ".py",
   "mimetype": "text/x-python",
   "name": "python",
   "nbconvert_exporter": "python",
   "pygments_lexer": "ipython3",
   "version": "3.11.1"
  }
 },
 "nbformat": 4,
 "nbformat_minor": 5
}
