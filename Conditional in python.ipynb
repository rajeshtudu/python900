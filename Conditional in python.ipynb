{
 "cells": [
  {
   "cell_type": "code",
   "execution_count": null,
   "id": "7b138158",
   "metadata": {},
   "outputs": [],
   "source": [
    "num = int(input(\"Enter a number: \"))"
   ]
  },
  {
   "cell_type": "code",
   "execution_count": null,
   "id": "202c7c8d",
   "metadata": {},
   "outputs": [],
   "source": [
    "print(num)"
   ]
  },
  {
   "cell_type": "code",
   "execution_count": null,
   "id": "b3c5731e",
   "metadata": {},
   "outputs": [],
   "source": [
    "rem = num % 2"
   ]
  },
  {
   "cell_type": "code",
   "execution_count": null,
   "id": "a2eb278c",
   "metadata": {},
   "outputs": [],
   "source": [
    "print(rem)"
   ]
  },
  {
   "cell_type": "code",
   "execution_count": null,
   "id": "d3ac49f4",
   "metadata": {},
   "outputs": [],
   "source": [
    "if rem == 0:\n",
    "    print(\"The number is even.\")\n",
    "    \n",
    "else:\n",
    "    print(\"The number is odd.\")"
   ]
  },
  {
   "cell_type": "code",
   "execution_count": null,
   "id": "e09534fa",
   "metadata": {},
   "outputs": [],
   "source": [
    "num = int(input(\"Enter a number: \"))\n",
    "rem = num % 2\n",
    "\n",
    "if rem == 0:\n",
    "    print(\"The number is even.\")\n",
    "    \n",
    "else:\n",
    "    print(\"The number is odd.\")"
   ]
  },
  {
   "cell_type": "code",
   "execution_count": null,
   "id": "dcafa7b7",
   "metadata": {},
   "outputs": [],
   "source": [
    "num = int(input(\"Enter a number: \"))\n",
    "\n",
    "if num % 2 == 0:\n",
    "    print(f\"The number {num} is even.\")\n",
    "    \n",
    "else:\n",
    "    print(f\"The number {num} is odd.\")"
   ]
  },
  {
   "cell_type": "code",
   "execution_count": null,
   "id": "35ede358",
   "metadata": {},
   "outputs": [],
   "source": [
    "10 == 10"
   ]
  },
  {
   "cell_type": "code",
   "execution_count": null,
   "id": "4437dce4",
   "metadata": {},
   "outputs": [],
   "source": [
    "10 == 9"
   ]
  },
  {
   "cell_type": "code",
   "execution_count": null,
   "id": "187261eb",
   "metadata": {},
   "outputs": [],
   "source": [
    "a = 2\n",
    "if a % 2 == 0:\n",
    "    print(\"Even\")"
   ]
  },
  {
   "cell_type": "code",
   "execution_count": null,
   "id": "f7b3c515",
   "metadata": {},
   "outputs": [],
   "source": [
    "a = 2\n",
    "if a % 2 == 0:\n",
    "print(\"Even\")"
   ]
  },
  {
   "cell_type": "code",
   "execution_count": 1,
   "id": "62d59e49",
   "metadata": {},
   "outputs": [
    {
     "name": "stdout",
     "output_type": "stream",
     "text": [
      "Enter a number: 23\n",
      "The number is not 10.\n"
     ]
    }
   ],
   "source": [
    "num = int(input(\"Enter a number: \"))\n",
    "\n",
    "if num == 10:\n",
    "    print(\"The number is 10\")\n",
    "    \n",
    "else:\n",
    "    print(\"The number is not 10.\")"
   ]
  },
  {
   "cell_type": "code",
   "execution_count": null,
   "id": "54096387",
   "metadata": {},
   "outputs": [],
   "source": []
  }
 ],
 "metadata": {
  "kernelspec": {
   "display_name": "Python 3 (ipykernel)",
   "language": "python",
   "name": "python3"
  },
  "language_info": {
   "codemirror_mode": {
    "name": "ipython",
    "version": 3
   },
   "file_extension": ".py",
   "mimetype": "text/x-python",
   "name": "python",
   "nbconvert_exporter": "python",
   "pygments_lexer": "ipython3",
   "version": "3.11.1"
  }
 },
 "nbformat": 4,
 "nbformat_minor": 5
}
