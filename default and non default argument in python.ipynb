{
 "cells": [
  {
   "cell_type": "code",
   "execution_count": 1,
   "id": "2fffd88a",
   "metadata": {},
   "outputs": [],
   "source": [
    "def greet(name, msg):\n",
    "    print(f\"Hello, {name}. {msg}\")"
   ]
  },
  {
   "cell_type": "code",
   "execution_count": 2,
   "id": "fd0e84c7",
   "metadata": {},
   "outputs": [
    {
     "name": "stdout",
     "output_type": "stream",
     "text": [
      "Hello, Kshitiz. Good Morning\n"
     ]
    }
   ],
   "source": [
    "greet(name = 'Kshitiz', msg = 'Good Morning')"
   ]
  },
  {
   "cell_type": "code",
   "execution_count": 3,
   "id": "e426ffe8",
   "metadata": {},
   "outputs": [
    {
     "name": "stdout",
     "output_type": "stream",
     "text": [
      "Hello, Pankaj. Good Morning\n"
     ]
    }
   ],
   "source": [
    "greet(name = 'Pankaj', msg = 'Good Morning')"
   ]
  },
  {
   "cell_type": "code",
   "execution_count": 4,
   "id": "92218d28",
   "metadata": {},
   "outputs": [
    {
     "name": "stdout",
     "output_type": "stream",
     "text": [
      "Hello, Siddhanth. Good Morning\n"
     ]
    }
   ],
   "source": [
    "greet(name = 'Siddhanth', msg = 'Good Morning')"
   ]
  },
  {
   "cell_type": "markdown",
   "id": "e7e1d1df",
   "metadata": {},
   "source": [
    "# Defalut Argument"
   ]
  },
  {
   "cell_type": "code",
   "execution_count": 5,
   "id": "531cc1c3",
   "metadata": {},
   "outputs": [],
   "source": [
    "def greet(name, msg = 'Good Morning'): # msg is a default argument\n",
    "    print(f\"Hello, {name}. {msg}\")"
   ]
  },
  {
   "cell_type": "code",
   "execution_count": 6,
   "id": "6e5c8ffe",
   "metadata": {},
   "outputs": [
    {
     "name": "stdout",
     "output_type": "stream",
     "text": [
      "Hello, Kshitiz. Good Morning\n"
     ]
    }
   ],
   "source": [
    "greet(name = \"Kshitiz\")"
   ]
  },
  {
   "cell_type": "code",
   "execution_count": 7,
   "id": "35870b7c",
   "metadata": {},
   "outputs": [
    {
     "name": "stdout",
     "output_type": "stream",
     "text": [
      "Hello, Pankaj. Good Morning\n"
     ]
    }
   ],
   "source": [
    "greet(name = 'Pankaj')"
   ]
  },
  {
   "cell_type": "code",
   "execution_count": 9,
   "id": "3d7a27e6",
   "metadata": {},
   "outputs": [
    {
     "name": "stdout",
     "output_type": "stream",
     "text": [
      "Hello, Ram. Good Afternoon\n"
     ]
    }
   ],
   "source": [
    "greet(name = \"Ram\", msg = \"Good Afternoon\") # msg now overides default argument"
   ]
  },
  {
   "cell_type": "markdown",
   "id": "c01d3fdb",
   "metadata": {},
   "source": [
    "# default argument vs non default argument"
   ]
  },
  {
   "cell_type": "code",
   "execution_count": 10,
   "id": "56beb142",
   "metadata": {},
   "outputs": [
    {
     "ename": "SyntaxError",
     "evalue": "non-default argument follows default argument (2284068273.py, line 1)",
     "output_type": "error",
     "traceback": [
      "\u001b[1;36m  Cell \u001b[1;32mIn[10], line 1\u001b[1;36m\u001b[0m\n\u001b[1;33m    def greet(msg = 'Good Morning', name): # msg is a default argument\u001b[0m\n\u001b[1;37m                                    ^\u001b[0m\n\u001b[1;31mSyntaxError\u001b[0m\u001b[1;31m:\u001b[0m non-default argument follows default argument\n"
     ]
    }
   ],
   "source": [
    "def greet(msg = 'Good Morning', name): # msg is a default argument\n",
    "    print(f\"Hello, {name}. {msg}\")"
   ]
  },
  {
   "cell_type": "code",
   "execution_count": 11,
   "id": "58622182",
   "metadata": {},
   "outputs": [],
   "source": [
    "# msg is default argument and name is non default argument.\n",
    "# non default argument does not follow default argument"
   ]
  },
  {
   "cell_type": "markdown",
   "id": "adb723fa",
   "metadata": {},
   "source": [
    "# Scope of variables in Python Functions: global and local"
   ]
  },
  {
   "cell_type": "code",
   "execution_count": 15,
   "id": "963b7989",
   "metadata": {},
   "outputs": [],
   "source": [
    "x = 'Awesome'\n",
    "\n",
    "def describe():\n",
    "    x = 'Fantastic'\n",
    "    y = 'Python'\n",
    "    print(f\"{y} is {x}\")"
   ]
  },
  {
   "cell_type": "code",
   "execution_count": 16,
   "id": "fe8fcb40",
   "metadata": {},
   "outputs": [
    {
     "name": "stdout",
     "output_type": "stream",
     "text": [
      "Awesome\n"
     ]
    }
   ],
   "source": [
    "print(x)"
   ]
  },
  {
   "cell_type": "code",
   "execution_count": 17,
   "id": "71227e56",
   "metadata": {},
   "outputs": [
    {
     "name": "stdout",
     "output_type": "stream",
     "text": [
      "Python is Fantastic\n"
     ]
    }
   ],
   "source": [
    "describe()"
   ]
  },
  {
   "cell_type": "code",
   "execution_count": 18,
   "id": "b3b6203e",
   "metadata": {},
   "outputs": [
    {
     "ename": "NameError",
     "evalue": "name 'y' is not defined",
     "output_type": "error",
     "traceback": [
      "\u001b[1;31m---------------------------------------------------------------------------\u001b[0m",
      "\u001b[1;31mNameError\u001b[0m                                 Traceback (most recent call last)",
      "Cell \u001b[1;32mIn[18], line 1\u001b[0m\n\u001b[1;32m----> 1\u001b[0m \u001b[43my\u001b[49m \u001b[38;5;66;03m# y is local to function \u001b[39;00m\n",
      "\u001b[1;31mNameError\u001b[0m: name 'y' is not defined"
     ]
    }
   ],
   "source": [
    "y # y is local to function "
   ]
  },
  {
   "cell_type": "code",
   "execution_count": 27,
   "id": "47217f2f",
   "metadata": {},
   "outputs": [],
   "source": [
    "x = 'Awesome'\n",
    "\n",
    "def describe():\n",
    "    global y\n",
    "    global x\n",
    "    x = 'Fantastic'\n",
    "    y = 'Python'\n",
    "    print(f\"{y} is {x}\")"
   ]
  },
  {
   "cell_type": "code",
   "execution_count": 28,
   "id": "05868a34",
   "metadata": {},
   "outputs": [
    {
     "data": {
      "text/plain": [
       "'Awesome'"
      ]
     },
     "execution_count": 28,
     "metadata": {},
     "output_type": "execute_result"
    }
   ],
   "source": [
    "x"
   ]
  },
  {
   "cell_type": "code",
   "execution_count": 29,
   "id": "4c756305",
   "metadata": {},
   "outputs": [
    {
     "name": "stdout",
     "output_type": "stream",
     "text": [
      "Python is Fantastic\n"
     ]
    }
   ],
   "source": [
    "describe()"
   ]
  },
  {
   "cell_type": "code",
   "execution_count": 30,
   "id": "0de0a1f9",
   "metadata": {},
   "outputs": [
    {
     "data": {
      "text/plain": [
       "'Python'"
      ]
     },
     "execution_count": 30,
     "metadata": {},
     "output_type": "execute_result"
    }
   ],
   "source": [
    "y"
   ]
  },
  {
   "cell_type": "code",
   "execution_count": 31,
   "id": "a667d299",
   "metadata": {},
   "outputs": [
    {
     "data": {
      "text/plain": [
       "'Fantastic'"
      ]
     },
     "execution_count": 31,
     "metadata": {},
     "output_type": "execute_result"
    }
   ],
   "source": [
    "x"
   ]
  },
  {
   "cell_type": "code",
   "execution_count": null,
   "id": "dd691143",
   "metadata": {},
   "outputs": [],
   "source": []
  }
 ],
 "metadata": {
  "kernelspec": {
   "display_name": "Python 3 (ipykernel)",
   "language": "python",
   "name": "python3"
  },
  "language_info": {
   "codemirror_mode": {
    "name": "ipython",
    "version": 3
   },
   "file_extension": ".py",
   "mimetype": "text/x-python",
   "name": "python",
   "nbconvert_exporter": "python",
   "pygments_lexer": "ipython3",
   "version": "3.11.1"
  }
 },
 "nbformat": 4,
 "nbformat_minor": 5
}
