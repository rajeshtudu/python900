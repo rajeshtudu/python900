{
 "cells": [
  {
   "cell_type": "markdown",
   "id": "d536947e",
   "metadata": {},
   "source": [
    "# write a program that accepts a string and calculate the number of upper-case letters and lower-case letters"
   ]
  },
  {
   "cell_type": "code",
   "execution_count": 18,
   "id": "9e719a8f",
   "metadata": {},
   "outputs": [
    {
     "name": "stdout",
     "output_type": "stream",
     "text": [
      "Enter a word: HellO\n",
      "The total uppercase letter in HellO is 2.\n",
      "The total lowercase letter in HellO is 3.\n"
     ]
    }
   ],
   "source": [
    "def case(user_input):\n",
    "    uppercase = 0\n",
    "    lowercase = 0\n",
    "    for letter in user_input:\n",
    "        if letter.isupper():\n",
    "            uppercase = uppercase + 1\n",
    "        \n",
    "        else:\n",
    "            lowercase = lowercase + 1\n",
    "    return uppercase, lowercase\n",
    "user_input = input(\"Enter a word: \")\n",
    "uppercase, lowercase = case(user_input)\n",
    "print(f\"The total uppercase letter in {user_input} is {uppercase}.\")\n",
    "print(f\"The total lowercase letter in {user_input} is {lowercase}.\")"
   ]
  },
  {
   "cell_type": "markdown",
   "id": "445322a8",
   "metadata": {},
   "source": [
    "# write a Python program that accepts a hypen-separated sequence of words as input and prints the words in hypen-separated sequence after sorting them  alphabetically ."
   ]
  },
  {
   "cell_type": "code",
   "execution_count": 58,
   "id": "8f226162",
   "metadata": {},
   "outputs": [
    {
     "data": {
      "text/plain": [
       "'black-green-red-white-yellow'"
      ]
     },
     "execution_count": 58,
     "metadata": {},
     "output_type": "execute_result"
    }
   ],
   "source": [
    "data = 'green-red-yellow-black-white'\n",
    "def sort_word(data):\n",
    "    word = data.split('-')\n",
    "    word.sort()\n",
    "    word = '-'.join(word)\n",
    "    return word\n",
    "result = sort_word(data)\n",
    "result"
   ]
  },
  {
   "cell_type": "markdown",
   "id": "e36059f9",
   "metadata": {},
   "source": [
    "# Python program to Display 5th fibonacci Sequence Using Recursion"
   ]
  },
  {
   "cell_type": "code",
   "execution_count": 48,
   "id": "582f2ebf",
   "metadata": {},
   "outputs": [
    {
     "name": "stdout",
     "output_type": "stream",
     "text": [
      "Enter the sequence to be displayed of fibonacci sequence: 5\n",
      "5\n"
     ]
    }
   ],
   "source": [
    "def fibonacci_series(n):\n",
    "    if n <= 0:\n",
    "        return 0\n",
    "    elif n == 1 or n == 2:\n",
    "        return 1\n",
    "    else:\n",
    "        return fibonacci_series(n-1) + fibonacci_series(n-2)\n",
    "n = int(input(\"Enter the sequence to be displayed of fibonacci sequence: \"))\n",
    "print(fibonacci_series(n))\n"
   ]
  },
  {
   "cell_type": "markdown",
   "id": "8ccf21a7",
   "metadata": {},
   "source": [
    "# Write a program that takes a list and returns a new list with unique elements of first list."
   ]
  },
  {
   "cell_type": "code",
   "execution_count": 56,
   "id": "50b38343",
   "metadata": {},
   "outputs": [
    {
     "name": "stdout",
     "output_type": "stream",
     "text": [
      "The items in new list =  [1, 3, 4, 2, 5, 32, 7, 8, 42, 9, 10, 6]\n"
     ]
    }
   ],
   "source": [
    "def unique_list(user_list):\n",
    "    new_list = []\n",
    "    for item in user_list:\n",
    "        if item not in new_list:\n",
    "            new_list.append(item)\n",
    "    return new_list\n",
    "user_list = [1,3,4,2,4,5,5,32,5,7,8,42,32,8,9,10,1,3,4,6,7,7,6]\n",
    "new_list = unique_list(user_list)\n",
    "print('The items in new list = ', new_list)\n"
   ]
  },
  {
   "cell_type": "code",
   "execution_count": null,
   "id": "66823a6b",
   "metadata": {},
   "outputs": [],
   "source": []
  }
 ],
 "metadata": {
  "kernelspec": {
   "display_name": "Python 3 (ipykernel)",
   "language": "python",
   "name": "python3"
  },
  "language_info": {
   "codemirror_mode": {
    "name": "ipython",
    "version": 3
   },
   "file_extension": ".py",
   "mimetype": "text/x-python",
   "name": "python",
   "nbconvert_exporter": "python",
   "pygments_lexer": "ipython3",
   "version": "3.11.1"
  }
 },
 "nbformat": 4,
 "nbformat_minor": 5
}
