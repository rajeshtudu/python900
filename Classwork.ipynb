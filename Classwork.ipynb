{
 "cells": [
  {
   "cell_type": "code",
   "execution_count": 10,
   "id": "c6db2a58",
   "metadata": {},
   "outputs": [
    {
     "name": "stdout",
     "output_type": "stream",
     "text": [
      "Enter a number: 0\n",
      "The number 0 is positive.\n"
     ]
    }
   ],
   "source": [
    "# WAP to check the given number is positive or negative\n",
    "user_input = int(input(\"Enter a number: \"))\n",
    "\n",
    "if user_input >= 0:\n",
    "    print(f\"The number {user_input} is positive.\")\n",
    "    \n",
    "else:\n",
    "    print(f\"The number {user_input} is negative.\")"
   ]
  },
  {
   "cell_type": "code",
   "execution_count": null,
   "id": "005fbf0d",
   "metadata": {},
   "outputs": [],
   "source": []
  }
 ],
 "metadata": {
  "kernelspec": {
   "display_name": "Python 3 (ipykernel)",
   "language": "python",
   "name": "python3"
  },
  "language_info": {
   "codemirror_mode": {
    "name": "ipython",
    "version": 3
   },
   "file_extension": ".py",
   "mimetype": "text/x-python",
   "name": "python",
   "nbconvert_exporter": "python",
   "pygments_lexer": "ipython3",
   "version": "3.11.1"
  }
 },
 "nbformat": 4,
 "nbformat_minor": 5
}
