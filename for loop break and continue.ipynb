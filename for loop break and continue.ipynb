{
 "cells": [
  {
   "cell_type": "markdown",
   "id": "fddee94a",
   "metadata": {},
   "source": [
    "# Write a program to print vowels or consonant from the given word\n",
    "\n",
    "# s = \"aeyi\""
   ]
  },
  {
   "cell_type": "code",
   "execution_count": 1,
   "id": "ab2e4a4a",
   "metadata": {
    "scrolled": true
   },
   "outputs": [
    {
     "name": "stdout",
     "output_type": "stream",
     "text": [
      "The letter a is vowel.\n",
      "The letter e is vowel.\n",
      "The letter y is consonant.\n",
      "The letter i is vowel.\n"
     ]
    }
   ],
   "source": [
    "s = 'aeyi'\n",
    "\n",
    "for index in range(0, len(s), 1):\n",
    "    \n",
    "    if s[index] == \"a\":\n",
    "        print(f\"The letter {s[index]} is vowel.\")\n",
    "    \n",
    "    elif s[index] == \"e\":\n",
    "        print(f\"The letter {s[index]} is vowel.\")\n",
    "    \n",
    "    elif s[index] == \"i\":\n",
    "        print(f\"The letter {s[index]} is vowel.\")\n",
    "    \n",
    "    elif s[index] == \"o\":\n",
    "        print(f\"The letter {s[index]} is vowel.\")\n",
    "    \n",
    "    elif s[index] == \"u\":\n",
    "        print(f\"The letter {s[index]} is vowel.\")\n",
    "        \n",
    "    else:\n",
    "        print(f\"The letter {s[index]} is consonant.\")"
   ]
  },
  {
   "cell_type": "markdown",
   "id": "8d1b7e63",
   "metadata": {},
   "source": [
    "# WAP to count vowel and consonant in given word\n",
    "\n",
    "# word = \"hello\""
   ]
  },
  {
   "cell_type": "code",
   "execution_count": 4,
   "id": "6f95d724",
   "metadata": {},
   "outputs": [
    {
     "name": "stdout",
     "output_type": "stream",
     "text": [
      "There are 2 vowels.\n",
      "There are 3 consonant.\n"
     ]
    }
   ],
   "source": [
    "word = 'hello'\n",
    "vowel = 0\n",
    "count = 0\n",
    "\n",
    "for index in range(0, len(word), 1):\n",
    "    \n",
    "    letter = word[index]\n",
    "    \n",
    "    if letter == \"a\" or letter == 'e' or letter == 'i' or letter == 'o' or letter == 'u':\n",
    "        \n",
    "        vowel = vowel + 1\n",
    "        \n",
    "    else:\n",
    "        \n",
    "        count = count + 1\n",
    "\n",
    "print(f\"There are {vowel} vowels.\")\n",
    "print(f\"There are {count} consonant.\")"
   ]
  },
  {
   "cell_type": "code",
   "execution_count": 7,
   "id": "96784a3e",
   "metadata": {},
   "outputs": [
    {
     "name": "stdout",
     "output_type": "stream",
     "text": [
      "There are 3 vowels in msg.\n",
      "There are 8 consonant in msg.\n"
     ]
    }
   ],
   "source": [
    "msg = 'hello world'\n",
    "vowel = 0\n",
    "consonant = 0\n",
    "\n",
    "for index in range(0, len(msg), 1):\n",
    "    \n",
    "    letter = msg[index]\n",
    "    \n",
    "    if letter == 'a' or letter == 'e' or letter == 'i' or letter == 'o' or letter == 'u':\n",
    "        vowel = vowel + 1\n",
    "        \n",
    "    else:\n",
    "        consonant = consonant + 1\n",
    "        \n",
    "print(f\"There are {vowel} vowels in msg.\")\n",
    "print(f\"There are {consonant} consonant in msg.\")"
   ]
  },
  {
   "cell_type": "code",
   "execution_count": 10,
   "id": "8cb29eb1",
   "metadata": {},
   "outputs": [
    {
     "name": "stdout",
     "output_type": "stream",
     "text": [
      "There are 3 vowels in msg.\n",
      "There are 7 consonant in msg.\n"
     ]
    }
   ],
   "source": [
    "msg = 'hello world'\n",
    "vowel = 0\n",
    "consonant = 0\n",
    "\n",
    "for index in range(0, len(msg), 1):\n",
    "    \n",
    "    letter = msg[index]\n",
    "    \n",
    "    if letter == 'a' or letter == 'e' or letter == 'i' or letter == 'o' or letter == 'u':\n",
    "        vowel = vowel + 1\n",
    "    \n",
    "    elif letter == \" \":\n",
    "        continue\n",
    "        print(\"yo vanda mathi continue xa tei vara yo line print hudaina skip hunxa\")\n",
    "    \n",
    "    else:\n",
    "        consonant = consonant + 1\n",
    "        \n",
    "print(f\"There are {vowel} vowels in msg.\")\n",
    "print(f\"There are {consonant} consonant in msg.\")"
   ]
  },
  {
   "cell_type": "code",
   "execution_count": 1,
   "id": "28d5cd4b",
   "metadata": {},
   "outputs": [
    {
     "name": "stdout",
     "output_type": "stream",
     "text": [
      "0\n",
      "1\n",
      "2\n",
      "4\n",
      "continue statements skips one iteration (our case 3) if conditions match\n"
     ]
    }
   ],
   "source": [
    "for index in range(0, 5, 1):\n",
    "    if index == 3:\n",
    "        continue\n",
    "    print(index)\n",
    "print(\"continue statements skips one iteration (our case 3) if conditions match\")"
   ]
  },
  {
   "cell_type": "code",
   "execution_count": 14,
   "id": "a9e5f68a",
   "metadata": {},
   "outputs": [
    {
     "name": "stdout",
     "output_type": "stream",
     "text": [
      "0\n",
      "1\n",
      "2\n",
      "break statement breaks loop and exits it\n"
     ]
    }
   ],
   "source": [
    "for index in range(5):\n",
    "    if index == 3:\n",
    "        break\n",
    "    print(index)\n",
    "print(\"break statement breaks loop and exits it\")"
   ]
  },
  {
   "cell_type": "code",
   "execution_count": null,
   "id": "4f38b917",
   "metadata": {},
   "outputs": [],
   "source": []
  }
 ],
 "metadata": {
  "kernelspec": {
   "display_name": "Python 3 (ipykernel)",
   "language": "python",
   "name": "python3"
  },
  "language_info": {
   "codemirror_mode": {
    "name": "ipython",
    "version": 3
   },
   "file_extension": ".py",
   "mimetype": "text/x-python",
   "name": "python",
   "nbconvert_exporter": "python",
   "pygments_lexer": "ipython3",
   "version": "3.11.1"
  }
 },
 "nbformat": 4,
 "nbformat_minor": 5
}
