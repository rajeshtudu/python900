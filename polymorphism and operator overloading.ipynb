{
 "cells": [
  {
   "cell_type": "markdown",
   "id": "12363008",
   "metadata": {},
   "source": [
    "# Operator Overloading gives extended meaning beyond thier predefined operational meaning --Polymorphism"
   ]
  },
  {
   "cell_type": "code",
   "execution_count": 1,
   "id": "25dfc59f",
   "metadata": {},
   "outputs": [
    {
     "data": {
      "text/plain": [
       "7"
      ]
     },
     "execution_count": 1,
     "metadata": {},
     "output_type": "execute_result"
    }
   ],
   "source": [
    "# + operators add two numbers\n",
    "2+5"
   ]
  },
  {
   "cell_type": "code",
   "execution_count": 2,
   "id": "3d61b9df",
   "metadata": {},
   "outputs": [
    {
     "data": {
      "text/plain": [
       "'hi Good, Morning!'"
      ]
     },
     "execution_count": 2,
     "metadata": {},
     "output_type": "execute_result"
    }
   ],
   "source": [
    "# + operators concats two strings\n",
    "\"hi\" + \" Good, Morning!\""
   ]
  },
  {
   "cell_type": "code",
   "execution_count": 3,
   "id": "ce39fa0b",
   "metadata": {},
   "outputs": [
    {
     "data": {
      "text/plain": [
       "[55, 6, 8, 7]"
      ]
     },
     "execution_count": 3,
     "metadata": {},
     "output_type": "execute_result"
    }
   ],
   "source": [
    "# + concats two list\n",
    "[55, 6] + [8, 7]"
   ]
  },
  {
   "cell_type": "markdown",
   "id": "81ecafc3",
   "metadata": {},
   "source": [
    "# operator overloading in user defined class"
   ]
  },
  {
   "cell_type": "code",
   "execution_count": 4,
   "id": "2f9a6d68",
   "metadata": {},
   "outputs": [],
   "source": [
    "class Account:\n",
    "    def __init__(self, name, balance):\n",
    "        self.name = name\n",
    "        self.balance = balance"
   ]
  },
  {
   "cell_type": "code",
   "execution_count": 5,
   "id": "e087d945",
   "metadata": {},
   "outputs": [],
   "source": [
    "ac1 = Account(\"Kshitiz\", 98988754651)\n",
    "ac2 = Account(\"Rma\", 7879454654)"
   ]
  },
  {
   "cell_type": "code",
   "execution_count": 6,
   "id": "3604999f",
   "metadata": {},
   "outputs": [
    {
     "ename": "TypeError",
     "evalue": "unsupported operand type(s) for +: 'Account' and 'Account'",
     "output_type": "error",
     "traceback": [
      "\u001b[1;31m---------------------------------------------------------------------------\u001b[0m",
      "\u001b[1;31mTypeError\u001b[0m                                 Traceback (most recent call last)",
      "Cell \u001b[1;32mIn[6], line 1\u001b[0m\n\u001b[1;32m----> 1\u001b[0m \u001b[43mac1\u001b[49m\u001b[43m \u001b[49m\u001b[38;5;241;43m+\u001b[39;49m\u001b[43m \u001b[49m\u001b[43mac2\u001b[49m\n",
      "\u001b[1;31mTypeError\u001b[0m: unsupported operand type(s) for +: 'Account' and 'Account'"
     ]
    }
   ],
   "source": [
    "ac1 + ac2"
   ]
  },
  {
   "cell_type": "markdown",
   "id": "a99f107c",
   "metadata": {},
   "source": [
    "# Dunder`__add__` is used to overload + operator in user defined class"
   ]
  },
  {
   "cell_type": "code",
   "execution_count": 7,
   "id": "6aa3324c",
   "metadata": {},
   "outputs": [],
   "source": [
    "class Account:\n",
    "    def __init__(self, name, balance):\n",
    "        self.name = name\n",
    "        self.balance = balance\n",
    "        \n",
    "    def __add__(self, otherobj):\n",
    "        return self.balance + otherobj.balance"
   ]
  },
  {
   "cell_type": "code",
   "execution_count": 8,
   "id": "2a88a407",
   "metadata": {},
   "outputs": [],
   "source": [
    "ac1 = Account(\"Kshitiz\", 98988754651)\n",
    "ac2 = Account(\"Rma\", 7879454654)"
   ]
  },
  {
   "cell_type": "code",
   "execution_count": 9,
   "id": "d08f16dd",
   "metadata": {},
   "outputs": [
    {
     "data": {
      "text/plain": [
       "106868209305"
      ]
     },
     "execution_count": 9,
     "metadata": {},
     "output_type": "execute_result"
    }
   ],
   "source": [
    "ac1 + ac2"
   ]
  },
  {
   "cell_type": "markdown",
   "id": "aca5edb2",
   "metadata": {},
   "source": [
    "# we have given + extended meaning to add two account type only therefore, we cannot add Account type and Int type"
   ]
  },
  {
   "cell_type": "code",
   "execution_count": 11,
   "id": "d55f3f58",
   "metadata": {},
   "outputs": [
    {
     "ename": "AttributeError",
     "evalue": "'int' object has no attribute 'balance'",
     "output_type": "error",
     "traceback": [
      "\u001b[1;31m---------------------------------------------------------------------------\u001b[0m",
      "\u001b[1;31mAttributeError\u001b[0m                            Traceback (most recent call last)",
      "Cell \u001b[1;32mIn[11], line 1\u001b[0m\n\u001b[1;32m----> 1\u001b[0m \u001b[43mac1\u001b[49m\u001b[43m \u001b[49m\u001b[38;5;241;43m+\u001b[39;49m\u001b[43m \u001b[49m\u001b[38;5;241;43m5000\u001b[39;49m  \n",
      "Cell \u001b[1;32mIn[7], line 7\u001b[0m, in \u001b[0;36mAccount.__add__\u001b[1;34m(self, otherobj)\u001b[0m\n\u001b[0;32m      6\u001b[0m \u001b[38;5;28;01mdef\u001b[39;00m \u001b[38;5;21m__add__\u001b[39m(\u001b[38;5;28mself\u001b[39m, otherobj):\n\u001b[1;32m----> 7\u001b[0m     \u001b[38;5;28;01mreturn\u001b[39;00m \u001b[38;5;28mself\u001b[39m\u001b[38;5;241m.\u001b[39mbalance \u001b[38;5;241m+\u001b[39m \u001b[43motherobj\u001b[49m\u001b[38;5;241;43m.\u001b[39;49m\u001b[43mbalance\u001b[49m\n",
      "\u001b[1;31mAttributeError\u001b[0m: 'int' object has no attribute 'balance'"
     ]
    }
   ],
   "source": [
    "ac1 + 5000  "
   ]
  },
  {
   "cell_type": "markdown",
   "id": "dd7824d6",
   "metadata": {},
   "source": [
    "# Polymorphism can occur in inheritance by overriding the parent class method or function on child class"
   ]
  },
  {
   "cell_type": "code",
   "execution_count": 21,
   "id": "22f20b84",
   "metadata": {},
   "outputs": [],
   "source": [
    "class Parent:\n",
    "    def display(self):\n",
    "        print(\"Ma sanga paisa xaina tei vayera parent ko mageko\")\n",
    "        \n",
    "class Child:\n",
    "    def __init__(self):\n",
    "        super().__init__()\n",
    "        \n",
    "    def display(self):\n",
    "        print(\"Ma sanga paisa xa ma parent sanga magdina\")"
   ]
  },
  {
   "cell_type": "code",
   "execution_count": 22,
   "id": "c45c5dbd",
   "metadata": {},
   "outputs": [],
   "source": [
    "ma = Child()"
   ]
  },
  {
   "cell_type": "code",
   "execution_count": 23,
   "id": "8666208d",
   "metadata": {},
   "outputs": [
    {
     "name": "stdout",
     "output_type": "stream",
     "text": [
      "Ma sanga paisa xa ma parent sanga magdina\n"
     ]
    }
   ],
   "source": [
    "ma.display()"
   ]
  },
  {
   "cell_type": "code",
   "execution_count": null,
   "id": "cd453992",
   "metadata": {},
   "outputs": [],
   "source": []
  }
 ],
 "metadata": {
  "kernelspec": {
   "display_name": "Python 3 (ipykernel)",
   "language": "python",
   "name": "python3"
  },
  "language_info": {
   "codemirror_mode": {
    "name": "ipython",
    "version": 3
   },
   "file_extension": ".py",
   "mimetype": "text/x-python",
   "name": "python",
   "nbconvert_exporter": "python",
   "pygments_lexer": "ipython3",
   "version": "3.11.1"
  }
 },
 "nbformat": 4,
 "nbformat_minor": 5
}
