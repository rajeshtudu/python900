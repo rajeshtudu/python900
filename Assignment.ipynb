{
 "cells": [
  {
   "cell_type": "markdown",
   "id": "a51980b9",
   "metadata": {},
   "source": [
    "# The volume of a sphere with radius r is 4/3 pi r cube. What is the volume of sphere with radius 5?"
   ]
  },
  {
   "cell_type": "code",
   "execution_count": 1,
   "id": "0569724a",
   "metadata": {},
   "outputs": [
    {
     "name": "stdout",
     "output_type": "stream",
     "text": [
      "The volume of a sphere with radius 5 is 523.33.\n"
     ]
    }
   ],
   "source": [
    "PI = 3.14\n",
    "r = 5\n",
    "volume = 4 / 3 * PI * r ** 3\n",
    "print(f\"The volume of a sphere with radius 5 is {round(volume, 2)}.\")"
   ]
  },
  {
   "cell_type": "markdown",
   "id": "102d81a9",
   "metadata": {},
   "source": [
    "# How many seconds are there in 42 minutes 42 seconds"
   ]
  },
  {
   "cell_type": "code",
   "execution_count": 10,
   "id": "a1374a46",
   "metadata": {},
   "outputs": [
    {
     "name": "stdout",
     "output_type": "stream",
     "text": [
      "Total seconds: 2562\n"
     ]
    }
   ],
   "source": [
    "time = 42 * 60\n",
    "total = time + 42\n",
    "print(f\"Total seconds: {total}\")"
   ]
  },
  {
   "cell_type": "markdown",
   "id": "ada521ad",
   "metadata": {},
   "source": [
    "# How many miles are there in 10 kilometers?"
   ]
  },
  {
   "cell_type": "code",
   "execution_count": 11,
   "id": "4ea64ca1",
   "metadata": {},
   "outputs": [
    {
     "name": "stdout",
     "output_type": "stream",
     "text": [
      "There are 6.215040397762586 miles in 10 kilometers.\n"
     ]
    }
   ],
   "source": [
    "mile = 1.609\n",
    "km = 10\n",
    "conversion = km / mile\n",
    "print(f\"There are {conversion} miles in 10 kilometers.\")"
   ]
  },
  {
   "cell_type": "markdown",
   "id": "7d6c3e7b",
   "metadata": {},
   "source": [
    "# If you run a 10 kilometer race in 42 minutes 42 seconds, what is your average pace?"
   ]
  },
  {
   "cell_type": "code",
   "execution_count": 2,
   "id": "99eeb7b0",
   "metadata": {},
   "outputs": [
    {
     "name": "stdout",
     "output_type": "stream",
     "text": [
      "The averge pace is 0.1455512973714891.\n"
     ]
    }
   ],
   "source": [
    "distance = 10 / 1.609\n",
    "time = 42 + (42 / 60)\n",
    "speed = distance / time\n",
    "print(f\"The averge pace is {speed}.\")"
   ]
  }
 ],
 "metadata": {
  "kernelspec": {
   "display_name": "Python 3 (ipykernel)",
   "language": "python",
   "name": "python3"
  },
  "language_info": {
   "codemirror_mode": {
    "name": "ipython",
    "version": 3
   },
   "file_extension": ".py",
   "mimetype": "text/x-python",
   "name": "python",
   "nbconvert_exporter": "python",
   "pygments_lexer": "ipython3",
   "version": "3.11.1"
  }
 },
 "nbformat": 4,
 "nbformat_minor": 5
}
