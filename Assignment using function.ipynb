{
 "cells": [
  {
   "cell_type": "markdown",
   "id": "5f9f3976",
   "metadata": {},
   "source": [
    "# The volume of a sphere with radius r is 4/3 pi r cube. What is the volume of sphere with radius 5?"
   ]
  },
  {
   "cell_type": "code",
   "execution_count": 5,
   "id": "2f294481",
   "metadata": {},
   "outputs": [
    {
     "name": "stdout",
     "output_type": "stream",
     "text": [
      "Enter radius: 4\n",
      "The volume of sphere is 267.95\n"
     ]
    }
   ],
   "source": [
    "PI = 3.14\n",
    "def volume_of_sphere(radius):\n",
    "    volume = 4 /3 * PI * radius ** 3\n",
    "    return volume\n",
    "\n",
    "radius = int(input(\"Enter radius: \"))\n",
    "print(f\"The volume of sphere is {round(volume_of_sphere(radius), 2)}\")"
   ]
  },
  {
   "cell_type": "markdown",
   "id": "8700cb9d",
   "metadata": {},
   "source": [
    "# How many seconds are there in 42 minutes 42 seconds"
   ]
  },
  {
   "cell_type": "code",
   "execution_count": 6,
   "id": "a1138195",
   "metadata": {},
   "outputs": [
    {
     "name": "stdout",
     "output_type": "stream",
     "text": [
      "There are 2562 seconds in 42 minutes 42 seconds.\n"
     ]
    }
   ],
   "source": [
    "def time(minute,second):\n",
    "    conversion = minute * 60 + second\n",
    "    return conversion\n",
    "\n",
    "total = time(minute = 42, second = 42)\n",
    "print(f\"There are {total} seconds in 42 minutes 42 seconds.\")"
   ]
  },
  {
   "cell_type": "markdown",
   "id": "86e65418",
   "metadata": {},
   "source": [
    "# How many miles are there in 10km?"
   ]
  },
  {
   "cell_type": "code",
   "execution_count": 9,
   "id": "1467309f",
   "metadata": {},
   "outputs": [
    {
     "name": "stdout",
     "output_type": "stream",
     "text": [
      "There are 6.22 in 10km.\n"
     ]
    }
   ],
   "source": [
    "def distance(km):\n",
    "    conversion = km / 1.609\n",
    "    return conversion\n",
    "\n",
    "miles = distance(km = 10)\n",
    "print(f\"There are {round(miles,2)} in 10km.\")"
   ]
  },
  {
   "cell_type": "markdown",
   "id": "ba672f90",
   "metadata": {},
   "source": [
    "# If you run a 10 kilometer race in 42 minutes 42 seconds, what is your average pace?"
   ]
  },
  {
   "cell_type": "code",
   "execution_count": 13,
   "id": "d10e3159",
   "metadata": {},
   "outputs": [
    {
     "name": "stdout",
     "output_type": "stream",
     "text": [
      "The average pace is 0.15.\n"
     ]
    }
   ],
   "source": [
    "def speed(distance, time):\n",
    "    conversion = distance / time\n",
    "    return conversion\n",
    "\n",
    "pace = speed(distance = 10 / 1.609, time = 42 + 42 / 60 )\n",
    "print(f\"The average pace is {round(pace,2)}.\")"
   ]
  },
  {
   "cell_type": "markdown",
   "id": "cc34f998",
   "metadata": {},
   "source": [
    "# write a program to check whether the last digit of a number (entered by user) is divisible by 3 or not."
   ]
  },
  {
   "cell_type": "code",
   "execution_count": 20,
   "id": "86499be7",
   "metadata": {},
   "outputs": [
    {
     "name": "stdout",
     "output_type": "stream",
     "text": [
      "Enter a number: 40\n",
      "The last digit of 40 is 0 is not divisible by 3.\n"
     ]
    }
   ],
   "source": [
    "def check(number):\n",
    "    condition = remainder % 3 == 0\n",
    "    return condition\n",
    "\n",
    "number = int(input(\"Enter a number: \"))\n",
    "remainder = number % 10\n",
    "\n",
    "if remainder != 0:\n",
    "    if check(number):\n",
    "        print(f\"The last digit of {number} is {remainder} is divisible by 3.\")\n",
    "    \n",
    "    else:\n",
    "        print(f\"The last digit of {number} is {remainder} is not divisible by 3.\")        \n",
    "\n",
    "else:\n",
    "    print(f\"The last digit of {number} is {remainder} is not divisible by 3.\")"
   ]
  },
  {
   "cell_type": "markdown",
   "id": "9b73283a",
   "metadata": {},
   "source": [
    "# Write a program to check whether person is eligible for voting or not.(accept age from user)\n"
   ]
  },
  {
   "cell_type": "code",
   "execution_count": 21,
   "id": "ee5a751e",
   "metadata": {},
   "outputs": [
    {
     "name": "stdout",
     "output_type": "stream",
     "text": [
      "Enter your age: 34\n",
      "You are eligible to vote.\n"
     ]
    }
   ],
   "source": [
    "def vote(age):\n",
    "    condition = age >= 18\n",
    "    return condition\n",
    "\n",
    "age = int(input(\"Enter your age: \"))\n",
    "\n",
    "if vote(age):\n",
    "    print(\"You are eligible to vote.\")\n",
    "    \n",
    "else:\n",
    "    print(\"You are not eligible to vote.\")"
   ]
  },
  {
   "cell_type": "markdown",
   "id": "27d4fe0a",
   "metadata": {},
   "source": [
    "# Write a program to display \"Hello\" if a number entered by user is a multiple of five, otherwise print \"Bye\"."
   ]
  },
  {
   "cell_type": "code",
   "execution_count": 22,
   "id": "7ffc177e",
   "metadata": {},
   "outputs": [
    {
     "name": "stdout",
     "output_type": "stream",
     "text": [
      "Enter a number: 44\n",
      "Bye\n"
     ]
    }
   ],
   "source": [
    "def multiple_of_five(number):\n",
    "    condition = number % 5 == 0\n",
    "    return condition\n",
    "\n",
    "number = int(input(\"Enter a number: \"))\n",
    "\n",
    "if multiple_of_five(number):\n",
    "    print(\"Hello\")\n",
    "\n",
    "else:\n",
    "    print(\"Bye\")"
   ]
  },
  {
   "cell_type": "markdown",
   "id": "7f858cbc",
   "metadata": {},
   "source": [
    "# Using string manipulation technique Extract fruits name from txt\n",
    "txt = \"I like Orange Apple Banana and kiwi\""
   ]
  },
  {
   "cell_type": "code",
   "execution_count": 27,
   "id": "22be8d02",
   "metadata": {},
   "outputs": [
    {
     "name": "stdout",
     "output_type": "stream",
     "text": [
      "['orange', 'apple', 'banana', 'kiwi']\n"
     ]
    }
   ],
   "source": [
    "txt = 'I like Orange Apple Banana And Kiwi'\n",
    "def extraction(txt):\n",
    "    txt = txt.lower()\n",
    "    txt = txt.replace(\"i like\", \"\")\n",
    "    txt = txt.replace(\" and\", \"\")\n",
    "    return txt.replace(\".\",\"\").split()\n",
    "\n",
    "print(extraction(txt))"
   ]
  },
  {
   "cell_type": "markdown",
   "id": "e0a8f89c",
   "metadata": {},
   "source": [
    "# Write a program to check if the given number is positive or negative"
   ]
  },
  {
   "cell_type": "code",
   "execution_count": 28,
   "id": "82848b7c",
   "metadata": {},
   "outputs": [
    {
     "name": "stdout",
     "output_type": "stream",
     "text": [
      "Enter a number: -43\n",
      "The number is negative.\n"
     ]
    }
   ],
   "source": [
    "def positive_negative(num):\n",
    "    condition = num > 0\n",
    "    return condition\n",
    "\n",
    "num = int(input(\"Enter a number: \"))\n",
    "number = positive_negative(num)\n",
    "if number:\n",
    "    print(\"The number is positive.\")\n",
    "    \n",
    "else:\n",
    "    print(\"The number is negative.\")"
   ]
  },
  {
   "cell_type": "markdown",
   "id": "f9c88c35",
   "metadata": {},
   "source": [
    "# Arithmetic Operators in Python\n",
    "* Addition(+)\n",
    "* Subtraction(-)\n",
    "* Multiplication(*)\n",
    "* Division(/)\n",
    "* Modulus(%)\n",
    "* Exponential(**)\n",
    "* Floor Division(//)"
   ]
  },
  {
   "cell_type": "code",
   "execution_count": 30,
   "id": "d720f5e9",
   "metadata": {},
   "outputs": [
    {
     "name": "stdout",
     "output_type": "stream",
     "text": [
      "Enter first number: 34\n",
      "Enter second number: 43\n",
      "The sum of two numbers are 77.\n"
     ]
    }
   ],
   "source": [
    "def add(num1, num2):\n",
    "    addition = num1 + num2\n",
    "    return addition\n",
    "\n",
    "num1 = int(input(\"Enter first number: \"))\n",
    "num2 = int(input(\"Enter second number: \"))\n",
    "print(f\"The sum of two numbers are {add(num1, num2)}.\")"
   ]
  },
  {
   "cell_type": "code",
   "execution_count": 32,
   "id": "9dc59e7c",
   "metadata": {},
   "outputs": [
    {
     "name": "stdout",
     "output_type": "stream",
     "text": [
      "Enter first number: 43\n",
      "Enter second number: 34\n",
      "The difference of two numbers are 9.\n"
     ]
    }
   ],
   "source": [
    "def sub(num1, num2):\n",
    "    difference = num1 - num2\n",
    "    return difference\n",
    "\n",
    "num1 = int(input(\"Enter first number: \"))\n",
    "num2 = int(input(\"Enter second number: \"))\n",
    "print(f\"The difference of two numbers are {sub(num1, num2)}.\")"
   ]
  },
  {
   "cell_type": "code",
   "execution_count": 33,
   "id": "27115f82",
   "metadata": {},
   "outputs": [
    {
     "name": "stdout",
     "output_type": "stream",
     "text": [
      "Enter first number: 34\n",
      "Enter second number: 43\n",
      "The product of two numbers are 1462.\n"
     ]
    }
   ],
   "source": [
    "def multiplication(num1, num2):\n",
    "    product = num1 * num2\n",
    "    return num1 * num2\n",
    "\n",
    "num1 = int(input(\"Enter first number: \"))\n",
    "num2 = int(input(\"Enter second number: \"))\n",
    "print(f\"The product of two numbers are {multiplication(num1, num2)}.\")"
   ]
  },
  {
   "cell_type": "code",
   "execution_count": 43,
   "id": "c6f20578",
   "metadata": {},
   "outputs": [
    {
     "name": "stdout",
     "output_type": "stream",
     "text": [
      "Enter first number: 34\n",
      "Enter second number: 9\n",
      "The answer is 3.78.\n"
     ]
    }
   ],
   "source": [
    "def division(num1, num2):\n",
    "    div = num1 / num2\n",
    "    return div\n",
    "\n",
    "num1 = int(input(\"Enter first number: \"))\n",
    "num2 = int(input(\"Enter second number: \"))\n",
    "print(f\"The answer is {round(division(num1, num2),2)}.\")"
   ]
  },
  {
   "cell_type": "code",
   "execution_count": 34,
   "id": "0054d92b",
   "metadata": {},
   "outputs": [
    {
     "name": "stdout",
     "output_type": "stream",
     "text": [
      "Enter first number: 34\n",
      "Enter second number: 4\n",
      "The remaider is 2.\n"
     ]
    }
   ],
   "source": [
    "def modulus(num1, num2):\n",
    "    mod = num1 % num2\n",
    "    return mod\n",
    "\n",
    "num1 = int(input(\"Enter first number: \"))\n",
    "num2 = int(input(\"Enter second number: \"))\n",
    "print(f\"The remaider is {modulus(num1, num2)}.\")"
   ]
  },
  {
   "cell_type": "code",
   "execution_count": 35,
   "id": "58e3e4fd",
   "metadata": {},
   "outputs": [
    {
     "name": "stdout",
     "output_type": "stream",
     "text": [
      "Enter first number: 7\n",
      "Enter second number: 2\n",
      "The base value is 3\n"
     ]
    }
   ],
   "source": [
    "def floor_division(num1, num2):\n",
    "    floor = num1 // num2\n",
    "    return floor\n",
    "\n",
    "num1 = int(input(\"Enter first number: \"))\n",
    "num2 = int(input(\"Enter second number: \"))\n",
    "print(f\"The base value is {floor_division(num1, num2)}\")"
   ]
  },
  {
   "cell_type": "code",
   "execution_count": 41,
   "id": "a86b439a",
   "metadata": {},
   "outputs": [
    {
     "name": "stdout",
     "output_type": "stream",
     "text": [
      "Enter first number: 34\n",
      "Enter second number: 5\n",
      "The sum of two number is 39.\n",
      "The difference of two number is 29.\n",
      "The product of two number is 170.\n",
      "The divsion of two number is 6.8.\n",
      "The remainder is 4.\n",
      "The base value is 6.\n"
     ]
    }
   ],
   "source": [
    "# mathematical operation using function\n",
    "def arithmetic(num1, num2):\n",
    "    add = num1 + num2\n",
    "    sub = num1 - num2\n",
    "    mul = num1 * num2\n",
    "    div = num1 / num2\n",
    "    mod = num1 % num2\n",
    "    floor = num1 // num2\n",
    "    return add, sub, mul, div, mod, floor\n",
    "\n",
    "addition, subtraction, product, division, modulus, floor_division = arithmetic(num1, num2)\n",
    "num1 = int(input(\"Enter first number: \"))\n",
    "num2 = int(input(\"Enter second number: \"))\n",
    "print(f\"The sum of two number is {addition}.\")\n",
    "print(f\"The difference of two number is {subtraction}.\")\n",
    "print(f\"The product of two number is {product}.\")\n",
    "print(f\"The divsion of two number is {round(division,2)}.\")\n",
    "print(f\"The remainder is {modulus}.\")\n",
    "print(f\"The base value is {floor_division}.\")"
   ]
  },
  {
   "cell_type": "markdown",
   "id": "f22488af",
   "metadata": {},
   "source": [
    "# write a program to check if the given number is even or odd."
   ]
  },
  {
   "cell_type": "code",
   "execution_count": 47,
   "id": "483b0d18",
   "metadata": {},
   "outputs": [
    {
     "name": "stdout",
     "output_type": "stream",
     "text": [
      "Enter a number: 55\n",
      "The number 55 is odd number.\n"
     ]
    }
   ],
   "source": [
    "def even_odd(num):\n",
    "    condition = num % 2 == 0\n",
    "    return condition\n",
    "\n",
    "num = int(input(\"Enter a number: \"))\n",
    "if even_odd(num) :\n",
    "    print(f\"The number {num} is even number.\")\n",
    "    \n",
    "else:\n",
    "    print(f\"The number {num} is odd number.\")"
   ]
  },
  {
   "cell_type": "markdown",
   "id": "b540e6b8",
   "metadata": {},
   "source": [
    "# write a program to check whether the given number is 10 or not."
   ]
  },
  {
   "cell_type": "code",
   "execution_count": 54,
   "id": "7ed809d4",
   "metadata": {},
   "outputs": [
    {
     "name": "stdout",
     "output_type": "stream",
     "text": [
      "Enter a number: 10\n",
      "The number is 10.\n"
     ]
    }
   ],
   "source": [
    "def checking(num):\n",
    "    condition = num == 10\n",
    "    return condition\n",
    "\n",
    "num = int(input(\"Enter a number: \"))\n",
    "if checking(num):\n",
    "    print(f\"The number is 10.\")\n",
    "    \n",
    "else:\n",
    "    print(f\"The number is not 10 and is {num}.\")"
   ]
  },
  {
   "cell_type": "code",
   "execution_count": null,
   "id": "2c594274",
   "metadata": {},
   "outputs": [],
   "source": []
  }
 ],
 "metadata": {
  "kernelspec": {
   "display_name": "Python 3 (ipykernel)",
   "language": "python",
   "name": "python3"
  },
  "language_info": {
   "codemirror_mode": {
    "name": "ipython",
    "version": 3
   },
   "file_extension": ".py",
   "mimetype": "text/x-python",
   "name": "python",
   "nbconvert_exporter": "python",
   "pygments_lexer": "ipython3",
   "version": "3.11.1"
  }
 },
 "nbformat": 4,
 "nbformat_minor": 5
}
