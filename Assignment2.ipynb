{
 "cells": [
  {
   "cell_type": "markdown",
   "id": "bc8d828d",
   "metadata": {},
   "source": [
    "# Using string manipulation technique Extract fruits name from txt\n",
    "\n",
    "txt = \"I like Orange Apple Banana and kiwi\""
   ]
  },
  {
   "cell_type": "code",
   "execution_count": 24,
   "id": "b7b369ed",
   "metadata": {},
   "outputs": [
    {
     "data": {
      "text/plain": [
       "'    Orange Apple Banana  Kiwi'"
      ]
     },
     "execution_count": 24,
     "metadata": {},
     "output_type": "execute_result"
    }
   ],
   "source": [
    "txt = \"I like Orange Apple Banana and Kiwi\"\n",
    "txt = txt.replace(\"I\", \" \")\n",
    "txt = txt.replace(\"like\", \" \")\n",
    "txt = txt.replace(\"and\", \"\")\n",
    "txt"
   ]
  },
  {
   "cell_type": "markdown",
   "id": "c1007eb2",
   "metadata": {},
   "source": [
    "# important question"
   ]
  },
  {
   "cell_type": "code",
   "execution_count": 2,
   "id": "b6ab9dd1",
   "metadata": {},
   "outputs": [
    {
     "name": "stdout",
     "output_type": "stream",
     "text": [
      "Enter the number of rotation: 5\n",
      "The value of string1 = indiachinanepal\n",
      "string2 is rotation of string1.\n"
     ]
    }
   ],
   "source": [
    "string1 = \"NEPALINDIACHINA\"\n",
    "string2 = 'indiachinanepal'\n",
    "\n",
    "r = int(input(\"Enter the number of rotation: \"))\n",
    "\n",
    "string1 = string1.lower()[r:] + string1.lower()[:r]\n",
    "\n",
    "print(f\"The value of string1 = {string1}\")\n",
    "\n",
    "if string1 == string2:\n",
    "    print('string2 is rotation of string1.')\n",
    "\n",
    "else:\n",
    "    print(\"It is not the rotation.\")\n"
   ]
  },
  {
   "cell_type": "code",
   "execution_count": 9,
   "id": "30313216",
   "metadata": {},
   "outputs": [
    {
     "data": {
      "text/plain": [
       "['', ' Orange Apple Banana   Kiwi']"
      ]
     },
     "execution_count": 9,
     "metadata": {},
     "output_type": "execute_result"
    }
   ],
   "source": [
    "txt = \"I like Orange Apple Banana and Kiwi\"\n",
    "txt = txt.replace(\"and\", \" \")\n",
    "txt = txt.split(\"I like\")\n",
    "txt"
   ]
  },
  {
   "cell_type": "code",
   "execution_count": 3,
   "id": "8e192dbc",
   "metadata": {},
   "outputs": [
    {
     "data": {
      "text/plain": [
       "['orange', 'apple', 'banana', 'kiwi']"
      ]
     },
     "execution_count": 3,
     "metadata": {},
     "output_type": "execute_result"
    }
   ],
   "source": [
    "txt = \"I like Orange Apple Banana and Kiwi.\"\n",
    "txt = txt.lower()\n",
    "txt = txt.replace(\"i like \", '')\n",
    "txt = txt.replace(\" and\", '')\n",
    "txt = txt.replace(\".\", \"\").split()\n",
    "txt"
   ]
  },
  {
   "cell_type": "code",
   "execution_count": null,
   "id": "ef62081c",
   "metadata": {},
   "outputs": [],
   "source": []
  }
 ],
 "metadata": {
  "kernelspec": {
   "display_name": "Python 3 (ipykernel)",
   "language": "python",
   "name": "python3"
  },
  "language_info": {
   "codemirror_mode": {
    "name": "ipython",
    "version": 3
   },
   "file_extension": ".py",
   "mimetype": "text/x-python",
   "name": "python",
   "nbconvert_exporter": "python",
   "pygments_lexer": "ipython3",
   "version": "3.11.1"
  }
 },
 "nbformat": 4,
 "nbformat_minor": 5
}
