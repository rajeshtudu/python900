{
 "cells": [
  {
   "cell_type": "code",
   "execution_count": 2,
   "id": "b63a59be",
   "metadata": {},
   "outputs": [
    {
     "name": "stdout",
     "output_type": "stream",
     "text": [
      "Before a = 20\n",
      "After a = 70\n"
     ]
    }
   ],
   "source": [
    "a = 20\n",
    "print(f\"Before a = {a}\")\n",
    "a = 70\n",
    "print(f\"After a = {a}\")"
   ]
  },
  {
   "cell_type": "code",
   "execution_count": 3,
   "id": "fda9d39a",
   "metadata": {},
   "outputs": [
    {
     "name": "stdout",
     "output_type": "stream",
     "text": [
      "before x = 60.5\n",
      "after x = 61.0\n"
     ]
    }
   ],
   "source": [
    "x = 60.5\n",
    "print(f\"before x = {x}\")\n",
    "\n",
    "x = x + 0.5\n",
    "print(f\"after x = {x}\")"
   ]
  },
  {
   "cell_type": "code",
   "execution_count": null,
   "id": "5189ec41",
   "metadata": {},
   "outputs": [],
   "source": [
    "\n"
   ]
  }
 ],
 "metadata": {
  "kernelspec": {
   "display_name": "Python 3 (ipykernel)",
   "language": "python",
   "name": "python3"
  },
  "language_info": {
   "codemirror_mode": {
    "name": "ipython",
    "version": 3
   },
   "file_extension": ".py",
   "mimetype": "text/x-python",
   "name": "python",
   "nbconvert_exporter": "python",
   "pygments_lexer": "ipython3",
   "version": "3.11.1"
  }
 },
 "nbformat": 4,
 "nbformat_minor": 5
}
