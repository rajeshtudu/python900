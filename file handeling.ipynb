{
 "cells": [
  {
   "cell_type": "markdown",
   "id": "b5dc8d48",
   "metadata": {},
   "source": [
    "# File handeling\n",
    "* open()\n",
    "* read\n",
    "* write\n",
    "* append\n",
    "* create"
   ]
  },
  {
   "cell_type": "markdown",
   "id": "3768b581",
   "metadata": {},
   "source": [
    "# Opening and reading a file"
   ]
  },
  {
   "cell_type": "code",
   "execution_count": 5,
   "id": "a01115a8",
   "metadata": {},
   "outputs": [
    {
     "name": "stdout",
     "output_type": "stream",
     "text": [
      "This is the book i love to read. I will buy new edition of this book.\n",
      "\n",
      "This is the second paragraph. I will be reading again and again.\n"
     ]
    }
   ],
   "source": [
    "f = open('book.txt', 'r')\n",
    "text = f.read() # read() reads entire book\n",
    "f.close        # after opening a file you should close it\n",
    "print(text)"
   ]
  },
  {
   "cell_type": "code",
   "execution_count": 6,
   "id": "adc399b8",
   "metadata": {},
   "outputs": [],
   "source": [
    "# alternative "
   ]
  },
  {
   "cell_type": "code",
   "execution_count": 7,
   "id": "6fd587a4",
   "metadata": {},
   "outputs": [
    {
     "name": "stdout",
     "output_type": "stream",
     "text": [
      "This is the book i love to read. I will buy new edition of this book.\n",
      "\n",
      "This is the second paragraph. I will be reading again and again.\n"
     ]
    }
   ],
   "source": [
    "with open('book.txt', 'r') as f:\n",
    "    text = f.read()\n",
    "print(text)"
   ]
  },
  {
   "cell_type": "code",
   "execution_count": 8,
   "id": "dd82aac9",
   "metadata": {},
   "outputs": [],
   "source": [
    "# read first paragraph only"
   ]
  },
  {
   "cell_type": "code",
   "execution_count": 9,
   "id": "a97879dc",
   "metadata": {},
   "outputs": [
    {
     "name": "stdout",
     "output_type": "stream",
     "text": [
      "This is the book i love to read. I will buy new edition of this book.\n",
      "\n"
     ]
    }
   ],
   "source": [
    "with open('book.txt', 'r') as f:\n",
    "    text = f.readline()\n",
    "print(text)"
   ]
  },
  {
   "cell_type": "code",
   "execution_count": 10,
   "id": "28b63e5d",
   "metadata": {},
   "outputs": [],
   "source": [
    "# read paragraph wise"
   ]
  },
  {
   "cell_type": "code",
   "execution_count": 11,
   "id": "d35a6c17",
   "metadata": {},
   "outputs": [
    {
     "name": "stdout",
     "output_type": "stream",
     "text": [
      "['This is the book i love to read. I will buy new edition of this book.\\n', '\\n', 'This is the second paragraph. I will be reading again and again.']\n"
     ]
    }
   ],
   "source": [
    "with open('book.txt', 'r') as f:\n",
    "    text = f.readlines()\n",
    "print(text)"
   ]
  },
  {
   "cell_type": "code",
   "execution_count": 12,
   "id": "6626d30a",
   "metadata": {},
   "outputs": [
    {
     "data": {
      "text/plain": [
       "'This is the book i love to read. I will buy new edition of this book.\\n'"
      ]
     },
     "execution_count": 12,
     "metadata": {},
     "output_type": "execute_result"
    }
   ],
   "source": [
    "text[0]"
   ]
  },
  {
   "cell_type": "code",
   "execution_count": 13,
   "id": "2d626fb3",
   "metadata": {},
   "outputs": [
    {
     "data": {
      "text/plain": [
       "'\\n'"
      ]
     },
     "execution_count": 13,
     "metadata": {},
     "output_type": "execute_result"
    }
   ],
   "source": [
    "text[1]"
   ]
  },
  {
   "cell_type": "code",
   "execution_count": 14,
   "id": "bf2434cf",
   "metadata": {},
   "outputs": [
    {
     "data": {
      "text/plain": [
       "'This is the second paragraph. I will be reading again and again.'"
      ]
     },
     "execution_count": 14,
     "metadata": {},
     "output_type": "execute_result"
    }
   ],
   "source": [
    "text[2]"
   ]
  },
  {
   "cell_type": "markdown",
   "id": "442339e4",
   "metadata": {},
   "source": [
    "# write a new file "
   ]
  },
  {
   "cell_type": "code",
   "execution_count": 17,
   "id": "8444a6fa",
   "metadata": {},
   "outputs": [],
   "source": [
    "with open('nayakahani.txt', 'w') as f:\n",
    "    f.write(\"Yo Naya kahani book ko firs paragraph ho. Yo book exist gardena maile banako ho.\\nThis will be my first book\")"
   ]
  },
  {
   "cell_type": "code",
   "execution_count": 18,
   "id": "b42bcfe7",
   "metadata": {},
   "outputs": [
    {
     "name": "stdout",
     "output_type": "stream",
     "text": [
      "Yo Naya kahani book ko firs paragraph ho. Yo book exist gardena maile banako ho.\n",
      "This will be my first book\n"
     ]
    }
   ],
   "source": [
    "# read newly written book\n",
    "with open('nayakahani.txt', 'r') as file:\n",
    "    text = file.read()\n",
    "print(text)"
   ]
  },
  {
   "cell_type": "code",
   "execution_count": 19,
   "id": "6e1285d6",
   "metadata": {},
   "outputs": [],
   "source": [
    "# write in already existing book -- nayakahani.txt\n",
    "\n",
    "with open('nayakahani.txt', 'w') as file:\n",
    "    file.write(\"Yo book pahelei exist garxa i am creating a new one deleting old one\")"
   ]
  },
  {
   "cell_type": "code",
   "execution_count": 21,
   "id": "245df21a",
   "metadata": {},
   "outputs": [
    {
     "name": "stdout",
     "output_type": "stream",
     "text": [
      "Yo book pahelei exist garxa i am creating a new one deleting old one\n"
     ]
    }
   ],
   "source": [
    "with open('nayakahani.txt', 'r') as file:\n",
    "    text = file.read()\n",
    "print(text)"
   ]
  },
  {
   "cell_type": "markdown",
   "id": "7037af62",
   "metadata": {},
   "source": [
    "# write file in append mode"
   ]
  },
  {
   "cell_type": "code",
   "execution_count": 32,
   "id": "7671ffa9",
   "metadata": {},
   "outputs": [],
   "source": [
    "with open('append.txt', 'a') as file:\n",
    "    file.write(\"Yo file exist gardena. Append mode creates a new file if its doesnt exist\")"
   ]
  },
  {
   "cell_type": "code",
   "execution_count": 33,
   "id": "9431c987",
   "metadata": {},
   "outputs": [
    {
     "name": "stdout",
     "output_type": "stream",
     "text": [
      "Yo file exist gardena. Append mode creates a new file if its doesnt exist\n"
     ]
    }
   ],
   "source": [
    "with open('append.txt', 'r') as file:\n",
    "    text = file.read()\n",
    "print(text)"
   ]
  },
  {
   "cell_type": "code",
   "execution_count": 34,
   "id": "1049261a",
   "metadata": {},
   "outputs": [],
   "source": [
    "# now append.txt exist garxa so we want to append new text in a file\n",
    "\n",
    "with open('append.txt', 'a') as file:\n",
    "    file.write(\"Yo chai appended line ho. Append mode ma Yo vanda agadi ko text delete hudaina.\")"
   ]
  },
  {
   "cell_type": "code",
   "execution_count": 35,
   "id": "50e2331c",
   "metadata": {},
   "outputs": [
    {
     "name": "stdout",
     "output_type": "stream",
     "text": [
      "Yo file exist gardena. Append mode creates a new file if its doesnt existYo chai appended line ho. Append mode ma Yo vanda agadi ko text delete hudaina.\n"
     ]
    }
   ],
   "source": [
    "with open('append.txt', 'r') as file:\n",
    "    text = file.read()\n",
    "print(text)"
   ]
  },
  {
   "cell_type": "markdown",
   "id": "9ba1965c",
   "metadata": {},
   "source": [
    "# Introduction to os library in python"
   ]
  },
  {
   "cell_type": "code",
   "execution_count": 36,
   "id": "e3aac176",
   "metadata": {},
   "outputs": [],
   "source": [
    "import os"
   ]
  },
  {
   "cell_type": "code",
   "execution_count": 37,
   "id": "fdce10c6",
   "metadata": {},
   "outputs": [],
   "source": [
    "# suppose i want to delete append.txt file"
   ]
  },
  {
   "cell_type": "code",
   "execution_count": 38,
   "id": "a0fc455e",
   "metadata": {},
   "outputs": [],
   "source": [
    "# I should know if append.txt exist on current paht or not"
   ]
  },
  {
   "cell_type": "code",
   "execution_count": 39,
   "id": "a1e60796",
   "metadata": {},
   "outputs": [
    {
     "data": {
      "text/plain": [
       "True"
      ]
     },
     "execution_count": 39,
     "metadata": {},
     "output_type": "execute_result"
    }
   ],
   "source": [
    "os.path.exists('append.txt')"
   ]
  },
  {
   "cell_type": "code",
   "execution_count": 40,
   "id": "040b2c63",
   "metadata": {},
   "outputs": [
    {
     "name": "stdout",
     "output_type": "stream",
     "text": [
      "File removed\n"
     ]
    }
   ],
   "source": [
    "if os.path.exists('append.txt'):\n",
    "    os.remove('append.txt')\n",
    "    print('File removed')\n",
    "else:\n",
    "    print('File doesnot exist we cannot remove it.')"
   ]
  },
  {
   "cell_type": "code",
   "execution_count": 43,
   "id": "6d776b82",
   "metadata": {},
   "outputs": [
    {
     "data": {
      "text/plain": [
       "'C:\\\\Users\\\\Verkauf\\\\OneDrive\\\\Desktop\\\\python900'"
      ]
     },
     "execution_count": 43,
     "metadata": {},
     "output_type": "execute_result"
    }
   ],
   "source": [
    "# find current directory\n",
    "os.getcwd()"
   ]
  },
  {
   "cell_type": "code",
   "execution_count": 44,
   "id": "283e2571",
   "metadata": {},
   "outputs": [],
   "source": [
    "# create new folder in current directory"
   ]
  },
  {
   "cell_type": "code",
   "execution_count": 45,
   "id": "cfe078dc",
   "metadata": {},
   "outputs": [],
   "source": [
    "os.mkdir('src')"
   ]
  },
  {
   "cell_type": "code",
   "execution_count": 49,
   "id": "e7e9c349",
   "metadata": {},
   "outputs": [],
   "source": [
    "# find all directory and files in current path\n",
    "directory = os.listdir()"
   ]
  },
  {
   "cell_type": "code",
   "execution_count": 50,
   "id": "a713ba1a",
   "metadata": {},
   "outputs": [
    {
     "data": {
      "text/plain": [
       "True"
      ]
     },
     "execution_count": 50,
     "metadata": {},
     "output_type": "execute_result"
    }
   ],
   "source": [
    "'src' in directory"
   ]
  },
  {
   "cell_type": "code",
   "execution_count": 51,
   "id": "087052c3",
   "metadata": {},
   "outputs": [
    {
     "data": {
      "text/plain": [
       "['.ipynb_checkpoints',\n",
       " 'args and kwargs in python.ipynb',\n",
       " 'Arithmetic Operators Assignment.ipynb',\n",
       " 'assigning multiple values to multiple variable.ipynb',\n",
       " 'Assignment using function.ipynb',\n",
       " 'Assignment.ipynb',\n",
       " 'Assignment1.ipynb',\n",
       " 'Assignment2.ipynb',\n",
       " 'book.txt',\n",
       " 'Classwork.ipynb',\n",
       " 'comparison operator.ipynb',\n",
       " 'Conditional in python.ipynb',\n",
       " 'data types in python.ipynb',\n",
       " 'default and non default argument in python.ipynb',\n",
       " 'Dictionary in python.ipynb',\n",
       " 'dynamic typing.ipynb',\n",
       " 'exception handeling.ipynb',\n",
       " 'factorial.ipynb',\n",
       " 'file handeling.ipynb',\n",
       " 'for loop break and continue.ipynb',\n",
       " 'for loop.ipynb',\n",
       " 'Full form quiz game.ipynb',\n",
       " 'Function assigment.ipynb',\n",
       " 'function return statement.ipynb',\n",
       " 'Functions in Python.ipynb',\n",
       " 'Inheritance in python.ipynb',\n",
       " 'intro to python part2.ipynb',\n",
       " 'intro to python.ipynb',\n",
       " 'limiting behavior of variable.ipynb',\n",
       " 'list comprehension.ipynb',\n",
       " 'list method and membership operators.ipynb',\n",
       " 'logical operators in python.ipynb',\n",
       " 'nayakahani.txt',\n",
       " 'Nesting and chaining of conditional.ipynb',\n",
       " 'NoneType.ipynb',\n",
       " 'OOP class and objects.ipynb',\n",
       " 'pass.ipynb',\n",
       " 'polymorphism and operator overloading.ipynb',\n",
       " 'python list.ipynb',\n",
       " 'python string.ipynb',\n",
       " 'Recursion.ipynb',\n",
       " 'Set.ipynb',\n",
       " 'slicing in string.ipynb',\n",
       " 'src',\n",
       " 'string method.ipynb',\n",
       " 'Tuples.ipynb',\n",
       " 'updating variable values in python.ipynb',\n",
       " 'user input in python.ipynb',\n",
       " 'variable naming convention.ipynb',\n",
       " 'WAP to swap numbers.ipynb']"
      ]
     },
     "execution_count": 51,
     "metadata": {},
     "output_type": "execute_result"
    }
   ],
   "source": [
    "os.listdir()"
   ]
  },
  {
   "cell_type": "markdown",
   "id": "da190dc7",
   "metadata": {},
   "source": [
    "# file handeling and exception handeling"
   ]
  },
  {
   "cell_type": "code",
   "execution_count": 52,
   "id": "9dcfa84e",
   "metadata": {},
   "outputs": [
    {
     "ename": "FileNotFoundError",
     "evalue": "[Errno 2] No such file or directory: 'darkmatter.txt'",
     "output_type": "error",
     "traceback": [
      "\u001b[1;31m---------------------------------------------------------------------------\u001b[0m",
      "\u001b[1;31mFileNotFoundError\u001b[0m                         Traceback (most recent call last)",
      "Cell \u001b[1;32mIn[52], line 1\u001b[0m\n\u001b[1;32m----> 1\u001b[0m \u001b[38;5;28;01mwith\u001b[39;00m \u001b[38;5;28;43mopen\u001b[39;49m\u001b[43m(\u001b[49m\u001b[38;5;124;43m'\u001b[39;49m\u001b[38;5;124;43mdarkmatter.txt\u001b[39;49m\u001b[38;5;124;43m'\u001b[39;49m\u001b[43m,\u001b[49m\u001b[43m \u001b[49m\u001b[38;5;124;43m'\u001b[39;49m\u001b[38;5;124;43mr\u001b[39;49m\u001b[38;5;124;43m'\u001b[39;49m\u001b[43m)\u001b[49m \u001b[38;5;28;01mas\u001b[39;00m f:\n\u001b[0;32m      2\u001b[0m     f\u001b[38;5;241m.\u001b[39mread()\n",
      "File \u001b[1;32m~\\AppData\\Local\\Programs\\Python\\Python311\\Lib\\site-packages\\IPython\\core\\interactiveshell.py:282\u001b[0m, in \u001b[0;36m_modified_open\u001b[1;34m(file, *args, **kwargs)\u001b[0m\n\u001b[0;32m    275\u001b[0m \u001b[38;5;28;01mif\u001b[39;00m file \u001b[38;5;129;01min\u001b[39;00m {\u001b[38;5;241m0\u001b[39m, \u001b[38;5;241m1\u001b[39m, \u001b[38;5;241m2\u001b[39m}:\n\u001b[0;32m    276\u001b[0m     \u001b[38;5;28;01mraise\u001b[39;00m \u001b[38;5;167;01mValueError\u001b[39;00m(\n\u001b[0;32m    277\u001b[0m         \u001b[38;5;124mf\u001b[39m\u001b[38;5;124m\"\u001b[39m\u001b[38;5;124mIPython won\u001b[39m\u001b[38;5;124m'\u001b[39m\u001b[38;5;124mt let you open fd=\u001b[39m\u001b[38;5;132;01m{\u001b[39;00mfile\u001b[38;5;132;01m}\u001b[39;00m\u001b[38;5;124m by default \u001b[39m\u001b[38;5;124m\"\u001b[39m\n\u001b[0;32m    278\u001b[0m         \u001b[38;5;124m\"\u001b[39m\u001b[38;5;124mas it is likely to crash IPython. If you know what you are doing, \u001b[39m\u001b[38;5;124m\"\u001b[39m\n\u001b[0;32m    279\u001b[0m         \u001b[38;5;124m\"\u001b[39m\u001b[38;5;124myou can use builtins\u001b[39m\u001b[38;5;124m'\u001b[39m\u001b[38;5;124m open.\u001b[39m\u001b[38;5;124m\"\u001b[39m\n\u001b[0;32m    280\u001b[0m     )\n\u001b[1;32m--> 282\u001b[0m \u001b[38;5;28;01mreturn\u001b[39;00m \u001b[43mio_open\u001b[49m\u001b[43m(\u001b[49m\u001b[43mfile\u001b[49m\u001b[43m,\u001b[49m\u001b[43m \u001b[49m\u001b[38;5;241;43m*\u001b[39;49m\u001b[43margs\u001b[49m\u001b[43m,\u001b[49m\u001b[43m \u001b[49m\u001b[38;5;241;43m*\u001b[39;49m\u001b[38;5;241;43m*\u001b[39;49m\u001b[43mkwargs\u001b[49m\u001b[43m)\u001b[49m\n",
      "\u001b[1;31mFileNotFoundError\u001b[0m: [Errno 2] No such file or directory: 'darkmatter.txt'"
     ]
    }
   ],
   "source": [
    "with open('darkmatter.txt', 'r') as f:\n",
    "    f.read()"
   ]
  },
  {
   "cell_type": "code",
   "execution_count": 54,
   "id": "24c02f20",
   "metadata": {},
   "outputs": [
    {
     "name": "stdout",
     "output_type": "stream",
     "text": [
      "Finally is always executed\n"
     ]
    }
   ],
   "source": [
    "try:\n",
    "    f = open('darkmatter.txt', 'r')\n",
    "    data = f.read()\n",
    "        \n",
    "except Exception as e:\n",
    "    print(\"File does not exist. Creating new one\")\n",
    "    f = open('darkmatter.txt', 'a')\n",
    "    f.write(\"Yo darkmatter related file ho\")\n",
    "    \n",
    "finally:   # used to close file or flush the memory\n",
    "    f.close()\n",
    "    print(\"Finally is always executed\")"
   ]
  },
  {
   "cell_type": "code",
   "execution_count": null,
   "id": "f2457a9e",
   "metadata": {},
   "outputs": [],
   "source": []
  }
 ],
 "metadata": {
  "kernelspec": {
   "display_name": "Python 3 (ipykernel)",
   "language": "python",
   "name": "python3"
  },
  "language_info": {
   "codemirror_mode": {
    "name": "ipython",
    "version": 3
   },
   "file_extension": ".py",
   "mimetype": "text/x-python",
   "name": "python",
   "nbconvert_exporter": "python",
   "pygments_lexer": "ipython3",
   "version": "3.11.1"
  }
 },
 "nbformat": 4,
 "nbformat_minor": 5
}
