{
 "cells": [
  {
   "cell_type": "markdown",
   "id": "5fd96d27",
   "metadata": {},
   "source": [
    "# WAP to check if the user input is zero, positive and negative, and print respective message"
   ]
  },
  {
   "cell_type": "code",
   "execution_count": 1,
   "id": "5f9c2fdc",
   "metadata": {},
   "outputs": [
    {
     "name": "stdout",
     "output_type": "stream",
     "text": [
      "Enter a number: 55\n",
      "Positive\n"
     ]
    }
   ],
   "source": [
    "num = int(input(\"Enter a number: \"))\n",
    "\n",
    "if num == 0:\n",
    "    print(\"Zero\")\n",
    "    \n",
    "if num > 0:\n",
    "    print(\"Positive\")\n",
    "    \n",
    "if num < 0:\n",
    "    print(\"Negative\")"
   ]
  },
  {
   "cell_type": "markdown",
   "id": "01a37f55",
   "metadata": {},
   "source": [
    "# Nesting of conditionals"
   ]
  },
  {
   "cell_type": "code",
   "execution_count": 4,
   "id": "03918d90",
   "metadata": {},
   "outputs": [
    {
     "name": "stdout",
     "output_type": "stream",
     "text": [
      "Enter a number: 9\n",
      "The number 9 is positive.\n"
     ]
    }
   ],
   "source": [
    "num = int(input(\"Enter a number: \"))\n",
    "\n",
    "if num < 0:\n",
    "    print(f\"The number {num} is negative.\")\n",
    "    \n",
    "else:\n",
    "    if num == 0:\n",
    "        print(f\"The number {num} is zero.\")\n",
    "        \n",
    "    else:\n",
    "        print(f\"The number {num} is positive.\")"
   ]
  },
  {
   "cell_type": "markdown",
   "id": "20f4d55a",
   "metadata": {},
   "source": [
    "# Chaining of conditional, if...elif...else..."
   ]
  },
  {
   "cell_type": "code",
   "execution_count": 6,
   "id": "dc536c8b",
   "metadata": {},
   "outputs": [
    {
     "name": "stdout",
     "output_type": "stream",
     "text": [
      "Enter a number: 2\n",
      "The number 2 is Positive.\n"
     ]
    }
   ],
   "source": [
    "num = int(input(\"Enter a number: \"))\n",
    "\n",
    "if num < 0:\n",
    "    print(f\"The number {num} is Negative.\")\n",
    "    \n",
    "elif num == 0:\n",
    "    print(f\"The number {num} is Zero.\")\n",
    "    \n",
    "else:\n",
    "    print(f\"The number {num} is Positive.\")"
   ]
  },
  {
   "cell_type": "markdown",
   "id": "0b8ed0c4",
   "metadata": {},
   "source": [
    "# WAP to check if the given input is positive, negative or zero. if it is positive check even or odd and print the respective message"
   ]
  },
  {
   "cell_type": "code",
   "execution_count": 10,
   "id": "657db812",
   "metadata": {},
   "outputs": [
    {
     "name": "stdout",
     "output_type": "stream",
     "text": [
      "Enter a number: 5\n",
      "The Number 5 is positive.\n",
      "The Number 5 is Odd.\n"
     ]
    }
   ],
   "source": [
    "input_num = int(input(\"Enter a number: \"))\n",
    "\n",
    "if input_num < 0:\n",
    "    print(f\"The Number {input_num} is Negative.\")\n",
    "    \n",
    "elif input_num > 0:\n",
    "    print(f\"The Number {input_num} is positive.\")\n",
    "    \n",
    "    if input_num % 2 == 0:\n",
    "        print(f\"The Number {input_num} is Even.\")\n",
    "        \n",
    "    else:\n",
    "        print(f\"The Number {input_num} is Odd.\")\n",
    "else:\n",
    "    print(f\"The Number {input_num} is Zero.\")"
   ]
  },
  {
   "cell_type": "code",
   "execution_count": null,
   "id": "cfdfacc0",
   "metadata": {},
   "outputs": [],
   "source": []
  }
 ],
 "metadata": {
  "kernelspec": {
   "display_name": "Python 3 (ipykernel)",
   "language": "python",
   "name": "python3"
  },
  "language_info": {
   "codemirror_mode": {
    "name": "ipython",
    "version": 3
   },
   "file_extension": ".py",
   "mimetype": "text/x-python",
   "name": "python",
   "nbconvert_exporter": "python",
   "pygments_lexer": "ipython3",
   "version": "3.11.1"
  }
 },
 "nbformat": 4,
 "nbformat_minor": 5
}
