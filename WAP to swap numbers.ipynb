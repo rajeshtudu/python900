{
 "cells": [
  {
   "cell_type": "code",
   "execution_count": 5,
   "id": "6bf12dbb",
   "metadata": {},
   "outputs": [
    {
     "name": "stdout",
     "output_type": "stream",
     "text": [
      "0.36 2.5\n"
     ]
    }
   ],
   "source": [
    "# first method\n",
    "num1, num2 = 2.5, 0.36\n",
    "num = num1\n",
    "num1 = num2\n",
    "num2 = num\n",
    "print(num1, num2)"
   ]
  },
  {
   "cell_type": "code",
   "execution_count": 3,
   "id": "38c1e343",
   "metadata": {},
   "outputs": [
    {
     "name": "stdout",
     "output_type": "stream",
     "text": [
      "Enter first number: 555\n",
      "Enter second number: 666\n",
      "The value of num1 before swapping: 555\n",
      "The value of num2 before swapping: 666\n",
      "The value of num1 after swapping: 666\n",
      "The value of num2 after swapping: 555\n"
     ]
    }
   ],
   "source": [
    "# first method\n",
    "num1 = int(input(\"Enter first number: \"))\n",
    "num2 = int(input(\"Enter second number: \"))\n",
    "print(f\"The value of num1 before swapping: {num1}\")\n",
    "print(f\"The value of num2 before swapping: {num2}\")\n",
    "num = num1\n",
    "num1 = num2\n",
    "num2 = num\n",
    "print(f\"The value of num1 after swapping: {num1}\")\n",
    "print(f\"The value of num2 after swapping: {num2}\")"
   ]
  },
  {
   "cell_type": "code",
   "execution_count": 9,
   "id": "16c7a43d",
   "metadata": {},
   "outputs": [
    {
     "name": "stdout",
     "output_type": "stream",
     "text": [
      "6 5\n"
     ]
    }
   ],
   "source": [
    "# second method\n",
    "num1, num2 = 5, 6\n",
    "num = num1 + num2\n",
    "num1 = num - num1\n",
    "num2 = num - num2\n",
    "print(num1, num2)"
   ]
  },
  {
   "cell_type": "code",
   "execution_count": 6,
   "id": "b5f099ee",
   "metadata": {},
   "outputs": [
    {
     "name": "stdout",
     "output_type": "stream",
     "text": [
      "Enter first number: 12\n",
      "Enter second number: 13\n",
      "The value of num1 before swapping: 12\n",
      "The value of num2 before swapping: 13\n",
      "The value of num1 after swapping: 13.\n",
      "The value of num2 after swapping: 12.\n"
     ]
    }
   ],
   "source": [
    "# second method\n",
    "num1 = int(input(\"Enter first number: \"))\n",
    "num2 = int(input(\"Enter second number: \"))\n",
    "print(f\"The value of num1 before swapping: {num1}\")\n",
    "print(f\"The value of num2 before swapping: {num2}\")\n",
    "num = num1 + num2\n",
    "num1 = num - num1\n",
    "num2 = num - num2\n",
    "print(f\"The value of num1 after swapping: {num1}.\")\n",
    "print(f\"The value of num2 after swapping: {num2}.\")"
   ]
  },
  {
   "cell_type": "code",
   "execution_count": 7,
   "id": "52a1f289",
   "metadata": {},
   "outputs": [
    {
     "name": "stdout",
     "output_type": "stream",
     "text": [
      "2 1\n"
     ]
    }
   ],
   "source": [
    "# third method without using another variable\n",
    "num1, num2 = 1, 2\n",
    "num1, num2 = num2, num1\n",
    "print(num1, num2)"
   ]
  },
  {
   "cell_type": "code",
   "execution_count": 8,
   "id": "85891219",
   "metadata": {},
   "outputs": [
    {
     "name": "stdout",
     "output_type": "stream",
     "text": [
      "Enter first number: 8\n",
      "Enter second number: 9\n",
      "Value of num1 before swapping: 8.\n",
      "Value of num2 before swapping: 9.\n",
      "Value of num1 after swapping: 9.\n",
      "Value of num2 after swapping: 8\n"
     ]
    }
   ],
   "source": [
    "# third method without using another variable\n",
    "num1 = int(input(\"Enter first number: \"))\n",
    "num2 = int(input(\"Enter second number: \"))\n",
    "print(f\"Value of num1 before swapping: {num1}.\")\n",
    "print(f\"Value of num2 before swapping: {num2}.\")\n",
    "num1 , num2 = num2, num1\n",
    "print(f\"Value of num1 after swapping: {num1}.\")\n",
    "print(f\"Value of num2 after swapping: {num2}\")"
   ]
  }
 ],
 "metadata": {
  "kernelspec": {
   "display_name": "Python 3 (ipykernel)",
   "language": "python",
   "name": "python3"
  },
  "language_info": {
   "codemirror_mode": {
    "name": "ipython",
    "version": 3
   },
   "file_extension": ".py",
   "mimetype": "text/x-python",
   "name": "python",
   "nbconvert_exporter": "python",
   "pygments_lexer": "ipython3",
   "version": "3.11.1"
  }
 },
 "nbformat": 4,
 "nbformat_minor": 5
}
