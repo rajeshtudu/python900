{
 "cells": [
  {
   "cell_type": "markdown",
   "id": "9b3e3df6",
   "metadata": {},
   "source": [
    "# Class and objects\n"
   ]
  },
  {
   "cell_type": "code",
   "execution_count": 1,
   "id": "78306ca9",
   "metadata": {},
   "outputs": [],
   "source": [
    "# creating empty class\n",
    "class Person:\n",
    "    pass"
   ]
  },
  {
   "cell_type": "code",
   "execution_count": 2,
   "id": "181acf25",
   "metadata": {},
   "outputs": [],
   "source": [
    "p1 = Person() # p1 is object of class Person"
   ]
  },
  {
   "cell_type": "code",
   "execution_count": 5,
   "id": "4ce7a2ec",
   "metadata": {},
   "outputs": [
    {
     "name": "stdout",
     "output_type": "stream",
     "text": [
      "<class '__main__.Person'>\n"
     ]
    }
   ],
   "source": [
    "print(type(p1))"
   ]
  },
  {
   "cell_type": "code",
   "execution_count": 8,
   "id": "be6f0d31",
   "metadata": {},
   "outputs": [],
   "source": [
    "a = 5"
   ]
  },
  {
   "cell_type": "code",
   "execution_count": 9,
   "id": "e8f98a8d",
   "metadata": {},
   "outputs": [
    {
     "name": "stdout",
     "output_type": "stream",
     "text": [
      "<class 'int'>\n"
     ]
    }
   ],
   "source": [
    "print(type(a))"
   ]
  },
  {
   "cell_type": "code",
   "execution_count": 10,
   "id": "ebb1ff4d",
   "metadata": {},
   "outputs": [],
   "source": [
    "# creating empty class\n",
    "class Person:\n",
    "    pass"
   ]
  },
  {
   "cell_type": "code",
   "execution_count": 11,
   "id": "d8281adc",
   "metadata": {},
   "outputs": [
    {
     "name": "stdout",
     "output_type": "stream",
     "text": [
      "<class '__main__.Person'>\n"
     ]
    }
   ],
   "source": [
    "if __name__ == \"__main__\":\n",
    "    p1 = Person()\n",
    "    print(type(p1))"
   ]
  },
  {
   "cell_type": "code",
   "execution_count": 12,
   "id": "1becf5ac",
   "metadata": {},
   "outputs": [],
   "source": [
    "# __name__ is dunder"
   ]
  },
  {
   "cell_type": "code",
   "execution_count": 13,
   "id": "e3ca1bad",
   "metadata": {},
   "outputs": [
    {
     "data": {
      "text/plain": [
       "'__main__'"
      ]
     },
     "execution_count": 13,
     "metadata": {},
     "output_type": "execute_result"
    }
   ],
   "source": [
    "__name__"
   ]
  },
  {
   "cell_type": "markdown",
   "id": "d405e3f1",
   "metadata": {},
   "source": [
    "# Class and object attribute"
   ]
  },
  {
   "cell_type": "code",
   "execution_count": 14,
   "id": "cc6980c5",
   "metadata": {},
   "outputs": [],
   "source": [
    "class Mammal:\n",
    "    has_hair = True # class attribute"
   ]
  },
  {
   "cell_type": "code",
   "execution_count": 15,
   "id": "360a316b",
   "metadata": {},
   "outputs": [],
   "source": [
    "cow = Mammal()"
   ]
  },
  {
   "cell_type": "code",
   "execution_count": 16,
   "id": "eb6acdcd",
   "metadata": {},
   "outputs": [
    {
     "data": {
      "text/plain": [
       "True"
      ]
     },
     "execution_count": 16,
     "metadata": {},
     "output_type": "execute_result"
    }
   ],
   "source": [
    "cow.has_hair # class attribute is same for all bojects"
   ]
  },
  {
   "cell_type": "code",
   "execution_count": 17,
   "id": "c7f4a032",
   "metadata": {},
   "outputs": [],
   "source": [
    "human = Mammal()"
   ]
  },
  {
   "cell_type": "code",
   "execution_count": 18,
   "id": "5a19a7b7",
   "metadata": {},
   "outputs": [
    {
     "data": {
      "text/plain": [
       "True"
      ]
     },
     "execution_count": 18,
     "metadata": {},
     "output_type": "execute_result"
    }
   ],
   "source": [
    "human.has_hair # class attribute is same for all bojects"
   ]
  },
  {
   "cell_type": "code",
   "execution_count": 19,
   "id": "e1ff7e2a",
   "metadata": {},
   "outputs": [
    {
     "data": {
      "text/plain": [
       "140707593100136"
      ]
     },
     "execution_count": 19,
     "metadata": {},
     "output_type": "execute_result"
    }
   ],
   "source": [
    "id(cow.has_hair)"
   ]
  },
  {
   "cell_type": "code",
   "execution_count": 20,
   "id": "9d1d644b",
   "metadata": {},
   "outputs": [
    {
     "data": {
      "text/plain": [
       "140707593100136"
      ]
     },
     "execution_count": 20,
     "metadata": {},
     "output_type": "execute_result"
    }
   ],
   "source": [
    "id(human.has_hair)"
   ]
  },
  {
   "cell_type": "markdown",
   "id": "46091d3d",
   "metadata": {},
   "source": [
    "# object attribute"
   ]
  },
  {
   "cell_type": "code",
   "execution_count": 22,
   "id": "be766e17",
   "metadata": {},
   "outputs": [],
   "source": [
    "class Mammal:\n",
    "    def __init__(self, no_of_legs):\n",
    "        print(type(self))            # self is an object\n",
    "        self.no_of_legs = no_of_legs"
   ]
  },
  {
   "cell_type": "code",
   "execution_count": 24,
   "id": "c199095d",
   "metadata": {},
   "outputs": [
    {
     "name": "stdout",
     "output_type": "stream",
     "text": [
      "<class '__main__.Mammal'>\n"
     ]
    }
   ],
   "source": [
    "cow = Mammal(4)"
   ]
  },
  {
   "cell_type": "code",
   "execution_count": 25,
   "id": "dec49b91",
   "metadata": {},
   "outputs": [
    {
     "data": {
      "text/plain": [
       "4"
      ]
     },
     "execution_count": 25,
     "metadata": {},
     "output_type": "execute_result"
    }
   ],
   "source": [
    "cow.no_of_legs"
   ]
  },
  {
   "cell_type": "code",
   "execution_count": 27,
   "id": "eb8b0412",
   "metadata": {},
   "outputs": [
    {
     "name": "stdout",
     "output_type": "stream",
     "text": [
      "<class '__main__.Mammal'>\n"
     ]
    }
   ],
   "source": [
    "human = Mammal(2)"
   ]
  },
  {
   "cell_type": "code",
   "execution_count": 28,
   "id": "88fa7785",
   "metadata": {},
   "outputs": [
    {
     "data": {
      "text/plain": [
       "2"
      ]
     },
     "execution_count": 28,
     "metadata": {},
     "output_type": "execute_result"
    }
   ],
   "source": [
    "human.no_of_legs"
   ]
  },
  {
   "cell_type": "code",
   "execution_count": 29,
   "id": "7b6a57b7",
   "metadata": {},
   "outputs": [
    {
     "name": "stdout",
     "output_type": "stream",
     "text": [
      "Kshitiz\n",
      "24\n"
     ]
    }
   ],
   "source": [
    "class Person:\n",
    "    def __init__(self, name, age):\n",
    "        self.name = name\n",
    "        self.age = age\n",
    "\n",
    "p1 = Person(\"Kshitiz\", 24)\n",
    "print(p1.name)\n",
    "print(p1.age)"
   ]
  },
  {
   "cell_type": "markdown",
   "id": "33af9e2b",
   "metadata": {},
   "source": [
    "# Object methods in class"
   ]
  },
  {
   "cell_type": "code",
   "execution_count": 33,
   "id": "faca6bf0",
   "metadata": {},
   "outputs": [],
   "source": [
    "class Mammal:\n",
    "    has_hair = True # class attribute\n",
    "    \n",
    "    def __init__(self, no_of_legs): # object attribute\n",
    "        self.no_of_legs = no_of_legs\n",
    "        \n",
    "    def display(self):    # object method\n",
    "        if self.has_hair:\n",
    "            print(f\"The object has hair with {self.no_of_legs} legs\")\n",
    "            \n",
    "        else:\n",
    "            print(f\"The object has no hair with {self.no_of_legs} legs\")"
   ]
  },
  {
   "cell_type": "code",
   "execution_count": 34,
   "id": "7376835e",
   "metadata": {},
   "outputs": [],
   "source": [
    "human = Mammal(2)"
   ]
  },
  {
   "cell_type": "code",
   "execution_count": 35,
   "id": "187780f2",
   "metadata": {},
   "outputs": [
    {
     "name": "stdout",
     "output_type": "stream",
     "text": [
      "The object has hair with 2 legs\n"
     ]
    }
   ],
   "source": [
    "human.display()"
   ]
  },
  {
   "cell_type": "code",
   "execution_count": 36,
   "id": "b7e2d6c1",
   "metadata": {},
   "outputs": [],
   "source": [
    "cow = Mammal(4)"
   ]
  },
  {
   "cell_type": "code",
   "execution_count": 37,
   "id": "3acd78fa",
   "metadata": {},
   "outputs": [
    {
     "name": "stdout",
     "output_type": "stream",
     "text": [
      "The object has hair with 4 legs\n"
     ]
    }
   ],
   "source": [
    "cow.display()"
   ]
  },
  {
   "cell_type": "code",
   "execution_count": null,
   "id": "99626f75",
   "metadata": {},
   "outputs": [],
   "source": []
  }
 ],
 "metadata": {
  "kernelspec": {
   "display_name": "Python 3 (ipykernel)",
   "language": "python",
   "name": "python3"
  },
  "language_info": {
   "codemirror_mode": {
    "name": "ipython",
    "version": 3
   },
   "file_extension": ".py",
   "mimetype": "text/x-python",
   "name": "python",
   "nbconvert_exporter": "python",
   "pygments_lexer": "ipython3",
   "version": "3.11.1"
  }
 },
 "nbformat": 4,
 "nbformat_minor": 5
}
