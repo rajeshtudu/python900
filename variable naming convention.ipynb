{
 "cells": [
  {
   "cell_type": "markdown",
   "id": "b48559aa",
   "metadata": {},
   "source": [
    "# Keywords cannot be variable name\n",
    "\n",
    "* python keywords cannote be variable names"
   ]
  },
  {
   "cell_type": "code",
   "execution_count": 1,
   "id": "72df6611",
   "metadata": {},
   "outputs": [
    {
     "ename": "SyntaxError",
     "evalue": "cannot assign to False (1160946929.py, line 1)",
     "output_type": "error",
     "traceback": [
      "\u001b[1;36m  Cell \u001b[1;32mIn[1], line 1\u001b[1;36m\u001b[0m\n\u001b[1;33m    False = 0\u001b[0m\n\u001b[1;37m    ^\u001b[0m\n\u001b[1;31mSyntaxError\u001b[0m\u001b[1;31m:\u001b[0m cannot assign to False\n"
     ]
    }
   ],
   "source": [
    "False = 0"
   ]
  },
  {
   "cell_type": "code",
   "execution_count": 2,
   "id": "65020a18",
   "metadata": {},
   "outputs": [
    {
     "ename": "SyntaxError",
     "evalue": "invalid syntax (4248838980.py, line 1)",
     "output_type": "error",
     "traceback": [
      "\u001b[1;36m  Cell \u001b[1;32mIn[2], line 1\u001b[1;36m\u001b[0m\n\u001b[1;33m    global = \"hi\"\u001b[0m\n\u001b[1;37m           ^\u001b[0m\n\u001b[1;31mSyntaxError\u001b[0m\u001b[1;31m:\u001b[0m invalid syntax\n"
     ]
    }
   ],
   "source": [
    "global = \"hi\""
   ]
  },
  {
   "cell_type": "markdown",
   "id": "fb67f730",
   "metadata": {},
   "source": [
    "# Python keywords are case sensitive"
   ]
  },
  {
   "cell_type": "code",
   "execution_count": 3,
   "id": "f628c49e",
   "metadata": {},
   "outputs": [
    {
     "ename": "SyntaxError",
     "evalue": "cannot assign to False (1160946929.py, line 1)",
     "output_type": "error",
     "traceback": [
      "\u001b[1;36m  Cell \u001b[1;32mIn[3], line 1\u001b[1;36m\u001b[0m\n\u001b[1;33m    False = 0\u001b[0m\n\u001b[1;37m    ^\u001b[0m\n\u001b[1;31mSyntaxError\u001b[0m\u001b[1;31m:\u001b[0m cannot assign to False\n"
     ]
    }
   ],
   "source": [
    "False = 0"
   ]
  },
  {
   "cell_type": "code",
   "execution_count": 6,
   "id": "66d1a550",
   "metadata": {},
   "outputs": [],
   "source": [
    "false = 5 # lowercase and uppercase are different -- case sensitive"
   ]
  },
  {
   "cell_type": "code",
   "execution_count": 7,
   "id": "7478f502",
   "metadata": {},
   "outputs": [
    {
     "data": {
      "text/plain": [
       "5"
      ]
     },
     "execution_count": 7,
     "metadata": {},
     "output_type": "execute_result"
    }
   ],
   "source": [
    "false"
   ]
  },
  {
   "cell_type": "markdown",
   "id": "91b85ada",
   "metadata": {},
   "source": [
    "# We cannot use special symbols like !, @, #, $, %, etc in our identifier"
   ]
  },
  {
   "cell_type": "code",
   "execution_count": 8,
   "id": "ee0720a6",
   "metadata": {},
   "outputs": [
    {
     "ename": "SyntaxError",
     "evalue": "invalid syntax. Maybe you meant '==' or ':=' instead of '='? (1910592905.py, line 1)",
     "output_type": "error",
     "traceback": [
      "\u001b[1;36m  Cell \u001b[1;32mIn[8], line 1\u001b[1;36m\u001b[0m\n\u001b[1;33m    @name = python\u001b[0m\n\u001b[1;37m     ^\u001b[0m\n\u001b[1;31mSyntaxError\u001b[0m\u001b[1;31m:\u001b[0m invalid syntax. Maybe you meant '==' or ':=' instead of '='?\n"
     ]
    }
   ],
   "source": [
    "@name = python"
   ]
  },
  {
   "cell_type": "code",
   "execution_count": 9,
   "id": "eb553f9f",
   "metadata": {},
   "outputs": [
    {
     "ename": "SyntaxError",
     "evalue": "invalid syntax (1351983224.py, line 1)",
     "output_type": "error",
     "traceback": [
      "\u001b[1;36m  Cell \u001b[1;32mIn[9], line 1\u001b[1;36m\u001b[0m\n\u001b[1;33m    $number = 1\u001b[0m\n\u001b[1;37m    ^\u001b[0m\n\u001b[1;31mSyntaxError\u001b[0m\u001b[1;31m:\u001b[0m invalid syntax\n"
     ]
    }
   ],
   "source": [
    "$number = 1"
   ]
  },
  {
   "cell_type": "markdown",
   "id": "534c0019",
   "metadata": {},
   "source": [
    "# use digit at last"
   ]
  },
  {
   "cell_type": "code",
   "execution_count": 10,
   "id": "9cb6a6e3",
   "metadata": {},
   "outputs": [
    {
     "ename": "SyntaxError",
     "evalue": "invalid decimal literal (3721180390.py, line 1)",
     "output_type": "error",
     "traceback": [
      "\u001b[1;36m  Cell \u001b[1;32mIn[10], line 1\u001b[1;36m\u001b[0m\n\u001b[1;33m    9rollno = 'rajesh'\u001b[0m\n\u001b[1;37m    ^\u001b[0m\n\u001b[1;31mSyntaxError\u001b[0m\u001b[1;31m:\u001b[0m invalid decimal literal\n"
     ]
    }
   ],
   "source": [
    "9rollno = 'rajesh'"
   ]
  },
  {
   "cell_type": "code",
   "execution_count": 11,
   "id": "c8c1110c",
   "metadata": {},
   "outputs": [],
   "source": [
    "rollno9 = 'rajesh'"
   ]
  },
  {
   "cell_type": "code",
   "execution_count": 12,
   "id": "5924568a",
   "metadata": {},
   "outputs": [
    {
     "data": {
      "text/plain": [
       "'rajesh'"
      ]
     },
     "execution_count": 12,
     "metadata": {},
     "output_type": "execute_result"
    }
   ],
   "source": [
    "rollno9"
   ]
  },
  {
   "cell_type": "code",
   "execution_count": 13,
   "id": "47e171ff",
   "metadata": {},
   "outputs": [
    {
     "ename": "SyntaxError",
     "evalue": "invalid syntax (1755522144.py, line 1)",
     "output_type": "error",
     "traceback": [
      "\u001b[1;36m  Cell \u001b[1;32mIn[13], line 1\u001b[1;36m\u001b[0m\n\u001b[1;33m    first name = 'ram' # no space allowed\u001b[0m\n\u001b[1;37m          ^\u001b[0m\n\u001b[1;31mSyntaxError\u001b[0m\u001b[1;31m:\u001b[0m invalid syntax\n"
     ]
    }
   ],
   "source": [
    "first name = 'ram' # no space allowed"
   ]
  },
  {
   "cell_type": "code",
   "execution_count": 16,
   "id": "5087fe70",
   "metadata": {},
   "outputs": [],
   "source": [
    "first_name = 'Ram' # use underscore to join multilple words"
   ]
  },
  {
   "cell_type": "code",
   "execution_count": 17,
   "id": "0a63e0fd",
   "metadata": {},
   "outputs": [
    {
     "data": {
      "text/plain": [
       "'Ram'"
      ]
     },
     "execution_count": 17,
     "metadata": {},
     "output_type": "execute_result"
    }
   ],
   "source": [
    "first_name"
   ]
  },
  {
   "cell_type": "code",
   "execution_count": 18,
   "id": "8f4e20cd",
   "metadata": {},
   "outputs": [],
   "source": [
    "roll_no_9_test = 12"
   ]
  },
  {
   "cell_type": "code",
   "execution_count": 19,
   "id": "f91add56",
   "metadata": {},
   "outputs": [],
   "source": [
    "k_ = 55"
   ]
  },
  {
   "cell_type": "code",
   "execution_count": 20,
   "id": "666c1233",
   "metadata": {},
   "outputs": [
    {
     "data": {
      "text/plain": [
       "55"
      ]
     },
     "execution_count": 20,
     "metadata": {},
     "output_type": "execute_result"
    }
   ],
   "source": [
    "k_"
   ]
  },
  {
   "cell_type": "markdown",
   "id": "81a4669a",
   "metadata": {},
   "source": [
    "# Variables in python are case sensitive"
   ]
  },
  {
   "cell_type": "code",
   "execution_count": 21,
   "id": "ff14268a",
   "metadata": {},
   "outputs": [
    {
     "name": "stdout",
     "output_type": "stream",
     "text": [
      "a = 20\n",
      "A = 99\n"
     ]
    }
   ],
   "source": [
    "a = 20\n",
    "A = 99\n",
    "print(f'a = {a}')\n",
    "print(f'A = {A}')"
   ]
  },
  {
   "cell_type": "code",
   "execution_count": 22,
   "id": "fb1678bb",
   "metadata": {},
   "outputs": [
    {
     "name": "stdout",
     "output_type": "stream",
     "text": [
      "a = 20\n"
     ]
    }
   ],
   "source": [
    "print(\"a = {}\".format(a))"
   ]
  },
  {
   "cell_type": "code",
   "execution_count": null,
   "id": "19f39a0f",
   "metadata": {},
   "outputs": [],
   "source": []
  }
 ],
 "metadata": {
  "kernelspec": {
   "display_name": "Python 3 (ipykernel)",
   "language": "python",
   "name": "python3"
  },
  "language_info": {
   "codemirror_mode": {
    "name": "ipython",
    "version": 3
   },
   "file_extension": ".py",
   "mimetype": "text/x-python",
   "name": "python",
   "nbconvert_exporter": "python",
   "pygments_lexer": "ipython3",
   "version": "3.11.1"
  }
 },
 "nbformat": 4,
 "nbformat_minor": 5
}
