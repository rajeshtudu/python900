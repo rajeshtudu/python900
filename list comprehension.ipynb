{
 "cells": [
  {
   "cell_type": "code",
   "execution_count": 1,
   "id": "6311f4e1",
   "metadata": {},
   "outputs": [
    {
     "name": "stdout",
     "output_type": "stream",
     "text": [
      "[1, 8, 27, 64, 125, 216, 343, 512, 729]\n"
     ]
    }
   ],
   "source": [
    "data = [1, 2, 3, 4, 5, 6, 7, 8, 9]\n",
    "cube = []\n",
    "for number in data:\n",
    "    cube.append(number ** 3)\n",
    "\n",
    "print(cube)"
   ]
  },
  {
   "cell_type": "code",
   "execution_count": 2,
   "id": "a98916e7",
   "metadata": {},
   "outputs": [],
   "source": [
    "cube = [number ** 3 for number in data]"
   ]
  },
  {
   "cell_type": "code",
   "execution_count": 3,
   "id": "ec1ef1d8",
   "metadata": {},
   "outputs": [
    {
     "data": {
      "text/plain": [
       "[1, 8, 27, 64, 125, 216, 343, 512, 729]"
      ]
     },
     "execution_count": 3,
     "metadata": {},
     "output_type": "execute_result"
    }
   ],
   "source": [
    "cube"
   ]
  },
  {
   "cell_type": "markdown",
   "id": "2b9ac277",
   "metadata": {},
   "source": [
    "# syntax\n",
    "\n",
    "```python\n",
    "[expression for item in iterables]\n",
    "\n",
    "```"
   ]
  },
  {
   "cell_type": "markdown",
   "id": "acf0e35e",
   "metadata": {},
   "source": [
    "# Conditionals in list comprehension\n",
    "\n",
    "```python\n",
    "[expression for item in iterable if True]\n",
    "\n",
    "```"
   ]
  },
  {
   "cell_type": "code",
   "execution_count": 5,
   "id": "1d093d1f",
   "metadata": {},
   "outputs": [
    {
     "data": {
      "text/plain": [
       "[-5, -4, -3, -2, -1, 0, 1, 2, 3, 4, 5, 6, 7, 8, 9]"
      ]
     },
     "execution_count": 5,
     "metadata": {},
     "output_type": "execute_result"
    }
   ],
   "source": [
    "[index for index in range(-5, 10)]"
   ]
  },
  {
   "cell_type": "code",
   "execution_count": 7,
   "id": "c44a4891",
   "metadata": {},
   "outputs": [
    {
     "data": {
      "text/plain": [
       "[-5, -4, -3, -2, -1, 0, 1, 2, 3, 4, 5]"
      ]
     },
     "execution_count": 7,
     "metadata": {},
     "output_type": "execute_result"
    }
   ],
   "source": [
    "[index for index in range(-5, 10) if index <= 5]"
   ]
  },
  {
   "cell_type": "markdown",
   "id": "d38e9840",
   "metadata": {},
   "source": [
    "# Only accept the item that are not apple from fruits list"
   ]
  },
  {
   "cell_type": "code",
   "execution_count": 10,
   "id": "37246369",
   "metadata": {},
   "outputs": [
    {
     "data": {
      "text/plain": [
       "['banana', 'mango']"
      ]
     },
     "execution_count": 10,
     "metadata": {},
     "output_type": "execute_result"
    }
   ],
   "source": [
    "fruits = ['apple', 'banana', 'apple', 'mango']\n",
    "[fruit for fruit in fruits if fruit != 'apple']"
   ]
  },
  {
   "cell_type": "markdown",
   "id": "e3f6c762",
   "metadata": {},
   "source": [
    "# list comprehension with if and else\n",
    "\n",
    "```python\n",
    "[epression if True else Expression for item in iterables] \n",
    "\n",
    "```"
   ]
  },
  {
   "cell_type": "code",
   "execution_count": 11,
   "id": "2cf69066",
   "metadata": {},
   "outputs": [
    {
     "data": {
      "text/plain": [
       "[0, 0, 0, 0, 0, 0, 1, 2, 3, 4, 5, 6, 7, 8, 9]"
      ]
     },
     "execution_count": 11,
     "metadata": {},
     "output_type": "execute_result"
    }
   ],
   "source": [
    "[0 if index <= 0 else index for index in range(-5, 10)]"
   ]
  },
  {
   "cell_type": "markdown",
   "id": "0d0325a2",
   "metadata": {},
   "source": [
    "# Given a list write a program that replaces everyting with oranges if item is not banana. if it is banana keep as it is"
   ]
  },
  {
   "cell_type": "code",
   "execution_count": 13,
   "id": "297617a1",
   "metadata": {},
   "outputs": [
    {
     "name": "stdout",
     "output_type": "stream",
     "text": [
      "['orange', 'banana', 'orange', 'orange', 'orange']\n"
     ]
    }
   ],
   "source": [
    "fruits = ['apple', 'banana', 'cherry', 'kiwi', 'mango']\n",
    "newlist = [x if x == 'banana' else 'orange' for x in fruits]\n",
    "print(newlist)"
   ]
  },
  {
   "cell_type": "code",
   "execution_count": null,
   "id": "08ed5b49",
   "metadata": {},
   "outputs": [],
   "source": []
  }
 ],
 "metadata": {
  "kernelspec": {
   "display_name": "Python 3 (ipykernel)",
   "language": "python",
   "name": "python3"
  },
  "language_info": {
   "codemirror_mode": {
    "name": "ipython",
    "version": 3
   },
   "file_extension": ".py",
   "mimetype": "text/x-python",
   "name": "python",
   "nbconvert_exporter": "python",
   "pygments_lexer": "ipython3",
   "version": "3.11.1"
  }
 },
 "nbformat": 4,
 "nbformat_minor": 5
}
